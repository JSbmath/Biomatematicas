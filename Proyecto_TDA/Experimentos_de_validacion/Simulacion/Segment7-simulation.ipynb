{
 "cells": [
  {
   "cell_type": "code",
   "execution_count": 24,
   "id": "8429daca",
   "metadata": {},
   "outputs": [],
   "source": [
    "import numpy as np\n",
    "import gudhi\n",
    "import matplotlib.pyplot as plot\n",
    "import seaborn as sns\n",
    "import networkx as nx\n",
    "import plotly.graph_objects as go"
   ]
  },
  {
   "cell_type": "code",
   "execution_count": 25,
   "id": "7b1a1438",
   "metadata": {},
   "outputs": [],
   "source": [
    "def count_strains(labels):\n",
    "    strain_counts = {}\n",
    "    strain_colors = {\n",
    "        'H3N2': 'blue',\n",
    "        'H1N1': 'orange',\n",
    "        'H1N2': 'green',\n",
    "        'H3N1' : 'yellow',\n",
    "    }\n",
    "    for label in labels:\n",
    "        strain = label.split('(')[1].split(')')[0]  # Extrae la cepa entre paréntesis\n",
    "        strain_counts[strain] = strain_counts.get(strain, 0) + 1\n",
    "    print(\"Número de secuencias para la prueba:\")\n",
    "    for strain, count in strain_counts.items():\n",
    "        color = strain_colors.get(strain, 'gray')\n",
    "        print(f\"{strain} = {count} ({color})\")\n",
    "    return strain_colors"
   ]
  },
  {
   "cell_type": "code",
   "execution_count": 26,
   "id": "b822488a",
   "metadata": {},
   "outputs": [],
   "source": [
    "def visualize_simplicial_complex(simplex_tree, filtration_value, vertex_names=None, save_filename=None, plot_size=1000):\n",
    "    G = nx.Graph()\n",
    "    triangles = []\n",
    "    tetrahedra = []\n",
    "    edges = []\n",
    "    hole_2d_simplices = []\n",
    "\n",
    "    # Encontrar el agujero 2D\n",
    "    persistence_2 = simplex_tree.persistence_intervals_in_dimension(2)\n",
    "    hole_birth = None\n",
    "    if len(persistence_2) > 0:\n",
    "        hole_birth = persistence_2[0][0]  # Asumiendo que solo hay un agujero 2D\n",
    "\n",
    "    # Procesar cada simplex en el árbol de simplex\n",
    "    for simplex, filt in simplex_tree.get_filtration():\n",
    "        if filt <= filtration_value:\n",
    "            if len(simplex) == 2:\n",
    "                G.add_edge(simplex[0], simplex[1])\n",
    "                edges.append(simplex)\n",
    "            elif len(simplex) == 1:\n",
    "                G.add_node(simplex[0])\n",
    "            elif len(simplex) == 3:\n",
    "                triangles.append(simplex)\n",
    "                if hole_birth is not None and filt == hole_birth:\n",
    "                    hole_2d_simplices.append(simplex)\n",
    "            elif len(simplex) == 4:\n",
    "                tetrahedra.append(simplex)\n",
    "\n",
    "    # El resto de la función permanece igual...\n",
    "    \n",
    "    # Crear layout del grafo\n",
    "    pos = nx.spring_layout(G, dim=3)\n",
    "\n",
    "    # Obtener los colores de las cepas\n",
    "    strain_colors = count_strains(vertex_names)\n",
    "\n",
    "    # Crear trazas para nodos\n",
    "    node_x, node_y, node_z = zip(*[pos[node] for node in G.nodes()])\n",
    "    node_labels = [vertex_names[node] if vertex_names else str(node) for node in G.nodes()]\n",
    "    node_colors = [strain_colors.get(label.split('(')[1].split(')')[0], 'gray') for label in node_labels]\n",
    "    node_trace = go.Scatter3d(x=node_x, y=node_y, z=node_z, mode='markers+text', \n",
    "                              marker=dict(size=5, color=node_colors),\n",
    "                              text=node_labels, textposition=\"top center\", \n",
    "                              hoverinfo='text')\n",
    "\n",
    "    # Crear trazas para aristas\n",
    "    edge_x, edge_y, edge_z = [], [], []\n",
    "    edge_colors = []\n",
    "    for edge in G.edges():\n",
    "        x0, y0, z0 = pos[edge[0]]\n",
    "        x1, y1, z1 = pos[edge[1]]\n",
    "        edge_x.extend([x0, x1, None])\n",
    "        edge_y.extend([y0, y1, None])\n",
    "        edge_z.extend([z0, z1, None])\n",
    "        # Comprobar si esta arista es parte del agujero 2D\n",
    "        is_hole_edge = any(set(edge).issubset(triangle) for triangle in hole_2d_simplices)\n",
    "        edge_colors.extend(['yellow' if is_hole_edge else 'black'] * 3)\n",
    "    edge_trace = go.Scatter3d(x=edge_x, y=edge_y, z=edge_z, mode='lines', \n",
    "                              line=dict(width=2, color=edge_colors), hoverinfo='none')\n",
    "\n",
    "    # Crear trazas para triángulos\n",
    "    triangle_traces = []\n",
    "    for triangle in triangles:\n",
    "        x = [pos[v][0] for v in triangle]\n",
    "        y = [pos[v][1] for v in triangle]\n",
    "        z = [pos[v][2] for v in triangle]\n",
    "        color = 'yellow' if triangle in hole_2d_simplices else 'red'\n",
    "        opacity = 0.7 if triangle in hole_2d_simplices else 0.3\n",
    "        triangle_trace = go.Mesh3d(x=x, y=y, z=z, opacity=opacity, color=color)\n",
    "        triangle_traces.append(triangle_trace)\n",
    "\n",
    "    # Crear trazas para tetraedros\n",
    "    tetrahedra_traces = []\n",
    "    for tetrahedron in tetrahedra:\n",
    "        x = [pos[v][0] for v in tetrahedron]\n",
    "        y = [pos[v][1] for v in tetrahedron]\n",
    "        z = [pos[v][2] for v in tetrahedron]\n",
    "        tetrahedron_trace = go.Mesh3d(x=x, y=y, z=z, opacity=0.1, color='green')\n",
    "        tetrahedra_traces.append(tetrahedron_trace)\n",
    "\n",
    "    # Configurar el layout\n",
    "    layout = go.Layout(\n",
    "        scene=dict(\n",
    "            xaxis=dict(visible=False),\n",
    "            yaxis=dict(visible=False),\n",
    "            zaxis=dict(visible=False)\n",
    "        ),\n",
    "        margin=dict(r=0, l=0, b=0, t=0),\n",
    "        showlegend=False\n",
    "    )\n",
    "\n",
    "    # Crear la figura y añadir las trazas\n",
    "    fig = go.Figure(data=[node_trace, edge_trace] + triangle_traces + tetrahedra_traces, layout=layout)\n",
    "\n",
    "    fig.update_layout(width=plot_size, height=plot_size)\n",
    "\n",
    "    if save_filename:\n",
    "        fig.write_image(save_filename, width=plot_size, height=plot_size, scale=1)\n",
    "\n",
    "    fig.show()\n",
    "\n",
    "    return G"
   ]
  },
  {
   "cell_type": "code",
   "execution_count": 27,
   "id": "83e62dfc",
   "metadata": {},
   "outputs": [],
   "source": [
    "sG3 = np.array([\n",
    "    [  0.,   9., 136.,  53., 129.,   136.],\n",
    "    [  9.,   0., 137.,  55., 130.,   137.],\n",
    "    [136., 137.,   0., 114.,  11.,     0.],\n",
    "    [ 53.,  55., 114.,   0., 111.,   114.],\n",
    "    [129., 130.,  11., 111.,   0.,    11.],\n",
    "    [136., 137.,   0., 114.,  11.,     0.]\n",
    "])\n",
    "\n",
    "\n",
    "\n",
    "\n",
    "\n",
    "# Convertir la lista a una matriz NumPy\n",
    "sG3 = np.array(sG3)"
   ]
  },
  {
   "cell_type": "code",
   "execution_count": 28,
   "id": "deb3c49d",
   "metadata": {},
   "outputs": [
    {
     "data": {
      "image/png": "[encoded data removed]",
      "text/plain": [
       "<Figure size 1000x800 with 2 Axes>"
      ]
     },
     "metadata": {},
     "output_type": "display_data"
    }
   ],
   "source": [
    "# Definir las etiquetas para las columnas y filas\n",
    "labels = [\n",
    "    'A/Victoria/361/2011(H3N2)',\n",
    "    'A/Perth/16/2009(H3N2)',\n",
    "    'A/Michigan/45/2015(H1N1)',\n",
    "    'A/Hong Kong/1968(H3N2) ',\n",
    "    'A/California/07/2009(H1N1)',\n",
    "    'A/Test/?/201?(H3N1)'\n",
    "]\n",
    "\n",
    "# Crear la figura del mapa de calor\n",
    "fig, ax = plot.subplots(1, 1, figsize=(10, 8))\n",
    "im = ax.imshow(sG3, cmap='hot')\n",
    "ax.set_title('Segmento 7 Proteína de matriz M1 y Proteína de canal iónico M2')\n",
    "ax.set_xticks(np.arange(len(labels)))\n",
    "ax.set_yticks(np.arange(len(labels)))\n",
    "ax.set_xticklabels(labels, rotation=45, ha='right')\n",
    "ax.set_yticklabels(labels)\n",
    "cbar = fig.colorbar(im, ax=ax)\n",
    "plot.tight_layout()\n",
    "plot.show()"
   ]
  },
  {
   "cell_type": "code",
   "execution_count": 29,
   "id": "7205e344",
   "metadata": {},
   "outputs": [
    {
     "name": "stdout",
     "output_type": "stream",
     "text": [
      "#####################################################################\n",
      "RipsComplex creation from defined distance matrix G3\n"
     ]
    }
   ],
   "source": [
    "max_edge_length = 2300\n",
    "max_dimension = 5\n",
    "band = 0.0\n",
    "\n",
    "print(\"#####################################################################\")\n",
    "print(\"RipsComplex creation from defined distance matrix G3\")"
   ]
  },
  {
   "cell_type": "code",
   "execution_count": 30,
   "id": "cc6bf709",
   "metadata": {},
   "outputs": [
    {
     "name": "stdout",
     "output_type": "stream",
     "text": [
      "Number of simplices=63\n",
      "betti_numbers()=\n",
      "[1, 0, 0, 0, 0]\n"
     ]
    }
   ],
   "source": [
    "# Crear el complejo de Rips\n",
    "rips_complex = gudhi.RipsComplex(distance_matrix=sG3, max_edge_length=max_edge_length)\n",
    "\n",
    "# Crear el árbol de simplex\n",
    "simplex_tree = rips_complex.create_simplex_tree(max_dimension=max_dimension)\n",
    "\n",
    "message = \"Number of simplices=\" + repr(simplex_tree.num_simplices()) \n",
    "print(message)\n",
    "\n",
    "# Calcular la persistencia\n",
    "diag = simplex_tree.persistence()\n",
    "\n",
    "print(\"betti_numbers()=\")\n",
    "print(simplex_tree.betti_numbers())"
   ]
  },
  {
   "cell_type": "code",
   "execution_count": 31,
   "id": "aab5928e",
   "metadata": {},
   "outputs": [
    {
     "data": {
      "image/png": "[encoded data removed]",
      "text/plain": [
       "<Figure size 640x480 with 1 Axes>"
      ]
     },
     "metadata": {},
     "output_type": "display_data"
    }
   ],
   "source": [
    "gudhi.plot_persistence_diagram(diag, band=band)\n",
    "plot.title(\"Segmento 7\") \n",
    "plot.show()"
   ]
  },
  {
   "cell_type": "code",
   "execution_count": 32,
   "id": "784c6cfa",
   "metadata": {},
   "outputs": [
    {
     "data": {
      "image/png": "[encoded data removed]",
      "text/plain": [
       "<Figure size 640x480 with 1 Axes>"
      ]
     },
     "metadata": {},
     "output_type": "display_data"
    }
   ],
   "source": [
    "gudhi.plot_persistence_barcode(diag)\n",
    "plot.show()"
   ]
  },
  {
   "cell_type": "code",
   "execution_count": 33,
   "id": "f12e9c7a",
   "metadata": {},
   "outputs": [
    {
     "name": "stdout",
     "output_type": "stream",
     "text": [
      "Visualizing 3D simplicial complex at filtration time 150\n",
      "Número de secuencias para la prueba:\n",
      "H3N2 = 3 (blue)\n",
      "H1N1 = 2 (orange)\n",
      "H3N1 = 1 (yellow)\n"
     ]
    },
    {
     "data": {
      "application/vnd.plotly.v1+json": {
       "config": {
        "plotlyServerURL": "https://plot.ly"
       },
       "data": [
        {
         "hoverinfo": "text",
         "marker": {
          "color": [
           "blue",
           "blue",
           "orange",
           "blue",
           "orange",
           "yellow"
          ],
          "size": 5
         },
         "mode": "markers+text",
         "text": [
          "A/Victoria/361/2011(H3N2)",
          "A/Perth/16/2009(H3N2)",
          "A/Michigan/45/2015(H1N1)",
          "A/Hong Kong/1968(H3N2) ",
          "A/California/07/2009(H1N1)",
          "A/Test/?/201?(H3N1)"
         ],
         "textposition": "top center",
         "type": "scatter3d",
         "x": [
          -0.25754316675348593,
          -1,
          0.2577752942480702,
          0.9998745188915569,
          0.7622926746187584,
          -0.7623993210048999
         ],
         "y": [
          -0.9787915081946286,
          -0.3354023730235329,
          0.9788127798813394,
          0.33525286378248975,
          -0.7553343688326344,
          0.7554626063869682
         ],
         "z": [
          0.7905692041552295,
          -0.7409716675357008,
          -0.7905192179306479,
          0.7412029481946285,
          -0.686958915405037,
          0.6866776485215283
         ]
        },
        {
         "hoverinfo": "none",
         "line": {
          "color": [
           "black",
           "black",
           "black",
           "black",
           "black",
           "black",
           "black",
           "black",
           "black",
           "black",
           "black",
           "black",
           "black",
           "black",
           "black",
           "black",
           "black",
           "black",
           "black",
           "black",
           "black",
           "black",
           "black",
           "black",
           "black",
           "black",
           "black",
           "black",
           "black",
           "black",
           "black",
           "black",
           "black",
           "black",
           "black",
           "black",
           "black",
           "black",
           "black",
           "black",
           "black",
           "black",
           "black",
           "black",
           "black"
          ],
          "width": 2
         },
         "mode": "lines",
         "type": "scatter3d",
         "x": [
          -0.25754316675348593,
          -1,
          null,
          -0.25754316675348593,
          0.9998745188915569,
          null,
          -0.25754316675348593,
          0.7622926746187584,
          null,
          -0.25754316675348593,
          0.2577752942480702,
          null,
          -0.25754316675348593,
          -0.7623993210048999,
          null,
          -1,
          0.9998745188915569,
          null,
          -1,
          0.7622926746187584,
          null,
          -1,
          0.2577752942480702,
          null,
          -1,
          -0.7623993210048999,
          null,
          0.2577752942480702,
          -0.7623993210048999,
          null,
          0.2577752942480702,
          0.7622926746187584,
          null,
          0.2577752942480702,
          0.9998745188915569,
          null,
          0.9998745188915569,
          0.7622926746187584,
          null,
          0.9998745188915569,
          -0.7623993210048999,
          null,
          0.7622926746187584,
          -0.7623993210048999,
          null
         ],
         "y": [
          -0.9787915081946286,
          -0.3354023730235329,
          null,
          -0.9787915081946286,
          0.33525286378248975,
          null,
          -0.9787915081946286,
          -0.7553343688326344,
          null,
          -0.9787915081946286,
          0.9788127798813394,
          null,
          -0.9787915081946286,
          0.7554626063869682,
          null,
          -0.3354023730235329,
          0.33525286378248975,
          null,
          -0.3354023730235329,
          -0.7553343688326344,
          null,
          -0.3354023730235329,
          0.9788127798813394,
          null,
          -0.3354023730235329,
          0.7554626063869682,
          null,
          0.9788127798813394,
          0.7554626063869682,
          null,
          0.9788127798813394,
          -0.7553343688326344,
          null,
          0.9788127798813394,
          0.33525286378248975,
          null,
          0.33525286378248975,
          -0.7553343688326344,
          null,
          0.33525286378248975,
          0.7554626063869682,
          null,
          -0.7553343688326344,
          0.7554626063869682,
          null
         ],
         "z": [
          0.7905692041552295,
          -0.7409716675357008,
          null,
          0.7905692041552295,
          0.7412029481946285,
          null,
          0.7905692041552295,
          -0.686958915405037,
          null,
          0.7905692041552295,
          -0.7905192179306479,
          null,
          0.7905692041552295,
          0.6866776485215283,
          null,
          -0.7409716675357008,
          0.7412029481946285,
          null,
          -0.7409716675357008,
          -0.686958915405037,
          null,
          -0.7409716675357008,
          -0.7905192179306479,
          null,
          -0.7409716675357008,
          0.6866776485215283,
          null,
          -0.7905192179306479,
          0.6866776485215283,
          null,
          -0.7905192179306479,
          -0.686958915405037,
          null,
          -0.7905192179306479,
          0.7412029481946285,
          null,
          0.7412029481946285,
          -0.686958915405037,
          null,
          0.7412029481946285,
          0.6866776485215283,
          null,
          -0.686958915405037,
          0.6866776485215283,
          null
         ]
        },
        {
         "color": "red",
         "opacity": 0.3,
         "type": "mesh3d",
         "x": [
          0.2577752942480702,
          0.7622926746187584,
          -0.7623993210048999
         ],
         "y": [
          0.9788127798813394,
          -0.7553343688326344,
          0.7554626063869682
         ],
         "z": [
          -0.7905192179306479,
          -0.686958915405037,
          0.6866776485215283
         ]
        },
        {
         "color": "red",
         "opacity": 0.3,
         "type": "mesh3d",
         "x": [
          -0.25754316675348593,
          -1,
          0.9998745188915569
         ],
         "y": [
          -0.9787915081946286,
          -0.3354023730235329,
          0.33525286378248975
         ],
         "z": [
          0.7905692041552295,
          -0.7409716675357008,
          0.7412029481946285
         ]
        },
        {
         "color": "red",
         "opacity": 0.3,
         "type": "mesh3d",
         "x": [
          0.2577752942480702,
          0.9998745188915569,
          0.7622926746187584
         ],
         "y": [
          0.9788127798813394,
          0.33525286378248975,
          -0.7553343688326344
         ],
         "z": [
          -0.7905192179306479,
          0.7412029481946285,
          -0.686958915405037
         ]
        },
        {
         "color": "red",
         "opacity": 0.3,
         "type": "mesh3d",
         "x": [
          0.2577752942480702,
          0.9998745188915569,
          -0.7623993210048999
         ],
         "y": [
          0.9788127798813394,
          0.33525286378248975,
          0.7554626063869682
         ],
         "z": [
          -0.7905192179306479,
          0.7412029481946285,
          0.6866776485215283
         ]
        },
        {
         "color": "red",
         "opacity": 0.3,
         "type": "mesh3d",
         "x": [
          0.9998745188915569,
          0.7622926746187584,
          -0.7623993210048999
         ],
         "y": [
          0.33525286378248975,
          -0.7553343688326344,
          0.7554626063869682
         ],
         "z": [
          0.7412029481946285,
          -0.686958915405037,
          0.6866776485215283
         ]
        },
        {
         "color": "red",
         "opacity": 0.3,
         "type": "mesh3d",
         "x": [
          -0.25754316675348593,
          0.9998745188915569,
          0.7622926746187584
         ],
         "y": [
          -0.9787915081946286,
          0.33525286378248975,
          -0.7553343688326344
         ],
         "z": [
          0.7905692041552295,
          0.7412029481946285,
          -0.686958915405037
         ]
        },
        {
         "color": "red",
         "opacity": 0.3,
         "type": "mesh3d",
         "x": [
          -0.25754316675348593,
          -1,
          0.7622926746187584
         ],
         "y": [
          -0.9787915081946286,
          -0.3354023730235329,
          -0.7553343688326344
         ],
         "z": [
          0.7905692041552295,
          -0.7409716675357008,
          -0.686958915405037
         ]
        },
        {
         "color": "red",
         "opacity": 0.3,
         "type": "mesh3d",
         "x": [
          -1,
          0.9998745188915569,
          0.7622926746187584
         ],
         "y": [
          -0.3354023730235329,
          0.33525286378248975,
          -0.7553343688326344
         ],
         "z": [
          -0.7409716675357008,
          0.7412029481946285,
          -0.686958915405037
         ]
        },
        {
         "color": "red",
         "opacity": 0.3,
         "type": "mesh3d",
         "x": [
          -0.25754316675348593,
          0.2577752942480702,
          0.9998745188915569
         ],
         "y": [
          -0.9787915081946286,
          0.9788127798813394,
          0.33525286378248975
         ],
         "z": [
          0.7905692041552295,
          -0.7905192179306479,
          0.7412029481946285
         ]
        },
        {
         "color": "red",
         "opacity": 0.3,
         "type": "mesh3d",
         "x": [
          -0.25754316675348593,
          0.2577752942480702,
          0.7622926746187584
         ],
         "y": [
          -0.9787915081946286,
          0.9788127798813394,
          -0.7553343688326344
         ],
         "z": [
          0.7905692041552295,
          -0.7905192179306479,
          -0.686958915405037
         ]
        },
        {
         "color": "red",
         "opacity": 0.3,
         "type": "mesh3d",
         "x": [
          -0.25754316675348593,
          0.2577752942480702,
          -0.7623993210048999
         ],
         "y": [
          -0.9787915081946286,
          0.9788127798813394,
          0.7554626063869682
         ],
         "z": [
          0.7905692041552295,
          -0.7905192179306479,
          0.6866776485215283
         ]
        },
        {
         "color": "red",
         "opacity": 0.3,
         "type": "mesh3d",
         "x": [
          -0.25754316675348593,
          0.9998745188915569,
          -0.7623993210048999
         ],
         "y": [
          -0.9787915081946286,
          0.33525286378248975,
          0.7554626063869682
         ],
         "z": [
          0.7905692041552295,
          0.7412029481946285,
          0.6866776485215283
         ]
        },
        {
         "color": "red",
         "opacity": 0.3,
         "type": "mesh3d",
         "x": [
          -0.25754316675348593,
          0.7622926746187584,
          -0.7623993210048999
         ],
         "y": [
          -0.9787915081946286,
          -0.7553343688326344,
          0.7554626063869682
         ],
         "z": [
          0.7905692041552295,
          -0.686958915405037,
          0.6866776485215283
         ]
        },
        {
         "color": "red",
         "opacity": 0.3,
         "type": "mesh3d",
         "x": [
          -0.25754316675348593,
          -1,
          0.2577752942480702
         ],
         "y": [
          -0.9787915081946286,
          -0.3354023730235329,
          0.9788127798813394
         ],
         "z": [
          0.7905692041552295,
          -0.7409716675357008,
          -0.7905192179306479
         ]
        },
        {
         "color": "red",
         "opacity": 0.3,
         "type": "mesh3d",
         "x": [
          -1,
          0.2577752942480702,
          0.9998745188915569
         ],
         "y": [
          -0.3354023730235329,
          0.9788127798813394,
          0.33525286378248975
         ],
         "z": [
          -0.7409716675357008,
          -0.7905192179306479,
          0.7412029481946285
         ]
        },
        {
         "color": "red",
         "opacity": 0.3,
         "type": "mesh3d",
         "x": [
          -1,
          0.2577752942480702,
          0.7622926746187584
         ],
         "y": [
          -0.3354023730235329,
          0.9788127798813394,
          -0.7553343688326344
         ],
         "z": [
          -0.7409716675357008,
          -0.7905192179306479,
          -0.686958915405037
         ]
        },
        {
         "color": "red",
         "opacity": 0.3,
         "type": "mesh3d",
         "x": [
          -0.25754316675348593,
          -1,
          -0.7623993210048999
         ],
         "y": [
          -0.9787915081946286,
          -0.3354023730235329,
          0.7554626063869682
         ],
         "z": [
          0.7905692041552295,
          -0.7409716675357008,
          0.6866776485215283
         ]
        },
        {
         "color": "red",
         "opacity": 0.3,
         "type": "mesh3d",
         "x": [
          -1,
          0.2577752942480702,
          -0.7623993210048999
         ],
         "y": [
          -0.3354023730235329,
          0.9788127798813394,
          0.7554626063869682
         ],
         "z": [
          -0.7409716675357008,
          -0.7905192179306479,
          0.6866776485215283
         ]
        },
        {
         "color": "red",
         "opacity": 0.3,
         "type": "mesh3d",
         "x": [
          -1,
          0.9998745188915569,
          -0.7623993210048999
         ],
         "y": [
          -0.3354023730235329,
          0.33525286378248975,
          0.7554626063869682
         ],
         "z": [
          -0.7409716675357008,
          0.7412029481946285,
          0.6866776485215283
         ]
        },
        {
         "color": "red",
         "opacity": 0.3,
         "type": "mesh3d",
         "x": [
          -1,
          0.7622926746187584,
          -0.7623993210048999
         ],
         "y": [
          -0.3354023730235329,
          -0.7553343688326344,
          0.7554626063869682
         ],
         "z": [
          -0.7409716675357008,
          -0.686958915405037,
          0.6866776485215283
         ]
        },
        {
         "color": "green",
         "opacity": 0.1,
         "type": "mesh3d",
         "x": [
          0.2577752942480702,
          0.9998745188915569,
          0.7622926746187584,
          -0.7623993210048999
         ],
         "y": [
          0.9788127798813394,
          0.33525286378248975,
          -0.7553343688326344,
          0.7554626063869682
         ],
         "z": [
          -0.7905192179306479,
          0.7412029481946285,
          -0.686958915405037,
          0.6866776485215283
         ]
        },
        {
         "color": "green",
         "opacity": 0.1,
         "type": "mesh3d",
         "x": [
          -0.25754316675348593,
          -1,
          0.9998745188915569,
          0.7622926746187584
         ],
         "y": [
          -0.9787915081946286,
          -0.3354023730235329,
          0.33525286378248975,
          -0.7553343688326344
         ],
         "z": [
          0.7905692041552295,
          -0.7409716675357008,
          0.7412029481946285,
          -0.686958915405037
         ]
        },
        {
         "color": "green",
         "opacity": 0.1,
         "type": "mesh3d",
         "x": [
          -0.25754316675348593,
          0.2577752942480702,
          0.9998745188915569,
          0.7622926746187584
         ],
         "y": [
          -0.9787915081946286,
          0.9788127798813394,
          0.33525286378248975,
          -0.7553343688326344
         ],
         "z": [
          0.7905692041552295,
          -0.7905192179306479,
          0.7412029481946285,
          -0.686958915405037
         ]
        },
        {
         "color": "green",
         "opacity": 0.1,
         "type": "mesh3d",
         "x": [
          -0.25754316675348593,
          0.2577752942480702,
          0.9998745188915569,
          -0.7623993210048999
         ],
         "y": [
          -0.9787915081946286,
          0.9788127798813394,
          0.33525286378248975,
          0.7554626063869682
         ],
         "z": [
          0.7905692041552295,
          -0.7905192179306479,
          0.7412029481946285,
          0.6866776485215283
         ]
        },
        {
         "color": "green",
         "opacity": 0.1,
         "type": "mesh3d",
         "x": [
          -0.25754316675348593,
          0.2577752942480702,
          0.7622926746187584,
          -0.7623993210048999
         ],
         "y": [
          -0.9787915081946286,
          0.9788127798813394,
          -0.7553343688326344,
          0.7554626063869682
         ],
         "z": [
          0.7905692041552295,
          -0.7905192179306479,
          -0.686958915405037,
          0.6866776485215283
         ]
        },
        {
         "color": "green",
         "opacity": 0.1,
         "type": "mesh3d",
         "x": [
          -0.25754316675348593,
          0.9998745188915569,
          0.7622926746187584,
          -0.7623993210048999
         ],
         "y": [
          -0.9787915081946286,
          0.33525286378248975,
          -0.7553343688326344,
          0.7554626063869682
         ],
         "z": [
          0.7905692041552295,
          0.7412029481946285,
          -0.686958915405037,
          0.6866776485215283
         ]
        },
        {
         "color": "green",
         "opacity": 0.1,
         "type": "mesh3d",
         "x": [
          -0.25754316675348593,
          -1,
          0.2577752942480702,
          0.9998745188915569
         ],
         "y": [
          -0.9787915081946286,
          -0.3354023730235329,
          0.9788127798813394,
          0.33525286378248975
         ],
         "z": [
          0.7905692041552295,
          -0.7409716675357008,
          -0.7905192179306479,
          0.7412029481946285
         ]
        },
        {
         "color": "green",
         "opacity": 0.1,
         "type": "mesh3d",
         "x": [
          -0.25754316675348593,
          -1,
          0.2577752942480702,
          0.7622926746187584
         ],
         "y": [
          -0.9787915081946286,
          -0.3354023730235329,
          0.9788127798813394,
          -0.7553343688326344
         ],
         "z": [
          0.7905692041552295,
          -0.7409716675357008,
          -0.7905192179306479,
          -0.686958915405037
         ]
        },
        {
         "color": "green",
         "opacity": 0.1,
         "type": "mesh3d",
         "x": [
          -1,
          0.2577752942480702,
          0.9998745188915569,
          0.7622926746187584
         ],
         "y": [
          -0.3354023730235329,
          0.9788127798813394,
          0.33525286378248975,
          -0.7553343688326344
         ],
         "z": [
          -0.7409716675357008,
          -0.7905192179306479,
          0.7412029481946285,
          -0.686958915405037
         ]
        },
        {
         "color": "green",
         "opacity": 0.1,
         "type": "mesh3d",
         "x": [
          -0.25754316675348593,
          -1,
          0.2577752942480702,
          -0.7623993210048999
         ],
         "y": [
          -0.9787915081946286,
          -0.3354023730235329,
          0.9788127798813394,
          0.7554626063869682
         ],
         "z": [
          0.7905692041552295,
          -0.7409716675357008,
          -0.7905192179306479,
          0.6866776485215283
         ]
        },
        {
         "color": "green",
         "opacity": 0.1,
         "type": "mesh3d",
         "x": [
          -0.25754316675348593,
          -1,
          0.9998745188915569,
          -0.7623993210048999
         ],
         "y": [
          -0.9787915081946286,
          -0.3354023730235329,
          0.33525286378248975,
          0.7554626063869682
         ],
         "z": [
          0.7905692041552295,
          -0.7409716675357008,
          0.7412029481946285,
          0.6866776485215283
         ]
        },
        {
         "color": "green",
         "opacity": 0.1,
         "type": "mesh3d",
         "x": [
          -1,
          0.2577752942480702,
          0.9998745188915569,
          -0.7623993210048999
         ],
         "y": [
          -0.3354023730235329,
          0.9788127798813394,
          0.33525286378248975,
          0.7554626063869682
         ],
         "z": [
          -0.7409716675357008,
          -0.7905192179306479,
          0.7412029481946285,
          0.6866776485215283
         ]
        },
        {
         "color": "green",
         "opacity": 0.1,
         "type": "mesh3d",
         "x": [
          -0.25754316675348593,
          -1,
          0.7622926746187584,
          -0.7623993210048999
         ],
         "y": [
          -0.9787915081946286,
          -0.3354023730235329,
          -0.7553343688326344,
          0.7554626063869682
         ],
         "z": [
          0.7905692041552295,
          -0.7409716675357008,
          -0.686958915405037,
          0.6866776485215283
         ]
        },
        {
         "color": "green",
         "opacity": 0.1,
         "type": "mesh3d",
         "x": [
          -1,
          0.2577752942480702,
          0.7622926746187584,
          -0.7623993210048999
         ],
         "y": [
          -0.3354023730235329,
          0.9788127798813394,
          -0.7553343688326344,
          0.7554626063869682
         ],
         "z": [
          -0.7409716675357008,
          -0.7905192179306479,
          -0.686958915405037,
          0.6866776485215283
         ]
        },
        {
         "color": "green",
         "opacity": 0.1,
         "type": "mesh3d",
         "x": [
          -1,
          0.9998745188915569,
          0.7622926746187584,
          -0.7623993210048999
         ],
         "y": [
          -0.3354023730235329,
          0.33525286378248975,
          -0.7553343688326344,
          0.7554626063869682
         ],
         "z": [
          -0.7409716675357008,
          0.7412029481946285,
          -0.686958915405037,
          0.6866776485215283
         ]
        }
       ],
       "layout": {
        "height": 1000,
        "margin": {
         "b": 0,
         "l": 0,
         "r": 0,
         "t": 0
        },
        "scene": {
         "aspectmode": "auto",
         "aspectratio": {
          "x": 1.0892012788635166,
          "y": 1.0661794397294724,
          "z": 0.861115792548192
         },
         "xaxis": {
          "type": "linear",
          "visible": false
         },
         "yaxis": {
          "type": "linear",
          "visible": false
         },
         "zaxis": {
          "type": "linear",
          "visible": false
         }
        },
        "showlegend": false,
        "template": {
         "data": {
          "bar": [
           {
            "error_x": {
             "color": "#2a3f5f"
            },
            "error_y": {
             "color": "#2a3f5f"
            },
            "marker": {
             "line": {
              "color": "#E5ECF6",
              "width": 0.5
             },
             "pattern": {
              "fillmode": "overlay",
              "size": 10,
              "solidity": 0.2
             }
            },
            "type": "bar"
           }
          ],
          "barpolar": [
           {
            "marker": {
             "line": {
              "color": "#E5ECF6",
              "width": 0.5
             },
             "pattern": {
              "fillmode": "overlay",
              "size": 10,
              "solidity": 0.2
             }
            },
            "type": "barpolar"
           }
          ],
          "carpet": [
           {
            "aaxis": {
             "endlinecolor": "#2a3f5f",
             "gridcolor": "white",
             "linecolor": "white",
             "minorgridcolor": "white",
             "startlinecolor": "#2a3f5f"
            },
            "baxis": {
             "endlinecolor": "#2a3f5f",
             "gridcolor": "white",
             "linecolor": "white",
             "minorgridcolor": "white",
             "startlinecolor": "#2a3f5f"
            },
            "type": "carpet"
           }
          ],
          "choropleth": [
           {
            "colorbar": {
             "outlinewidth": 0,
             "ticks": ""
            },
            "type": "choropleth"
           }
          ],
          "contour": [
           {
            "colorbar": {
             "outlinewidth": 0,
             "ticks": ""
            },
            "colorscale": [
             [
              0,
              "#0d0887"
             ],
             [
              0.1111111111111111,
              "#46039f"
             ],
             [
              0.2222222222222222,
              "#7201a8"
             ],
             [
              0.3333333333333333,
              "#9c179e"
             ],
             [
              0.4444444444444444,
              "#bd3786"
             ],
             [
              0.5555555555555556,
              "#d8576b"
             ],
             [
              0.6666666666666666,
              "#ed7953"
             ],
             [
              0.7777777777777778,
              "#fb9f3a"
             ],
             [
              0.8888888888888888,
              "#fdca26"
             ],
             [
              1,
              "#f0f921"
             ]
            ],
            "type": "contour"
           }
          ],
          "contourcarpet": [
           {
            "colorbar": {
             "outlinewidth": 0,
             "ticks": ""
            },
            "type": "contourcarpet"
           }
          ],
          "heatmap": [
           {
            "colorbar": {
             "outlinewidth": 0,
             "ticks": ""
            },
            "colorscale": [
             [
              0,
              "#0d0887"
             ],
             [
              0.1111111111111111,
              "#46039f"
             ],
             [
              0.2222222222222222,
              "#7201a8"
             ],
             [
              0.3333333333333333,
              "#9c179e"
             ],
             [
              0.4444444444444444,
              "#bd3786"
             ],
             [
              0.5555555555555556,
              "#d8576b"
             ],
             [
              0.6666666666666666,
              "#ed7953"
             ],
             [
              0.7777777777777778,
              "#fb9f3a"
             ],
             [
              0.8888888888888888,
              "#fdca26"
             ],
             [
              1,
              "#f0f921"
             ]
            ],
            "type": "heatmap"
           }
          ],
          "heatmapgl": [
           {
            "colorbar": {
             "outlinewidth": 0,
             "ticks": ""
            },
            "colorscale": [
             [
              0,
              "#0d0887"
             ],
             [
              0.1111111111111111,
              "#46039f"
             ],
             [
              0.2222222222222222,
              "#7201a8"
             ],
             [
              0.3333333333333333,
              "#9c179e"
             ],
             [
              0.4444444444444444,
              "#bd3786"
             ],
             [
              0.5555555555555556,
              "#d8576b"
             ],
             [
              0.6666666666666666,
              "#ed7953"
             ],
             [
              0.7777777777777778,
              "#fb9f3a"
             ],
             [
              0.8888888888888888,
              "#fdca26"
             ],
             [
              1,
              "#f0f921"
             ]
            ],
            "type": "heatmapgl"
           }
          ],
          "histogram": [
           {
            "marker": {
             "pattern": {
              "fillmode": "overlay",
              "size": 10,
              "solidity": 0.2
             }
            },
            "type": "histogram"
           }
          ],
          "histogram2d": [
           {
            "colorbar": {
             "outlinewidth": 0,
             "ticks": ""
            },
            "colorscale": [
             [
              0,
              "#0d0887"
             ],
             [
              0.1111111111111111,
              "#46039f"
             ],
             [
              0.2222222222222222,
              "#7201a8"
             ],
             [
              0.3333333333333333,
              "#9c179e"
             ],
             [
              0.4444444444444444,
              "#bd3786"
             ],
             [
              0.5555555555555556,
              "#d8576b"
             ],
             [
              0.6666666666666666,
              "#ed7953"
             ],
             [
              0.7777777777777778,
              "#fb9f3a"
             ],
             [
              0.8888888888888888,
              "#fdca26"
             ],
             [
              1,
              "#f0f921"
             ]
            ],
            "type": "histogram2d"
           }
          ],
          "histogram2dcontour": [
           {
            "colorbar": {
             "outlinewidth": 0,
             "ticks": ""
            },
            "colorscale": [
             [
              0,
              "#0d0887"
             ],
             [
              0.1111111111111111,
              "#46039f"
             ],
             [
              0.2222222222222222,
              "#7201a8"
             ],
             [
              0.3333333333333333,
              "#9c179e"
             ],
             [
              0.4444444444444444,
              "#bd3786"
             ],
             [
              0.5555555555555556,
              "#d8576b"
             ],
             [
              0.6666666666666666,
              "#ed7953"
             ],
             [
              0.7777777777777778,
              "#fb9f3a"
             ],
             [
              0.8888888888888888,
              "#fdca26"
             ],
             [
              1,
              "#f0f921"
             ]
            ],
            "type": "histogram2dcontour"
           }
          ],
          "mesh3d": [
           {
            "colorbar": {
             "outlinewidth": 0,
             "ticks": ""
            },
            "type": "mesh3d"
           }
          ],
          "parcoords": [
           {
            "line": {
             "colorbar": {
              "outlinewidth": 0,
              "ticks": ""
             }
            },
            "type": "parcoords"
           }
          ],
          "pie": [
           {
            "automargin": true,
            "type": "pie"
           }
          ],
          "scatter": [
           {
            "fillpattern": {
             "fillmode": "overlay",
             "size": 10,
             "solidity": 0.2
            },
            "type": "scatter"
           }
          ],
          "scatter3d": [
           {
            "line": {
             "colorbar": {
              "outlinewidth": 0,
              "ticks": ""
             }
            },
            "marker": {
             "colorbar": {
              "outlinewidth": 0,
              "ticks": ""
             }
            },
            "type": "scatter3d"
           }
          ],
          "scattercarpet": [
           {
            "marker": {
             "colorbar": {
              "outlinewidth": 0,
              "ticks": ""
             }
            },
            "type": "scattercarpet"
           }
          ],
          "scattergeo": [
           {
            "marker": {
             "colorbar": {
              "outlinewidth": 0,
              "ticks": ""
             }
            },
            "type": "scattergeo"
           }
          ],
          "scattergl": [
           {
            "marker": {
             "colorbar": {
              "outlinewidth": 0,
              "ticks": ""
             }
            },
            "type": "scattergl"
           }
          ],
          "scattermapbox": [
           {
            "marker": {
             "colorbar": {
              "outlinewidth": 0,
              "ticks": ""
             }
            },
            "type": "scattermapbox"
           }
          ],
          "scatterpolar": [
           {
            "marker": {
             "colorbar": {
              "outlinewidth": 0,
              "ticks": ""
             }
            },
            "type": "scatterpolar"
           }
          ],
          "scatterpolargl": [
           {
            "marker": {
             "colorbar": {
              "outlinewidth": 0,
              "ticks": ""
             }
            },
            "type": "scatterpolargl"
           }
          ],
          "scatterternary": [
           {
            "marker": {
             "colorbar": {
              "outlinewidth": 0,
              "ticks": ""
             }
            },
            "type": "scatterternary"
           }
          ],
          "surface": [
           {
            "colorbar": {
             "outlinewidth": 0,
             "ticks": ""
            },
            "colorscale": [
             [
              0,
              "#0d0887"
             ],
             [
              0.1111111111111111,
              "#46039f"
             ],
             [
              0.2222222222222222,
              "#7201a8"
             ],
             [
              0.3333333333333333,
              "#9c179e"
             ],
             [
              0.4444444444444444,
              "#bd3786"
             ],
             [
              0.5555555555555556,
              "#d8576b"
             ],
             [
              0.6666666666666666,
              "#ed7953"
             ],
             [
              0.7777777777777778,
              "#fb9f3a"
             ],
             [
              0.8888888888888888,
              "#fdca26"
             ],
             [
              1,
              "#f0f921"
             ]
            ],
            "type": "surface"
           }
          ],
          "table": [
           {
            "cells": {
             "fill": {
              "color": "#EBF0F8"
             },
             "line": {
              "color": "white"
             }
            },
            "header": {
             "fill": {
              "color": "#C8D4E3"
             },
             "line": {
              "color": "white"
             }
            },
            "type": "table"
           }
          ]
         },
         "layout": {
          "annotationdefaults": {
           "arrowcolor": "#2a3f5f",
           "arrowhead": 0,
           "arrowwidth": 1
          },
          "autotypenumbers": "strict",
          "coloraxis": {
           "colorbar": {
            "outlinewidth": 0,
            "ticks": ""
           }
          },
          "colorscale": {
           "diverging": [
            [
             0,
             "#8e0152"
            ],
            [
             0.1,
             "#c51b7d"
            ],
            [
             0.2,
             "#de77ae"
            ],
            [
             0.3,
             "#f1b6da"
            ],
            [
             0.4,
             "#fde0ef"
            ],
            [
             0.5,
             "#f7f7f7"
            ],
            [
             0.6,
             "#e6f5d0"
            ],
            [
             0.7,
             "#b8e186"
            ],
            [
             0.8,
             "#7fbc41"
            ],
            [
             0.9,
             "#4d9221"
            ],
            [
             1,
             "#276419"
            ]
           ],
           "sequential": [
            [
             0,
             "#0d0887"
            ],
            [
             0.1111111111111111,
             "#46039f"
            ],
            [
             0.2222222222222222,
             "#7201a8"
            ],
            [
             0.3333333333333333,
             "#9c179e"
            ],
            [
             0.4444444444444444,
             "#bd3786"
            ],
            [
             0.5555555555555556,
             "#d8576b"
            ],
            [
             0.6666666666666666,
             "#ed7953"
            ],
            [
             0.7777777777777778,
             "#fb9f3a"
            ],
            [
             0.8888888888888888,
             "#fdca26"
            ],
            [
             1,
             "#f0f921"
            ]
           ],
           "sequentialminus": [
            [
             0,
             "#0d0887"
            ],
            [
             0.1111111111111111,
             "#46039f"
            ],
            [
             0.2222222222222222,
             "#7201a8"
            ],
            [
             0.3333333333333333,
             "#9c179e"
            ],
            [
             0.4444444444444444,
             "#bd3786"
            ],
            [
             0.5555555555555556,
             "#d8576b"
            ],
            [
             0.6666666666666666,
             "#ed7953"
            ],
            [
             0.7777777777777778,
             "#fb9f3a"
            ],
            [
             0.8888888888888888,
             "#fdca26"
            ],
            [
             1,
             "#f0f921"
            ]
           ]
          },
          "colorway": [
           "#636efa",
           "#EF553B",
           "#00cc96",
           "#ab63fa",
           "#FFA15A",
           "#19d3f3",
           "#FF6692",
           "#B6E880",
           "#FF97FF",
           "#FECB52"
          ],
          "font": {
           "color": "#2a3f5f"
          },
          "geo": {
           "bgcolor": "white",
           "lakecolor": "white",
           "landcolor": "#E5ECF6",
           "showlakes": true,
           "showland": true,
           "subunitcolor": "white"
          },
          "hoverlabel": {
           "align": "left"
          },
          "hovermode": "closest",
          "mapbox": {
           "style": "light"
          },
          "paper_bgcolor": "white",
          "plot_bgcolor": "#E5ECF6",
          "polar": {
           "angularaxis": {
            "gridcolor": "white",
            "linecolor": "white",
            "ticks": ""
           },
           "bgcolor": "#E5ECF6",
           "radialaxis": {
            "gridcolor": "white",
            "linecolor": "white",
            "ticks": ""
           }
          },
          "scene": {
           "xaxis": {
            "backgroundcolor": "#E5ECF6",
            "gridcolor": "white",
            "gridwidth": 2,
            "linecolor": "white",
            "showbackground": true,
            "ticks": "",
            "zerolinecolor": "white"
           },
           "yaxis": {
            "backgroundcolor": "#E5ECF6",
            "gridcolor": "white",
            "gridwidth": 2,
            "linecolor": "white",
            "showbackground": true,
            "ticks": "",
            "zerolinecolor": "white"
           },
           "zaxis": {
            "backgroundcolor": "#E5ECF6",
            "gridcolor": "white",
            "gridwidth": 2,
            "linecolor": "white",
            "showbackground": true,
            "ticks": "",
            "zerolinecolor": "white"
           }
          },
          "shapedefaults": {
           "line": {
            "color": "#2a3f5f"
           }
          },
          "ternary": {
           "aaxis": {
            "gridcolor": "white",
            "linecolor": "white",
            "ticks": ""
           },
           "baxis": {
            "gridcolor": "white",
            "linecolor": "white",
            "ticks": ""
           },
           "bgcolor": "#E5ECF6",
           "caxis": {
            "gridcolor": "white",
            "linecolor": "white",
            "ticks": ""
           }
          },
          "title": {
           "x": 0.05
          },
          "xaxis": {
           "automargin": true,
           "gridcolor": "white",
           "linecolor": "white",
           "ticks": "",
           "title": {
            "standoff": 15
           },
           "zerolinecolor": "white",
           "zerolinewidth": 2
          },
          "yaxis": {
           "automargin": true,
           "gridcolor": "white",
           "linecolor": "white",
           "ticks": "",
           "title": {
            "standoff": 15
           },
           "zerolinecolor": "white",
           "zerolinewidth": 2
          }
         }
        },
        "width": 1000
       }
      },
      "image/png": "[encoded data removed]",
      "text/html": [
       "<div>                            <div id=\"b26c4c05-87a7-4ce5-84d8-ecfb3c0e1d5b\" class=\"plotly-graph-div\" style=\"height:1000px; width:1000px;\"></div>            <script type=\"text/javascript\">                require([\"plotly\"], function(Plotly) {                    window.PLOTLYENV=window.PLOTLYENV || {};                                    if (document.getElementById(\"b26c4c05-87a7-4ce5-84d8-ecfb3c0e1d5b\")) {                    Plotly.newPlot(                        \"b26c4c05-87a7-4ce5-84d8-ecfb3c0e1d5b\",                        [{\"hoverinfo\":\"text\",\"marker\":{\"color\":[\"blue\",\"blue\",\"orange\",\"blue\",\"orange\",\"yellow\"],\"size\":5},\"mode\":\"markers+text\",\"text\":[\"A\\u002fVictoria\\u002f361\\u002f2011(H3N2)\",\"A\\u002fPerth\\u002f16\\u002f2009(H3N2)\",\"A\\u002fMichigan\\u002f45\\u002f2015(H1N1)\",\"A\\u002fHong Kong\\u002f1968(H3N2) \",\"A\\u002fCalifornia\\u002f07\\u002f2009(H1N1)\",\"A\\u002fTest\\u002f?\\u002f201?(H3N1)\"],\"textposition\":\"top center\",\"x\":[-0.25754316675348593,-1.0,0.2577752942480702,0.9998745188915569,0.7622926746187584,-0.7623993210048999],\"y\":[-0.9787915081946286,-0.3354023730235329,0.9788127798813394,0.33525286378248975,-0.7553343688326344,0.7554626063869682],\"z\":[0.7905692041552295,-0.7409716675357008,-0.7905192179306479,0.7412029481946285,-0.686958915405037,0.6866776485215283],\"type\":\"scatter3d\"},{\"hoverinfo\":\"none\",\"line\":{\"color\":[\"black\",\"black\",\"black\",\"black\",\"black\",\"black\",\"black\",\"black\",\"black\",\"black\",\"black\",\"black\",\"black\",\"black\",\"black\",\"black\",\"black\",\"black\",\"black\",\"black\",\"black\",\"black\",\"black\",\"black\",\"black\",\"black\",\"black\",\"black\",\"black\",\"black\",\"black\",\"black\",\"black\",\"black\",\"black\",\"black\",\"black\",\"black\",\"black\",\"black\",\"black\",\"black\",\"black\",\"black\",\"black\"],\"width\":2},\"mode\":\"lines\",\"x\":[-0.25754316675348593,-1.0,null,-0.25754316675348593,0.9998745188915569,null,-0.25754316675348593,0.7622926746187584,null,-0.25754316675348593,0.2577752942480702,null,-0.25754316675348593,-0.7623993210048999,null,-1.0,0.9998745188915569,null,-1.0,0.7622926746187584,null,-1.0,0.2577752942480702,null,-1.0,-0.7623993210048999,null,0.2577752942480702,-0.7623993210048999,null,0.2577752942480702,0.7622926746187584,null,0.2577752942480702,0.9998745188915569,null,0.9998745188915569,0.7622926746187584,null,0.9998745188915569,-0.7623993210048999,null,0.7622926746187584,-0.7623993210048999,null],\"y\":[-0.9787915081946286,-0.3354023730235329,null,-0.9787915081946286,0.33525286378248975,null,-0.9787915081946286,-0.7553343688326344,null,-0.9787915081946286,0.9788127798813394,null,-0.9787915081946286,0.7554626063869682,null,-0.3354023730235329,0.33525286378248975,null,-0.3354023730235329,-0.7553343688326344,null,-0.3354023730235329,0.9788127798813394,null,-0.3354023730235329,0.7554626063869682,null,0.9788127798813394,0.7554626063869682,null,0.9788127798813394,-0.7553343688326344,null,0.9788127798813394,0.33525286378248975,null,0.33525286378248975,-0.7553343688326344,null,0.33525286378248975,0.7554626063869682,null,-0.7553343688326344,0.7554626063869682,null],\"z\":[0.7905692041552295,-0.7409716675357008,null,0.7905692041552295,0.7412029481946285,null,0.7905692041552295,-0.686958915405037,null,0.7905692041552295,-0.7905192179306479,null,0.7905692041552295,0.6866776485215283,null,-0.7409716675357008,0.7412029481946285,null,-0.7409716675357008,-0.686958915405037,null,-0.7409716675357008,-0.7905192179306479,null,-0.7409716675357008,0.6866776485215283,null,-0.7905192179306479,0.6866776485215283,null,-0.7905192179306479,-0.686958915405037,null,-0.7905192179306479,0.7412029481946285,null,0.7412029481946285,-0.686958915405037,null,0.7412029481946285,0.6866776485215283,null,-0.686958915405037,0.6866776485215283,null],\"type\":\"scatter3d\"},{\"color\":\"red\",\"opacity\":0.3,\"x\":[0.2577752942480702,0.7622926746187584,-0.7623993210048999],\"y\":[0.9788127798813394,-0.7553343688326344,0.7554626063869682],\"z\":[-0.7905192179306479,-0.686958915405037,0.6866776485215283],\"type\":\"mesh3d\"},{\"color\":\"red\",\"opacity\":0.3,\"x\":[-0.25754316675348593,-1.0,0.9998745188915569],\"y\":[-0.9787915081946286,-0.3354023730235329,0.33525286378248975],\"z\":[0.7905692041552295,-0.7409716675357008,0.7412029481946285],\"type\":\"mesh3d\"},{\"color\":\"red\",\"opacity\":0.3,\"x\":[0.2577752942480702,0.9998745188915569,0.7622926746187584],\"y\":[0.9788127798813394,0.33525286378248975,-0.7553343688326344],\"z\":[-0.7905192179306479,0.7412029481946285,-0.686958915405037],\"type\":\"mesh3d\"},{\"color\":\"red\",\"opacity\":0.3,\"x\":[0.2577752942480702,0.9998745188915569,-0.7623993210048999],\"y\":[0.9788127798813394,0.33525286378248975,0.7554626063869682],\"z\":[-0.7905192179306479,0.7412029481946285,0.6866776485215283],\"type\":\"mesh3d\"},{\"color\":\"red\",\"opacity\":0.3,\"x\":[0.9998745188915569,0.7622926746187584,-0.7623993210048999],\"y\":[0.33525286378248975,-0.7553343688326344,0.7554626063869682],\"z\":[0.7412029481946285,-0.686958915405037,0.6866776485215283],\"type\":\"mesh3d\"},{\"color\":\"red\",\"opacity\":0.3,\"x\":[-0.25754316675348593,0.9998745188915569,0.7622926746187584],\"y\":[-0.9787915081946286,0.33525286378248975,-0.7553343688326344],\"z\":[0.7905692041552295,0.7412029481946285,-0.686958915405037],\"type\":\"mesh3d\"},{\"color\":\"red\",\"opacity\":0.3,\"x\":[-0.25754316675348593,-1.0,0.7622926746187584],\"y\":[-0.9787915081946286,-0.3354023730235329,-0.7553343688326344],\"z\":[0.7905692041552295,-0.7409716675357008,-0.686958915405037],\"type\":\"mesh3d\"},{\"color\":\"red\",\"opacity\":0.3,\"x\":[-1.0,0.9998745188915569,0.7622926746187584],\"y\":[-0.3354023730235329,0.33525286378248975,-0.7553343688326344],\"z\":[-0.7409716675357008,0.7412029481946285,-0.686958915405037],\"type\":\"mesh3d\"},{\"color\":\"red\",\"opacity\":0.3,\"x\":[-0.25754316675348593,0.2577752942480702,0.9998745188915569],\"y\":[-0.9787915081946286,0.9788127798813394,0.33525286378248975],\"z\":[0.7905692041552295,-0.7905192179306479,0.7412029481946285],\"type\":\"mesh3d\"},{\"color\":\"red\",\"opacity\":0.3,\"x\":[-0.25754316675348593,0.2577752942480702,0.7622926746187584],\"y\":[-0.9787915081946286,0.9788127798813394,-0.7553343688326344],\"z\":[0.7905692041552295,-0.7905192179306479,-0.686958915405037],\"type\":\"mesh3d\"},{\"color\":\"red\",\"opacity\":0.3,\"x\":[-0.25754316675348593,0.2577752942480702,-0.7623993210048999],\"y\":[-0.9787915081946286,0.9788127798813394,0.7554626063869682],\"z\":[0.7905692041552295,-0.7905192179306479,0.6866776485215283],\"type\":\"mesh3d\"},{\"color\":\"red\",\"opacity\":0.3,\"x\":[-0.25754316675348593,0.9998745188915569,-0.7623993210048999],\"y\":[-0.9787915081946286,0.33525286378248975,0.7554626063869682],\"z\":[0.7905692041552295,0.7412029481946285,0.6866776485215283],\"type\":\"mesh3d\"},{\"color\":\"red\",\"opacity\":0.3,\"x\":[-0.25754316675348593,0.7622926746187584,-0.7623993210048999],\"y\":[-0.9787915081946286,-0.7553343688326344,0.7554626063869682],\"z\":[0.7905692041552295,-0.686958915405037,0.6866776485215283],\"type\":\"mesh3d\"},{\"color\":\"red\",\"opacity\":0.3,\"x\":[-0.25754316675348593,-1.0,0.2577752942480702],\"y\":[-0.9787915081946286,-0.3354023730235329,0.9788127798813394],\"z\":[0.7905692041552295,-0.7409716675357008,-0.7905192179306479],\"type\":\"mesh3d\"},{\"color\":\"red\",\"opacity\":0.3,\"x\":[-1.0,0.2577752942480702,0.9998745188915569],\"y\":[-0.3354023730235329,0.9788127798813394,0.33525286378248975],\"z\":[-0.7409716675357008,-0.7905192179306479,0.7412029481946285],\"type\":\"mesh3d\"},{\"color\":\"red\",\"opacity\":0.3,\"x\":[-1.0,0.2577752942480702,0.7622926746187584],\"y\":[-0.3354023730235329,0.9788127798813394,-0.7553343688326344],\"z\":[-0.7409716675357008,-0.7905192179306479,-0.686958915405037],\"type\":\"mesh3d\"},{\"color\":\"red\",\"opacity\":0.3,\"x\":[-0.25754316675348593,-1.0,-0.7623993210048999],\"y\":[-0.9787915081946286,-0.3354023730235329,0.7554626063869682],\"z\":[0.7905692041552295,-0.7409716675357008,0.6866776485215283],\"type\":\"mesh3d\"},{\"color\":\"red\",\"opacity\":0.3,\"x\":[-1.0,0.2577752942480702,-0.7623993210048999],\"y\":[-0.3354023730235329,0.9788127798813394,0.7554626063869682],\"z\":[-0.7409716675357008,-0.7905192179306479,0.6866776485215283],\"type\":\"mesh3d\"},{\"color\":\"red\",\"opacity\":0.3,\"x\":[-1.0,0.9998745188915569,-0.7623993210048999],\"y\":[-0.3354023730235329,0.33525286378248975,0.7554626063869682],\"z\":[-0.7409716675357008,0.7412029481946285,0.6866776485215283],\"type\":\"mesh3d\"},{\"color\":\"red\",\"opacity\":0.3,\"x\":[-1.0,0.7622926746187584,-0.7623993210048999],\"y\":[-0.3354023730235329,-0.7553343688326344,0.7554626063869682],\"z\":[-0.7409716675357008,-0.686958915405037,0.6866776485215283],\"type\":\"mesh3d\"},{\"color\":\"green\",\"opacity\":0.1,\"x\":[0.2577752942480702,0.9998745188915569,0.7622926746187584,-0.7623993210048999],\"y\":[0.9788127798813394,0.33525286378248975,-0.7553343688326344,0.7554626063869682],\"z\":[-0.7905192179306479,0.7412029481946285,-0.686958915405037,0.6866776485215283],\"type\":\"mesh3d\"},{\"color\":\"green\",\"opacity\":0.1,\"x\":[-0.25754316675348593,-1.0,0.9998745188915569,0.7622926746187584],\"y\":[-0.9787915081946286,-0.3354023730235329,0.33525286378248975,-0.7553343688326344],\"z\":[0.7905692041552295,-0.7409716675357008,0.7412029481946285,-0.686958915405037],\"type\":\"mesh3d\"},{\"color\":\"green\",\"opacity\":0.1,\"x\":[-0.25754316675348593,0.2577752942480702,0.9998745188915569,0.7622926746187584],\"y\":[-0.9787915081946286,0.9788127798813394,0.33525286378248975,-0.7553343688326344],\"z\":[0.7905692041552295,-0.7905192179306479,0.7412029481946285,-0.686958915405037],\"type\":\"mesh3d\"},{\"color\":\"green\",\"opacity\":0.1,\"x\":[-0.25754316675348593,0.2577752942480702,0.9998745188915569,-0.7623993210048999],\"y\":[-0.9787915081946286,0.9788127798813394,0.33525286378248975,0.7554626063869682],\"z\":[0.7905692041552295,-0.7905192179306479,0.7412029481946285,0.6866776485215283],\"type\":\"mesh3d\"},{\"color\":\"green\",\"opacity\":0.1,\"x\":[-0.25754316675348593,0.2577752942480702,0.7622926746187584,-0.7623993210048999],\"y\":[-0.9787915081946286,0.9788127798813394,-0.7553343688326344,0.7554626063869682],\"z\":[0.7905692041552295,-0.7905192179306479,-0.686958915405037,0.6866776485215283],\"type\":\"mesh3d\"},{\"color\":\"green\",\"opacity\":0.1,\"x\":[-0.25754316675348593,0.9998745188915569,0.7622926746187584,-0.7623993210048999],\"y\":[-0.9787915081946286,0.33525286378248975,-0.7553343688326344,0.7554626063869682],\"z\":[0.7905692041552295,0.7412029481946285,-0.686958915405037,0.6866776485215283],\"type\":\"mesh3d\"},{\"color\":\"green\",\"opacity\":0.1,\"x\":[-0.25754316675348593,-1.0,0.2577752942480702,0.9998745188915569],\"y\":[-0.9787915081946286,-0.3354023730235329,0.9788127798813394,0.33525286378248975],\"z\":[0.7905692041552295,-0.7409716675357008,-0.7905192179306479,0.7412029481946285],\"type\":\"mesh3d\"},{\"color\":\"green\",\"opacity\":0.1,\"x\":[-0.25754316675348593,-1.0,0.2577752942480702,0.7622926746187584],\"y\":[-0.9787915081946286,-0.3354023730235329,0.9788127798813394,-0.7553343688326344],\"z\":[0.7905692041552295,-0.7409716675357008,-0.7905192179306479,-0.686958915405037],\"type\":\"mesh3d\"},{\"color\":\"green\",\"opacity\":0.1,\"x\":[-1.0,0.2577752942480702,0.9998745188915569,0.7622926746187584],\"y\":[-0.3354023730235329,0.9788127798813394,0.33525286378248975,-0.7553343688326344],\"z\":[-0.7409716675357008,-0.7905192179306479,0.7412029481946285,-0.686958915405037],\"type\":\"mesh3d\"},{\"color\":\"green\",\"opacity\":0.1,\"x\":[-0.25754316675348593,-1.0,0.2577752942480702,-0.7623993210048999],\"y\":[-0.9787915081946286,-0.3354023730235329,0.9788127798813394,0.7554626063869682],\"z\":[0.7905692041552295,-0.7409716675357008,-0.7905192179306479,0.6866776485215283],\"type\":\"mesh3d\"},{\"color\":\"green\",\"opacity\":0.1,\"x\":[-0.25754316675348593,-1.0,0.9998745188915569,-0.7623993210048999],\"y\":[-0.9787915081946286,-0.3354023730235329,0.33525286378248975,0.7554626063869682],\"z\":[0.7905692041552295,-0.7409716675357008,0.7412029481946285,0.6866776485215283],\"type\":\"mesh3d\"},{\"color\":\"green\",\"opacity\":0.1,\"x\":[-1.0,0.2577752942480702,0.9998745188915569,-0.7623993210048999],\"y\":[-0.3354023730235329,0.9788127798813394,0.33525286378248975,0.7554626063869682],\"z\":[-0.7409716675357008,-0.7905192179306479,0.7412029481946285,0.6866776485215283],\"type\":\"mesh3d\"},{\"color\":\"green\",\"opacity\":0.1,\"x\":[-0.25754316675348593,-1.0,0.7622926746187584,-0.7623993210048999],\"y\":[-0.9787915081946286,-0.3354023730235329,-0.7553343688326344,0.7554626063869682],\"z\":[0.7905692041552295,-0.7409716675357008,-0.686958915405037,0.6866776485215283],\"type\":\"mesh3d\"},{\"color\":\"green\",\"opacity\":0.1,\"x\":[-1.0,0.2577752942480702,0.7622926746187584,-0.7623993210048999],\"y\":[-0.3354023730235329,0.9788127798813394,-0.7553343688326344,0.7554626063869682],\"z\":[-0.7409716675357008,-0.7905192179306479,-0.686958915405037,0.6866776485215283],\"type\":\"mesh3d\"},{\"color\":\"green\",\"opacity\":0.1,\"x\":[-1.0,0.9998745188915569,0.7622926746187584,-0.7623993210048999],\"y\":[-0.3354023730235329,0.33525286378248975,-0.7553343688326344,0.7554626063869682],\"z\":[-0.7409716675357008,0.7412029481946285,-0.686958915405037,0.6866776485215283],\"type\":\"mesh3d\"}],                        {\"margin\":{\"b\":0,\"l\":0,\"r\":0,\"t\":0},\"scene\":{\"xaxis\":{\"visible\":false},\"yaxis\":{\"visible\":false},\"zaxis\":{\"visible\":false}},\"showlegend\":false,\"template\":{\"data\":{\"histogram2dcontour\":[{\"type\":\"histogram2dcontour\",\"colorbar\":{\"outlinewidth\":0,\"ticks\":\"\"},\"colorscale\":[[0.0,\"#0d0887\"],[0.1111111111111111,\"#46039f\"],[0.2222222222222222,\"#7201a8\"],[0.3333333333333333,\"#9c179e\"],[0.4444444444444444,\"#bd3786\"],[0.5555555555555556,\"#d8576b\"],[0.6666666666666666,\"#ed7953\"],[0.7777777777777778,\"#fb9f3a\"],[0.8888888888888888,\"#fdca26\"],[1.0,\"#f0f921\"]]}],\"choropleth\":[{\"type\":\"choropleth\",\"colorbar\":{\"outlinewidth\":0,\"ticks\":\"\"}}],\"histogram2d\":[{\"type\":\"histogram2d\",\"colorbar\":{\"outlinewidth\":0,\"ticks\":\"\"},\"colorscale\":[[0.0,\"#0d0887\"],[0.1111111111111111,\"#46039f\"],[0.2222222222222222,\"#7201a8\"],[0.3333333333333333,\"#9c179e\"],[0.4444444444444444,\"#bd3786\"],[0.5555555555555556,\"#d8576b\"],[0.6666666666666666,\"#ed7953\"],[0.7777777777777778,\"#fb9f3a\"],[0.8888888888888888,\"#fdca26\"],[1.0,\"#f0f921\"]]}],\"heatmap\":[{\"type\":\"heatmap\",\"colorbar\":{\"outlinewidth\":0,\"ticks\":\"\"},\"colorscale\":[[0.0,\"#0d0887\"],[0.1111111111111111,\"#46039f\"],[0.2222222222222222,\"#7201a8\"],[0.3333333333333333,\"#9c179e\"],[0.4444444444444444,\"#bd3786\"],[0.5555555555555556,\"#d8576b\"],[0.6666666666666666,\"#ed7953\"],[0.7777777777777778,\"#fb9f3a\"],[0.8888888888888888,\"#fdca26\"],[1.0,\"#f0f921\"]]}],\"heatmapgl\":[{\"type\":\"heatmapgl\",\"colorbar\":{\"outlinewidth\":0,\"ticks\":\"\"},\"colorscale\":[[0.0,\"#0d0887\"],[0.1111111111111111,\"#46039f\"],[0.2222222222222222,\"#7201a8\"],[0.3333333333333333,\"#9c179e\"],[0.4444444444444444,\"#bd3786\"],[0.5555555555555556,\"#d8576b\"],[0.6666666666666666,\"#ed7953\"],[0.7777777777777778,\"#fb9f3a\"],[0.8888888888888888,\"#fdca26\"],[1.0,\"#f0f921\"]]}],\"contourcarpet\":[{\"type\":\"contourcarpet\",\"colorbar\":{\"outlinewidth\":0,\"ticks\":\"\"}}],\"contour\":[{\"type\":\"contour\",\"colorbar\":{\"outlinewidth\":0,\"ticks\":\"\"},\"colorscale\":[[0.0,\"#0d0887\"],[0.1111111111111111,\"#46039f\"],[0.2222222222222222,\"#7201a8\"],[0.3333333333333333,\"#9c179e\"],[0.4444444444444444,\"#bd3786\"],[0.5555555555555556,\"#d8576b\"],[0.6666666666666666,\"#ed7953\"],[0.7777777777777778,\"#fb9f3a\"],[0.8888888888888888,\"#fdca26\"],[1.0,\"#f0f921\"]]}],\"surface\":[{\"type\":\"surface\",\"colorbar\":{\"outlinewidth\":0,\"ticks\":\"\"},\"colorscale\":[[0.0,\"#0d0887\"],[0.1111111111111111,\"#46039f\"],[0.2222222222222222,\"#7201a8\"],[0.3333333333333333,\"#9c179e\"],[0.4444444444444444,\"#bd3786\"],[0.5555555555555556,\"#d8576b\"],[0.6666666666666666,\"#ed7953\"],[0.7777777777777778,\"#fb9f3a\"],[0.8888888888888888,\"#fdca26\"],[1.0,\"#f0f921\"]]}],\"mesh3d\":[{\"type\":\"mesh3d\",\"colorbar\":{\"outlinewidth\":0,\"ticks\":\"\"}}],\"scatter\":[{\"fillpattern\":{\"fillmode\":\"overlay\",\"size\":10,\"solidity\":0.2},\"type\":\"scatter\"}],\"parcoords\":[{\"type\":\"parcoords\",\"line\":{\"colorbar\":{\"outlinewidth\":0,\"ticks\":\"\"}}}],\"scatterpolargl\":[{\"type\":\"scatterpolargl\",\"marker\":{\"colorbar\":{\"outlinewidth\":0,\"ticks\":\"\"}}}],\"bar\":[{\"error_x\":{\"color\":\"#2a3f5f\"},\"error_y\":{\"color\":\"#2a3f5f\"},\"marker\":{\"line\":{\"color\":\"#E5ECF6\",\"width\":0.5},\"pattern\":{\"fillmode\":\"overlay\",\"size\":10,\"solidity\":0.2}},\"type\":\"bar\"}],\"scattergeo\":[{\"type\":\"scattergeo\",\"marker\":{\"colorbar\":{\"outlinewidth\":0,\"ticks\":\"\"}}}],\"scatterpolar\":[{\"type\":\"scatterpolar\",\"marker\":{\"colorbar\":{\"outlinewidth\":0,\"ticks\":\"\"}}}],\"histogram\":[{\"marker\":{\"pattern\":{\"fillmode\":\"overlay\",\"size\":10,\"solidity\":0.2}},\"type\":\"histogram\"}],\"scattergl\":[{\"type\":\"scattergl\",\"marker\":{\"colorbar\":{\"outlinewidth\":0,\"ticks\":\"\"}}}],\"scatter3d\":[{\"type\":\"scatter3d\",\"line\":{\"colorbar\":{\"outlinewidth\":0,\"ticks\":\"\"}},\"marker\":{\"colorbar\":{\"outlinewidth\":0,\"ticks\":\"\"}}}],\"scattermapbox\":[{\"type\":\"scattermapbox\",\"marker\":{\"colorbar\":{\"outlinewidth\":0,\"ticks\":\"\"}}}],\"scatterternary\":[{\"type\":\"scatterternary\",\"marker\":{\"colorbar\":{\"outlinewidth\":0,\"ticks\":\"\"}}}],\"scattercarpet\":[{\"type\":\"scattercarpet\",\"marker\":{\"colorbar\":{\"outlinewidth\":0,\"ticks\":\"\"}}}],\"carpet\":[{\"aaxis\":{\"endlinecolor\":\"#2a3f5f\",\"gridcolor\":\"white\",\"linecolor\":\"white\",\"minorgridcolor\":\"white\",\"startlinecolor\":\"#2a3f5f\"},\"baxis\":{\"endlinecolor\":\"#2a3f5f\",\"gridcolor\":\"white\",\"linecolor\":\"white\",\"minorgridcolor\":\"white\",\"startlinecolor\":\"#2a3f5f\"},\"type\":\"carpet\"}],\"table\":[{\"cells\":{\"fill\":{\"color\":\"#EBF0F8\"},\"line\":{\"color\":\"white\"}},\"header\":{\"fill\":{\"color\":\"#C8D4E3\"},\"line\":{\"color\":\"white\"}},\"type\":\"table\"}],\"barpolar\":[{\"marker\":{\"line\":{\"color\":\"#E5ECF6\",\"width\":0.5},\"pattern\":{\"fillmode\":\"overlay\",\"size\":10,\"solidity\":0.2}},\"type\":\"barpolar\"}],\"pie\":[{\"automargin\":true,\"type\":\"pie\"}]},\"layout\":{\"autotypenumbers\":\"strict\",\"colorway\":[\"#636efa\",\"#EF553B\",\"#00cc96\",\"#ab63fa\",\"#FFA15A\",\"#19d3f3\",\"#FF6692\",\"#B6E880\",\"#FF97FF\",\"#FECB52\"],\"font\":{\"color\":\"#2a3f5f\"},\"hovermode\":\"closest\",\"hoverlabel\":{\"align\":\"left\"},\"paper_bgcolor\":\"white\",\"plot_bgcolor\":\"#E5ECF6\",\"polar\":{\"bgcolor\":\"#E5ECF6\",\"angularaxis\":{\"gridcolor\":\"white\",\"linecolor\":\"white\",\"ticks\":\"\"},\"radialaxis\":{\"gridcolor\":\"white\",\"linecolor\":\"white\",\"ticks\":\"\"}},\"ternary\":{\"bgcolor\":\"#E5ECF6\",\"aaxis\":{\"gridcolor\":\"white\",\"linecolor\":\"white\",\"ticks\":\"\"},\"baxis\":{\"gridcolor\":\"white\",\"linecolor\":\"white\",\"ticks\":\"\"},\"caxis\":{\"gridcolor\":\"white\",\"linecolor\":\"white\",\"ticks\":\"\"}},\"coloraxis\":{\"colorbar\":{\"outlinewidth\":0,\"ticks\":\"\"}},\"colorscale\":{\"sequential\":[[0.0,\"#0d0887\"],[0.1111111111111111,\"#46039f\"],[0.2222222222222222,\"#7201a8\"],[0.3333333333333333,\"#9c179e\"],[0.4444444444444444,\"#bd3786\"],[0.5555555555555556,\"#d8576b\"],[0.6666666666666666,\"#ed7953\"],[0.7777777777777778,\"#fb9f3a\"],[0.8888888888888888,\"#fdca26\"],[1.0,\"#f0f921\"]],\"sequentialminus\":[[0.0,\"#0d0887\"],[0.1111111111111111,\"#46039f\"],[0.2222222222222222,\"#7201a8\"],[0.3333333333333333,\"#9c179e\"],[0.4444444444444444,\"#bd3786\"],[0.5555555555555556,\"#d8576b\"],[0.6666666666666666,\"#ed7953\"],[0.7777777777777778,\"#fb9f3a\"],[0.8888888888888888,\"#fdca26\"],[1.0,\"#f0f921\"]],\"diverging\":[[0,\"#8e0152\"],[0.1,\"#c51b7d\"],[0.2,\"#de77ae\"],[0.3,\"#f1b6da\"],[0.4,\"#fde0ef\"],[0.5,\"#f7f7f7\"],[0.6,\"#e6f5d0\"],[0.7,\"#b8e186\"],[0.8,\"#7fbc41\"],[0.9,\"#4d9221\"],[1,\"#276419\"]]},\"xaxis\":{\"gridcolor\":\"white\",\"linecolor\":\"white\",\"ticks\":\"\",\"title\":{\"standoff\":15},\"zerolinecolor\":\"white\",\"automargin\":true,\"zerolinewidth\":2},\"yaxis\":{\"gridcolor\":\"white\",\"linecolor\":\"white\",\"ticks\":\"\",\"title\":{\"standoff\":15},\"zerolinecolor\":\"white\",\"automargin\":true,\"zerolinewidth\":2},\"scene\":{\"xaxis\":{\"backgroundcolor\":\"#E5ECF6\",\"gridcolor\":\"white\",\"linecolor\":\"white\",\"showbackground\":true,\"ticks\":\"\",\"zerolinecolor\":\"white\",\"gridwidth\":2},\"yaxis\":{\"backgroundcolor\":\"#E5ECF6\",\"gridcolor\":\"white\",\"linecolor\":\"white\",\"showbackground\":true,\"ticks\":\"\",\"zerolinecolor\":\"white\",\"gridwidth\":2},\"zaxis\":{\"backgroundcolor\":\"#E5ECF6\",\"gridcolor\":\"white\",\"linecolor\":\"white\",\"showbackground\":true,\"ticks\":\"\",\"zerolinecolor\":\"white\",\"gridwidth\":2}},\"shapedefaults\":{\"line\":{\"color\":\"#2a3f5f\"}},\"annotationdefaults\":{\"arrowcolor\":\"#2a3f5f\",\"arrowhead\":0,\"arrowwidth\":1},\"geo\":{\"bgcolor\":\"white\",\"landcolor\":\"#E5ECF6\",\"subunitcolor\":\"white\",\"showland\":true,\"showlakes\":true,\"lakecolor\":\"white\"},\"title\":{\"x\":0.05},\"mapbox\":{\"style\":\"light\"}}},\"width\":1000,\"height\":1000},                        {\"responsive\": true}                    ).then(function(){\n",
       "                            \n",
       "var gd = document.getElementById('b26c4c05-87a7-4ce5-84d8-ecfb3c0e1d5b');\n",
       "var x = new MutationObserver(function (mutations, observer) {{\n",
       "        var display = window.getComputedStyle(gd).display;\n",
       "        if (!display || display === 'none') {{\n",
       "            console.log([gd, 'removed!']);\n",
       "            Plotly.purge(gd);\n",
       "            observer.disconnect();\n",
       "        }}\n",
       "}});\n",
       "\n",
       "// Listen for the removal of the full notebook cells\n",
       "var notebookContainer = gd.closest('#notebook-container');\n",
       "if (notebookContainer) {{\n",
       "    x.observe(notebookContainer, {childList: true});\n",
       "}}\n",
       "\n",
       "// Listen for the clearing of the current output cell\n",
       "var outputEl = gd.closest('.output');\n",
       "if (outputEl) {{\n",
       "    x.observe(outputEl, {childList: true});\n",
       "}}\n",
       "\n",
       "                        })                };                });            </script>        </div>"
      ]
     },
     "metadata": {},
     "output_type": "display_data"
    },
    {
     "data": {
      "text/plain": [
       "<networkx.classes.graph.Graph at 0x7a9e57b95880>"
      ]
     },
     "execution_count": 33,
     "metadata": {},
     "output_type": "execute_result"
    }
   ],
   "source": [
    "# Visualizar el complejo simplicial 3D\n",
    "print(\"Visualizing 3D simplicial complex at filtration time 150\")\n",
    "visualize_simplicial_complex(simplex_tree, 150, vertex_names=labels)"
   ]
  },
  {
   "cell_type": "code",
   "execution_count": null,
   "id": "6ab1a2f2",
   "metadata": {},
   "outputs": [],
   "source": []
  },
  {
   "cell_type": "code",
   "execution_count": null,
   "id": "090839ed",
   "metadata": {},
   "outputs": [],
   "source": []
  },
  {
   "cell_type": "code",
   "execution_count": null,
   "id": "7253b199-b05e-467f-ab08-522cb35c508d",
   "metadata": {},
   "outputs": [],
   "source": []
  }
 ],
 "metadata": {
  "kernelspec": {
   "display_name": "Python 3 (ipykernel)",
   "language": "python",
   "name": "python3"
  },
  "language_info": {
   "codemirror_mode": {
    "name": "ipython",
    "version": 3
   },
   "file_extension": ".py",
   "mimetype": "text/x-python",
   "name": "python",
   "nbconvert_exporter": "python",
   "pygments_lexer": "ipython3",
   "version": "3.12.4"
  }
 },
 "nbformat": 4,
 "nbformat_minor": 5
}
