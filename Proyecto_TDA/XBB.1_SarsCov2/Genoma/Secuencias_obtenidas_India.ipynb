{
 "cells": [
  {
   "cell_type": "code",
   "execution_count": 15,
   "id": "001aad64",
   "metadata": {},
   "outputs": [],
   "source": [
    "import pandas as pd\n",
    "import numpy as np\n",
    "import seaborn as sns\n",
    "import copy\n",
    "import argparse\n",
    "import gudhi\n",
    "import matplotlib.pyplot as plt\n",
    "import networkx as nx\n",
    "import plotly.graph_objects as go\n",
    "import plotly.io as pio"
   ]
  },
  {
   "cell_type": "code",
   "execution_count": 16,
   "id": "03cd5105",
   "metadata": {},
   "outputs": [],
   "source": [
    "def format_labels(labels):\n",
    "    formatted_labels = []\n",
    "    for label in labels:\n",
    "        parts = label.split('|')\n",
    "        strain_name = parts[0].split('_')[0]  # Obtiene el nombre de la cepa\n",
    "        epi_number = parts[1].split('_')[-1]  # Obtiene el número EPI\n",
    "        formatted_label = f\"{strain_name}_{epi_number}\"\n",
    "        formatted_labels.append(formatted_label)\n",
    "    return formatted_labels\n",
    "\n",
    "def count_strains(labels):\n",
    "    strain_counts = {}\n",
    "    strain_colors = {\n",
    "        'BA.2': 'blue',\n",
    "        'BA.2.10.1': 'orange',\n",
    "        'BA.2.75': 'yellow',\n",
    "        'XBB.1': 'green'\n",
    "    }\n",
    "    for label in labels:\n",
    "        strain = label.split('_')[0]  # Obtiene el nombre de la cepa\n",
    "        strain_counts[strain] = strain_counts.get(strain, 0) + 1\n",
    "    print(\"Número de secuencias para la prueba:\")\n",
    "    for strain, count in strain_counts.items():\n",
    "        color = strain_colors.get(strain, 'gray')\n",
    "        print(f\"{strain} = {count} ({color})\")\n",
    "    return strain_colors\n"
   ]
  },
  {
   "cell_type": "code",
   "execution_count": 17,
   "id": "3f0d7715",
   "metadata": {},
   "outputs": [],
   "source": [
    "def visualize_simplicial_complex(simplex_tree, filtration_value, vertex_names=None, save_filename=None, plot_size=1000, dpi=100):\n",
    "    G = nx.Graph()\n",
    "    tetrahedra = []\n",
    "\n",
    "    for simplex, filt in simplex_tree.get_filtration():\n",
    "        if filt <= filtration_value:\n",
    "            if len(simplex) == 2:\n",
    "                G.add_edge(simplex[0], simplex[1])\n",
    "            elif len(simplex) == 1:\n",
    "                G.add_node(simplex[0])\n",
    "            elif len(simplex) == 3:\n",
    "                G.add_edge(simplex[0], simplex[1])\n",
    "                G.add_edge(simplex[1], simplex[2])\n",
    "                G.add_edge(simplex[2], simplex[0])\n",
    "            elif len(simplex) == 4:\n",
    "                tetrahedra.append(simplex)\n",
    "\n",
    "    pos = nx.spring_layout(G, dim=3)\n",
    "\n",
    "    x_values, y_values, z_values = zip(*[pos[node] for node in G.nodes()])\n",
    "    node_labels = [vertex_names[node] if vertex_names else str(node) for node in G.nodes()]\n",
    "    \n",
    "    # Assign colors based on strain\n",
    "    strain_colors = count_strains(vertex_names)\n",
    "    node_colors = [strain_colors.get(label.split('_')[0], 'gray') for label in node_labels]\n",
    "    \n",
    "    node_trace = go.Scatter3d(\n",
    "        x=x_values, y=y_values, z=z_values,\n",
    "        mode='markers',\n",
    "        marker=dict(size=5, color=node_colors),\n",
    "        hoverinfo='text',\n",
    "        hovertext=node_labels\n",
    "    )\n",
    "\n",
    "    # Add 3D labels with improved visibility\n",
    "    label_trace = go.Scatter3d(\n",
    "        x=x_values, y=y_values, z=z_values,\n",
    "        mode='text',\n",
    "        text=node_labels,\n",
    "        textposition=\"top center\",\n",
    "        textfont=dict(size=8, color='black', family='Arial Black'),\n",
    "        hoverinfo='none'\n",
    "    )\n",
    "\n",
    "    edge_x = []\n",
    "    edge_y = []\n",
    "    edge_z = []\n",
    "    for edge in G.edges():\n",
    "        x0, y0, z0 = pos[edge[0]]\n",
    "        x1, y1, z1 = pos[edge[1]]\n",
    "        edge_x.extend([x0, x1, None])\n",
    "        edge_y.extend([y0, y1, None])\n",
    "        edge_z.extend([z0, z1, None])\n",
    "\n",
    "    edge_trace = go.Scatter3d(\n",
    "        x=edge_x, y=edge_y, z=edge_z,\n",
    "        mode='lines',\n",
    "        line=dict(width=2, color='rgba(0,0,0,0.5)'),\n",
    "        hoverinfo='none'\n",
    "    )\n",
    "\n",
    "    triangle_traces = []\n",
    "    for simplex in simplex_tree.get_skeleton(2):\n",
    "        if len(simplex[0]) == 3 and simplex[1] <= filtration_value:\n",
    "            x = [pos[simplex[0][i]][0] for i in range(3)] + [pos[simplex[0][0]][0]]\n",
    "            y = [pos[simplex[0][i]][1] for i in range(3)] + [pos[simplex[0][0]][1]]\n",
    "            z = [pos[simplex[0][i]][2] for i in range(3)] + [pos[simplex[0][0]][2]]\n",
    "            triangle_traces.append(go.Mesh3d(x=x, y=y, z=z, color='red', opacity=0.2))\n",
    "\n",
    "    layout = go.Layout(\n",
    "        showlegend=False,\n",
    "        scene=dict(\n",
    "            xaxis=dict(showticklabels=False, showgrid=False, zeroline=False),\n",
    "            yaxis=dict(showticklabels=False, showgrid=False, zeroline=False),\n",
    "            zaxis=dict(showticklabels=False, showgrid=False, zeroline=False),\n",
    "        ),\n",
    "        margin=dict(r=0, l=0, b=0, t=0)\n",
    "    )\n",
    "\n",
    "    fig = go.Figure(data=[edge_trace, node_trace, label_trace] + triangle_traces, layout=layout)\n",
    "    \n",
    "    fig.update_layout(width=plot_size, height=plot_size)\n",
    "\n",
    "    if save_filename:\n",
    "        pio.write_image(fig, save_filename, width=plot_size, height=plot_size, scale=1)\n",
    "\n",
    "    fig.show()\n",
    "\n",
    "    return G\n"
   ]
  },
  {
   "cell_type": "code",
   "execution_count": 18,
   "id": "f998dd53",
   "metadata": {},
   "outputs": [],
   "source": [
    "#Lee el archivo FASTA y manda los nombres y secuencias a un diccionario\n",
    "with open('India_ba_2_75_new.fasta') as f:\n",
    "  sequences = {} #inicializa el diccionario\n",
    "  name = None\n",
    "  for line in f:\n",
    "    line = line.strip()\n",
    "    if line.startswith('>'):  \n",
    "      name = line[1:]\n",
    "      sequences[name] = ''\n",
    "    else:\n",
    "      sequences[name] += line"
   ]
  },
  {
   "cell_type": "code",
   "execution_count": 19,
   "id": "9fe1ff69",
   "metadata": {},
   "outputs": [
    {
     "name": "stdout",
     "output_type": "stream",
     "text": [
      "Secuencias:\n",
      "0 XBB.1_hCoV-19/India/HP-NII-1567/2023|EPI_ISL_17096480|2023-02-16\n",
      "1 XBB.1_hCoV-19/India/UP-ILSGS21193/2023|EPI_ISL_17957744|2023-04-21\n",
      "2 BA.2.10.1_hCoV-19/India/KA-SEQ_14348_S209_R1_001/2022|EPI_ISL_11793512|2022-02-15\n",
      "3 BA.2.75_hCoV-19/India/HR-INSACOG-NII-1233/2022|EPI_ISL_14097842|2022-07-09\n",
      "4 BA.2.75_hCoV-19/India/HR-INSACOG/NII-1162/2022|EPI_ISL_13966919|2022-07-08\n",
      "5 BA.2.10.1_hCoV-19/India/TN-CORES_24939/2022|EPI_ISL_16741179|2022-01-03\n",
      "6 BA.2.75_hCoV-19/India/UP-IGIB2260PGI6431/2022|EPI_ISL_17025470|2022-08\n",
      "7 BA.2.75_hCoV-19/India/OR-RMRC_B-ICMR-INSACOG-BBS425522/2022|EPI_ISL_13953677|2022-07-10\n",
      "8 BA.2_hCoV-19/India/KA-SEQ_9767_S179_R1_001/2022|EPI_ISL_10080743|2022-01-02\n",
      "9 BA.2_hCoV-19/India/KA-SEQ_14412_S273_R1_001/2022|EPI_ISL_11793544|2022-02-01\n"
     ]
    }
   ],
   "source": [
    "#Imprime los nombres de las secuencias encontradas.\n",
    "print(\"Secuencias:\")\n",
    "i = 0\n",
    "for name in sequences.keys():\n",
    "  print(str(i)+' '+name)\n",
    "  i=i+1"
   ]
  },
  {
   "cell_type": "code",
   "execution_count": 20,
   "id": "02b81bec",
   "metadata": {},
   "outputs": [
    {
     "name": "stdout",
     "output_type": "stream",
     "text": [
      "[[  0.  50.  92.  43.  74.  92.  39.  40.  96.  86.]\n",
      " [ 50.   0.  72.  67.  50.  76.  72.  47.  93.  87.]\n",
      " [ 92.  72.   0.  81. 118.  29. 126.  95.  59.  66.]\n",
      " [ 43.  67.  81.   0.  47.  81.   9.  13.  80.  74.]\n",
      " [ 74.  50. 118.  47.   0. 117.  46.  12. 113. 106.]\n",
      " [ 92.  76.  29.  81. 117.   0. 134. 110.  60.  67.]\n",
      " [ 39.  72. 126.   9.  46. 134.   0.  11. 134. 126.]\n",
      " [ 40.  47.  95.  13.  12. 110.  11.   0. 113. 101.]\n",
      " [ 96.  93.  59.  80. 113.  60. 134. 113.   0.  66.]\n",
      " [ 86.  87.  66.  74. 106.  67. 126. 101.  66.   0.]]\n"
     ]
    }
   ],
   "source": [
    "num_seqs = len(sequences)\n",
    "dist_matrix = np.zeros((num_seqs, num_seqs))\n",
    "\n",
    "for i in range(num_seqs):\n",
    "    for j in range(i+1, num_seqs):\n",
    "        # Usamos list(sequences.items()) para convertir el diccionario a una lista de tuplas (nombre, secuencia)\n",
    "        name1, seq1 = list(sequences.items())[i]\n",
    "        name2, seq2 = list(sequences.items())[j]\n",
    "        diff_count = 0\n",
    "        \n",
    "        # Modificamos el rango para excluir los primeros 54 y los últimos 68 caracteres\n",
    "        for k in range(0, len(seq1)):\n",
    "            # Para cada par de secuencias, cuenta el número de diferencias (mutaciones) entre ellas en los rangos especificados.\n",
    "            if seq1[k] != seq2[k] and seq1[k] != 'N' and seq2[k] != 'N':\n",
    "                diff_count += 1\n",
    "        \n",
    "        # Guarda las distancias en la matriz de distancia simétrica\n",
    "        dist_matrix[i,j] = diff_count\n",
    "        dist_matrix[j,i] = diff_count\n",
    "\n",
    "print(dist_matrix)"
   ]
  },
  {
   "cell_type": "code",
   "execution_count": 21,
   "id": "c16508d4",
   "metadata": {},
   "outputs": [
    {
     "data": {
      "text/plain": [
       "(10, 10)"
      ]
     },
     "execution_count": 21,
     "metadata": {},
     "output_type": "execute_result"
    }
   ],
   "source": [
    "pd.DataFrame(dist_matrix).shape"
   ]
  },
  {
   "cell_type": "code",
   "execution_count": 22,
   "id": "58492b26",
   "metadata": {},
   "outputs": [
    {
     "data": {
      "image/png": "[encoded data removed]",
      "text/plain": [
       "<Figure size 1000x800 with 2 Axes>"
      ]
     },
     "metadata": {},
     "output_type": "display_data"
    }
   ],
   "source": [
    "import seaborn as sns\n",
    "# Crear la figura y los ejes\n",
    "plt.figure(figsize=(10, 8))\n",
    "\n",
    "# Generar el mapa de calor\n",
    "sns.heatmap(dist_matrix, annot=False, cmap='YlOrRd')\n",
    "\n",
    "# Añadir título\n",
    "plt.title('Mapa de Calor de la Matriz de Distancia')\n",
    "\n",
    "# Ajustar el diseño\n",
    "plt.tight_layout()\n"
   ]
  },
  {
   "cell_type": "code",
   "execution_count": 23,
   "id": "2a9d368a",
   "metadata": {},
   "outputs": [
    {
     "name": "stdout",
     "output_type": "stream",
     "text": [
      "#####################################################################\n",
      "RipsComplex creation from defined distance matrix G3\n"
     ]
    }
   ],
   "source": [
    "max_edge_length = 1000\n",
    "max_dimension = 3\n",
    "band = 0.0\n",
    "\n",
    "print(\"#####################################################################\")\n",
    "print(\"RipsComplex creation from defined distance matrix G3\")\n",
    "   \n",
    "rips_complex = gudhi.RipsComplex(\n",
    "   distance_matrix=dist_matrix, max_edge_length=max_edge_length  \n",
    ")"
   ]
  },
  {
   "cell_type": "code",
   "execution_count": 24,
   "id": "add5581d",
   "metadata": {},
   "outputs": [
    {
     "name": "stdout",
     "output_type": "stream",
     "text": [
      "Number of simplices=385\n",
      "betti_numbers()=\n",
      "[1, 0, 0]\n"
     ]
    }
   ],
   "source": [
    "simplex_tree = rips_complex.create_simplex_tree(max_dimension=max_dimension)\n",
    "   \n",
    "message = \"Number of simplices=\" + repr(simplex_tree.num_simplices()) \n",
    "print(message)\n",
    "  \n",
    "diag = simplex_tree.persistence()\n",
    "\n",
    "print(\"betti_numbers()=\")\n",
    "print(simplex_tree.betti_numbers())"
   ]
  },
  {
   "cell_type": "code",
   "execution_count": 25,
   "id": "2d722444",
   "metadata": {},
   "outputs": [
    {
     "data": {
      "image/png": "[encoded data removed]",
      "text/plain": [
       "<Figure size 640x480 with 1 Axes>"
      ]
     },
     "metadata": {},
     "output_type": "display_data"
    }
   ],
   "source": [
    "gudhi.plot_persistence_diagram(diag, band=band)\n",
    "plt.title(\"\")\n",
    "plt.show()"
   ]
  },
  {
   "cell_type": "code",
   "execution_count": 26,
   "id": "2963b076",
   "metadata": {},
   "outputs": [
    {
     "data": {
      "image/png": "[encoded data removed]",
      "text/plain": [
       "<Figure size 640x480 with 1 Axes>"
      ]
     },
     "metadata": {},
     "output_type": "display_data"
    }
   ],
   "source": [
    "gudhi.plot_persistence_barcode(diag)\n",
    "plt.title(\"Código de barras de las secuencias\")\n",
    "plt.show()"
   ]
  },
  {
   "cell_type": "code",
   "execution_count": 27,
   "id": "3a32c411",
   "metadata": {},
   "outputs": [
    {
     "name": "stdout",
     "output_type": "stream",
     "text": [
      "Number of simplices=385\n",
      "betti_numbers()=\n",
      "[1, 0, 0]\n",
      "\n",
      "Persistence intervals for 1-dimensional holes:\n",
      "Birth: 74.0, Death: 81.0\n",
      "\n",
      "Persistence intervals for 2-dimensional holes:\n"
     ]
    }
   ],
   "source": [
    "simplex_tree = rips_complex.create_simplex_tree(max_dimension=max_dimension)\n",
    "   \n",
    "message = \"Number of simplices=\" + repr(simplex_tree.num_simplices()) \n",
    "print(message)\n",
    "  \n",
    "diag = simplex_tree.persistence()\n",
    "\n",
    "print(\"betti_numbers()=\")\n",
    "print(simplex_tree.betti_numbers())\n",
    "\n",
    "# Add this new code to print birth and death times for 1D and 2D holes\n",
    "print(\"\\nPersistence intervals for 1-dimensional holes:\")\n",
    "for interval in simplex_tree.persistence_intervals_in_dimension(1):\n",
    "    print(f\"Birth: {interval[0]}, Death: {interval[1]}\")\n",
    "\n",
    "print(\"\\nPersistence intervals for 2-dimensional holes:\")\n",
    "for interval in simplex_tree.persistence_intervals_in_dimension(2):\n",
    "    print(f\"Birth: {interval[0]}, Death: {interval[1]}\")"
   ]
  },
  {
   "cell_type": "code",
   "execution_count": 28,
   "id": "9845d941",
   "metadata": {},
   "outputs": [
    {
     "name": "stdout",
     "output_type": "stream",
     "text": [
      "Visualizing 3D simplicial complex at filtration time 73\n",
      "Número de secuencias para la prueba:\n",
      "XBB.1 = 2 (green)\n",
      "BA.2.10.1 = 2 (orange)\n",
      "BA.2.75 = 4 (yellow)\n",
      "BA.2 = 2 (blue)\n"
     ]
    },
    {
     "data": {
      "application/vnd.plotly.v1+json": {
       "config": {
        "plotlyServerURL": "https://plot.ly"
       },
       "data": [
        {
         "hoverinfo": "none",
         "line": {
          "color": "rgba(0,0,0,0.5)",
          "width": 2
         },
         "mode": "lines",
         "type": "scatter3d",
         "x": [
          -0.48646432664893013,
          -0.6086228293078272,
          null,
          -0.48646432664893013,
          -0.3121509795492866,
          null,
          -0.48646432664893013,
          -0.17523333042830333,
          null,
          -0.48646432664893013,
          -0.21445010505442294,
          null,
          -0.48646432664893013,
          -0.7105529034568518,
          null,
          -0.21445010505442294,
          -0.3121509795492866,
          null,
          -0.21445010505442294,
          -0.7105529034568518,
          null,
          -0.21445010505442294,
          -0.17523333042830333,
          null,
          -0.21445010505442294,
          0.42111791923840847,
          null,
          -0.21445010505442294,
          -0.6086228293078272,
          null,
          0.42111791923840847,
          0.6589416290050819,
          null,
          0.42111791923840847,
          0.964686178296802,
          null,
          0.42111791923840847,
          0.46272874790533003,
          null,
          -0.17523333042830333,
          -0.6086228293078272,
          null,
          -0.17523333042830333,
          -0.3121509795492866,
          null,
          -0.17523333042830333,
          -0.7105529034568518,
          null,
          -0.17523333042830333,
          0.46272874790533003,
          null,
          -0.7105529034568518,
          -0.3121509795492866,
          null,
          -0.7105529034568518,
          -0.6086228293078272,
          null,
          0.6589416290050819,
          0.964686178296802,
          null,
          0.6589416290050819,
          0.46272874790533003,
          null,
          -0.6086228293078272,
          -0.3121509795492866,
          null,
          0.964686178296802,
          0.46272874790533003,
          null
         ],
         "y": [
          0.5796405204770735,
          0.5761442175878828,
          null,
          0.5796405204770735,
          0.7374283602521421,
          null,
          0.5796405204770735,
          0.18425842211609947,
          null,
          0.5796405204770735,
          0.22612755760182154,
          null,
          0.5796405204770735,
          0.340072475414598,
          null,
          0.22612755760182154,
          0.7374283602521421,
          null,
          0.22612755760182154,
          0.340072475414598,
          null,
          0.22612755760182154,
          0.18425842211609947,
          null,
          0.22612755760182154,
          -0.4380136319810978,
          null,
          0.22612755760182154,
          0.5761442175878828,
          null,
          -0.4380136319810978,
          -0.9999999999999999,
          null,
          -0.4380136319810978,
          -0.7133130913042018,
          null,
          -0.4380136319810978,
          -0.4923448301643189,
          null,
          0.18425842211609947,
          0.5761442175878828,
          null,
          0.18425842211609947,
          0.7374283602521421,
          null,
          0.18425842211609947,
          0.340072475414598,
          null,
          0.18425842211609947,
          -0.4923448301643189,
          null,
          0.340072475414598,
          0.7374283602521421,
          null,
          0.340072475414598,
          0.5761442175878828,
          null,
          -0.9999999999999999,
          -0.7133130913042018,
          null,
          -0.9999999999999999,
          -0.4923448301643189,
          null,
          0.5761442175878828,
          0.7374283602521421,
          null,
          -0.7133130913042018,
          -0.4923448301643189,
          null
         ],
         "z": [
          0.3755377191037251,
          -0.1064600278578595,
          null,
          0.3755377191037251,
          0.0791236664996768,
          null,
          0.3755377191037251,
          0.22811177819827225,
          null,
          0.3755377191037251,
          -0.13355942730543238,
          null,
          0.3755377191037251,
          0.1702831215466752,
          null,
          -0.13355942730543238,
          0.0791236664996768,
          null,
          -0.13355942730543238,
          0.1702831215466752,
          null,
          -0.13355942730543238,
          0.22811177819827225,
          null,
          -0.13355942730543238,
          -0.3219362469947055,
          null,
          -0.13355942730543238,
          -0.1064600278578595,
          null,
          -0.3219362469947055,
          -0.2067647311510718,
          null,
          -0.3219362469947055,
          -0.18756193398746301,
          null,
          -0.3219362469947055,
          0.10322608194818211,
          null,
          0.22811177819827225,
          -0.1064600278578595,
          null,
          0.22811177819827225,
          0.0791236664996768,
          null,
          0.22811177819827225,
          0.1702831215466752,
          null,
          0.22811177819827225,
          0.10322608194818211,
          null,
          0.1702831215466752,
          0.0791236664996768,
          null,
          0.1702831215466752,
          -0.1064600278578595,
          null,
          -0.2067647311510718,
          -0.18756193398746301,
          null,
          -0.2067647311510718,
          0.10322608194818211,
          null,
          -0.1064600278578595,
          0.0791236664996768,
          null,
          -0.18756193398746301,
          0.10322608194818211,
          null
         ]
        },
        {
         "hoverinfo": "text",
         "hovertext": [
          "XBB.1_17096480",
          "XBB.1_17957744",
          "BA.2.10.1_11793512",
          "BA.2.75_14097842",
          "BA.2.75_13966919",
          "BA.2.10.1_16741179",
          "BA.2.75_17025470",
          "BA.2.75_13953677",
          "BA.2_10080743",
          "BA.2_11793544"
         ],
         "marker": {
          "color": [
           "green",
           "green",
           "orange",
           "yellow",
           "yellow",
           "orange",
           "yellow",
           "yellow",
           "blue",
           "blue"
          ],
          "size": 5
         },
         "mode": "markers",
         "type": "scatter3d",
         "x": [
          -0.48646432664893013,
          -0.21445010505442294,
          0.42111791923840847,
          -0.17523333042830333,
          -0.7105529034568518,
          0.6589416290050819,
          -0.6086228293078272,
          -0.3121509795492866,
          0.964686178296802,
          0.46272874790533003
         ],
         "y": [
          0.5796405204770735,
          0.22612755760182154,
          -0.4380136319810978,
          0.18425842211609947,
          0.340072475414598,
          -0.9999999999999999,
          0.5761442175878828,
          0.7374283602521421,
          -0.7133130913042018,
          -0.4923448301643189
         ],
         "z": [
          0.3755377191037251,
          -0.13355942730543238,
          -0.3219362469947055,
          0.22811177819827225,
          0.1702831215466752,
          -0.2067647311510718,
          -0.1064600278578595,
          0.0791236664996768,
          -0.18756193398746301,
          0.10322608194818211
         ]
        },
        {
         "hoverinfo": "none",
         "mode": "text",
         "text": [
          "XBB.1_17096480",
          "XBB.1_17957744",
          "BA.2.10.1_11793512",
          "BA.2.75_14097842",
          "BA.2.75_13966919",
          "BA.2.10.1_16741179",
          "BA.2.75_17025470",
          "BA.2.75_13953677",
          "BA.2_10080743",
          "BA.2_11793544"
         ],
         "textfont": {
          "color": "black",
          "family": "Arial Black",
          "size": 8
         },
         "textposition": "top center",
         "type": "scatter3d",
         "x": [
          -0.48646432664893013,
          -0.21445010505442294,
          0.42111791923840847,
          -0.17523333042830333,
          -0.7105529034568518,
          0.6589416290050819,
          -0.6086228293078272,
          -0.3121509795492866,
          0.964686178296802,
          0.46272874790533003
         ],
         "y": [
          0.5796405204770735,
          0.22612755760182154,
          -0.4380136319810978,
          0.18425842211609947,
          0.340072475414598,
          -0.9999999999999999,
          0.5761442175878828,
          0.7374283602521421,
          -0.7133130913042018,
          -0.4923448301643189
         ],
         "z": [
          0.3755377191037251,
          -0.13355942730543238,
          -0.3219362469947055,
          0.22811177819827225,
          0.1702831215466752,
          -0.2067647311510718,
          -0.1064600278578595,
          0.0791236664996768,
          -0.18756193398746301,
          0.10322608194818211
         ]
        },
        {
         "color": "red",
         "opacity": 0.2,
         "type": "mesh3d",
         "x": [
          -0.48646432664893013,
          -0.21445010505442294,
          -0.17523333042830333,
          -0.48646432664893013
         ],
         "y": [
          0.5796405204770735,
          0.22612755760182154,
          0.18425842211609947,
          0.5796405204770735
         ],
         "z": [
          0.3755377191037251,
          -0.13355942730543238,
          0.22811177819827225,
          0.3755377191037251
         ]
        },
        {
         "color": "red",
         "opacity": 0.2,
         "type": "mesh3d",
         "x": [
          -0.48646432664893013,
          -0.21445010505442294,
          -0.7105529034568518,
          -0.48646432664893013
         ],
         "y": [
          0.5796405204770735,
          0.22612755760182154,
          0.340072475414598,
          0.5796405204770735
         ],
         "z": [
          0.3755377191037251,
          -0.13355942730543238,
          0.1702831215466752,
          0.3755377191037251
         ]
        },
        {
         "color": "red",
         "opacity": 0.2,
         "type": "mesh3d",
         "x": [
          -0.48646432664893013,
          -0.21445010505442294,
          -0.6086228293078272,
          -0.48646432664893013
         ],
         "y": [
          0.5796405204770735,
          0.22612755760182154,
          0.5761442175878828,
          0.5796405204770735
         ],
         "z": [
          0.3755377191037251,
          -0.13355942730543238,
          -0.1064600278578595,
          0.3755377191037251
         ]
        },
        {
         "color": "red",
         "opacity": 0.2,
         "type": "mesh3d",
         "x": [
          -0.48646432664893013,
          -0.21445010505442294,
          -0.3121509795492866,
          -0.48646432664893013
         ],
         "y": [
          0.5796405204770735,
          0.22612755760182154,
          0.7374283602521421,
          0.5796405204770735
         ],
         "z": [
          0.3755377191037251,
          -0.13355942730543238,
          0.0791236664996768,
          0.3755377191037251
         ]
        },
        {
         "color": "red",
         "opacity": 0.2,
         "type": "mesh3d",
         "x": [
          -0.48646432664893013,
          -0.17523333042830333,
          -0.7105529034568518,
          -0.48646432664893013
         ],
         "y": [
          0.5796405204770735,
          0.18425842211609947,
          0.340072475414598,
          0.5796405204770735
         ],
         "z": [
          0.3755377191037251,
          0.22811177819827225,
          0.1702831215466752,
          0.3755377191037251
         ]
        },
        {
         "color": "red",
         "opacity": 0.2,
         "type": "mesh3d",
         "x": [
          -0.48646432664893013,
          -0.17523333042830333,
          -0.6086228293078272,
          -0.48646432664893013
         ],
         "y": [
          0.5796405204770735,
          0.18425842211609947,
          0.5761442175878828,
          0.5796405204770735
         ],
         "z": [
          0.3755377191037251,
          0.22811177819827225,
          -0.1064600278578595,
          0.3755377191037251
         ]
        },
        {
         "color": "red",
         "opacity": 0.2,
         "type": "mesh3d",
         "x": [
          -0.48646432664893013,
          -0.17523333042830333,
          -0.3121509795492866,
          -0.48646432664893013
         ],
         "y": [
          0.5796405204770735,
          0.18425842211609947,
          0.7374283602521421,
          0.5796405204770735
         ],
         "z": [
          0.3755377191037251,
          0.22811177819827225,
          0.0791236664996768,
          0.3755377191037251
         ]
        },
        {
         "color": "red",
         "opacity": 0.2,
         "type": "mesh3d",
         "x": [
          -0.48646432664893013,
          -0.7105529034568518,
          -0.6086228293078272,
          -0.48646432664893013
         ],
         "y": [
          0.5796405204770735,
          0.340072475414598,
          0.5761442175878828,
          0.5796405204770735
         ],
         "z": [
          0.3755377191037251,
          0.1702831215466752,
          -0.1064600278578595,
          0.3755377191037251
         ]
        },
        {
         "color": "red",
         "opacity": 0.2,
         "type": "mesh3d",
         "x": [
          -0.48646432664893013,
          -0.7105529034568518,
          -0.3121509795492866,
          -0.48646432664893013
         ],
         "y": [
          0.5796405204770735,
          0.340072475414598,
          0.7374283602521421,
          0.5796405204770735
         ],
         "z": [
          0.3755377191037251,
          0.1702831215466752,
          0.0791236664996768,
          0.3755377191037251
         ]
        },
        {
         "color": "red",
         "opacity": 0.2,
         "type": "mesh3d",
         "x": [
          -0.48646432664893013,
          -0.6086228293078272,
          -0.3121509795492866,
          -0.48646432664893013
         ],
         "y": [
          0.5796405204770735,
          0.5761442175878828,
          0.7374283602521421,
          0.5796405204770735
         ],
         "z": [
          0.3755377191037251,
          -0.1064600278578595,
          0.0791236664996768,
          0.3755377191037251
         ]
        },
        {
         "color": "red",
         "opacity": 0.2,
         "type": "mesh3d",
         "x": [
          -0.21445010505442294,
          -0.17523333042830333,
          -0.7105529034568518,
          -0.21445010505442294
         ],
         "y": [
          0.22612755760182154,
          0.18425842211609947,
          0.340072475414598,
          0.22612755760182154
         ],
         "z": [
          -0.13355942730543238,
          0.22811177819827225,
          0.1702831215466752,
          -0.13355942730543238
         ]
        },
        {
         "color": "red",
         "opacity": 0.2,
         "type": "mesh3d",
         "x": [
          -0.21445010505442294,
          -0.17523333042830333,
          -0.6086228293078272,
          -0.21445010505442294
         ],
         "y": [
          0.22612755760182154,
          0.18425842211609947,
          0.5761442175878828,
          0.22612755760182154
         ],
         "z": [
          -0.13355942730543238,
          0.22811177819827225,
          -0.1064600278578595,
          -0.13355942730543238
         ]
        },
        {
         "color": "red",
         "opacity": 0.2,
         "type": "mesh3d",
         "x": [
          -0.21445010505442294,
          -0.17523333042830333,
          -0.3121509795492866,
          -0.21445010505442294
         ],
         "y": [
          0.22612755760182154,
          0.18425842211609947,
          0.7374283602521421,
          0.22612755760182154
         ],
         "z": [
          -0.13355942730543238,
          0.22811177819827225,
          0.0791236664996768,
          -0.13355942730543238
         ]
        },
        {
         "color": "red",
         "opacity": 0.2,
         "type": "mesh3d",
         "x": [
          -0.21445010505442294,
          -0.7105529034568518,
          -0.6086228293078272,
          -0.21445010505442294
         ],
         "y": [
          0.22612755760182154,
          0.340072475414598,
          0.5761442175878828,
          0.22612755760182154
         ],
         "z": [
          -0.13355942730543238,
          0.1702831215466752,
          -0.1064600278578595,
          -0.13355942730543238
         ]
        },
        {
         "color": "red",
         "opacity": 0.2,
         "type": "mesh3d",
         "x": [
          -0.21445010505442294,
          -0.7105529034568518,
          -0.3121509795492866,
          -0.21445010505442294
         ],
         "y": [
          0.22612755760182154,
          0.340072475414598,
          0.7374283602521421,
          0.22612755760182154
         ],
         "z": [
          -0.13355942730543238,
          0.1702831215466752,
          0.0791236664996768,
          -0.13355942730543238
         ]
        },
        {
         "color": "red",
         "opacity": 0.2,
         "type": "mesh3d",
         "x": [
          -0.21445010505442294,
          -0.6086228293078272,
          -0.3121509795492866,
          -0.21445010505442294
         ],
         "y": [
          0.22612755760182154,
          0.5761442175878828,
          0.7374283602521421,
          0.22612755760182154
         ],
         "z": [
          -0.13355942730543238,
          -0.1064600278578595,
          0.0791236664996768,
          -0.13355942730543238
         ]
        },
        {
         "color": "red",
         "opacity": 0.2,
         "type": "mesh3d",
         "x": [
          0.42111791923840847,
          0.6589416290050819,
          0.964686178296802,
          0.42111791923840847
         ],
         "y": [
          -0.4380136319810978,
          -0.9999999999999999,
          -0.7133130913042018,
          -0.4380136319810978
         ],
         "z": [
          -0.3219362469947055,
          -0.2067647311510718,
          -0.18756193398746301,
          -0.3219362469947055
         ]
        },
        {
         "color": "red",
         "opacity": 0.2,
         "type": "mesh3d",
         "x": [
          0.42111791923840847,
          0.6589416290050819,
          0.46272874790533003,
          0.42111791923840847
         ],
         "y": [
          -0.4380136319810978,
          -0.9999999999999999,
          -0.4923448301643189,
          -0.4380136319810978
         ],
         "z": [
          -0.3219362469947055,
          -0.2067647311510718,
          0.10322608194818211,
          -0.3219362469947055
         ]
        },
        {
         "color": "red",
         "opacity": 0.2,
         "type": "mesh3d",
         "x": [
          0.42111791923840847,
          0.964686178296802,
          0.46272874790533003,
          0.42111791923840847
         ],
         "y": [
          -0.4380136319810978,
          -0.7133130913042018,
          -0.4923448301643189,
          -0.4380136319810978
         ],
         "z": [
          -0.3219362469947055,
          -0.18756193398746301,
          0.10322608194818211,
          -0.3219362469947055
         ]
        },
        {
         "color": "red",
         "opacity": 0.2,
         "type": "mesh3d",
         "x": [
          -0.17523333042830333,
          -0.7105529034568518,
          -0.6086228293078272,
          -0.17523333042830333
         ],
         "y": [
          0.18425842211609947,
          0.340072475414598,
          0.5761442175878828,
          0.18425842211609947
         ],
         "z": [
          0.22811177819827225,
          0.1702831215466752,
          -0.1064600278578595,
          0.22811177819827225
         ]
        },
        {
         "color": "red",
         "opacity": 0.2,
         "type": "mesh3d",
         "x": [
          -0.17523333042830333,
          -0.7105529034568518,
          -0.3121509795492866,
          -0.17523333042830333
         ],
         "y": [
          0.18425842211609947,
          0.340072475414598,
          0.7374283602521421,
          0.18425842211609947
         ],
         "z": [
          0.22811177819827225,
          0.1702831215466752,
          0.0791236664996768,
          0.22811177819827225
         ]
        },
        {
         "color": "red",
         "opacity": 0.2,
         "type": "mesh3d",
         "x": [
          -0.17523333042830333,
          -0.6086228293078272,
          -0.3121509795492866,
          -0.17523333042830333
         ],
         "y": [
          0.18425842211609947,
          0.5761442175878828,
          0.7374283602521421,
          0.18425842211609947
         ],
         "z": [
          0.22811177819827225,
          -0.1064600278578595,
          0.0791236664996768,
          0.22811177819827225
         ]
        },
        {
         "color": "red",
         "opacity": 0.2,
         "type": "mesh3d",
         "x": [
          -0.7105529034568518,
          -0.6086228293078272,
          -0.3121509795492866,
          -0.7105529034568518
         ],
         "y": [
          0.340072475414598,
          0.5761442175878828,
          0.7374283602521421,
          0.340072475414598
         ],
         "z": [
          0.1702831215466752,
          -0.1064600278578595,
          0.0791236664996768,
          0.1702831215466752
         ]
        },
        {
         "color": "red",
         "opacity": 0.2,
         "type": "mesh3d",
         "x": [
          0.6589416290050819,
          0.964686178296802,
          0.46272874790533003,
          0.6589416290050819
         ],
         "y": [
          -0.9999999999999999,
          -0.7133130913042018,
          -0.4923448301643189,
          -0.9999999999999999
         ],
         "z": [
          -0.2067647311510718,
          -0.18756193398746301,
          0.10322608194818211,
          -0.2067647311510718
         ]
        }
       ],
       "layout": {
        "height": 1000,
        "margin": {
         "b": 0,
         "l": 0,
         "r": 0,
         "t": 0
        },
        "scene": {
         "xaxis": {
          "showgrid": false,
          "showticklabels": false,
          "zeroline": false
         },
         "yaxis": {
          "showgrid": false,
          "showticklabels": false,
          "zeroline": false
         },
         "zaxis": {
          "showgrid": false,
          "showticklabels": false,
          "zeroline": false
         }
        },
        "showlegend": false,
        "template": {
         "data": {
          "bar": [
           {
            "error_x": {
             "color": "#2a3f5f"
            },
            "error_y": {
             "color": "#2a3f5f"
            },
            "marker": {
             "line": {
              "color": "#E5ECF6",
              "width": 0.5
             },
             "pattern": {
              "fillmode": "overlay",
              "size": 10,
              "solidity": 0.2
             }
            },
            "type": "bar"
           }
          ],
          "barpolar": [
           {
            "marker": {
             "line": {
              "color": "#E5ECF6",
              "width": 0.5
             },
             "pattern": {
              "fillmode": "overlay",
              "size": 10,
              "solidity": 0.2
             }
            },
            "type": "barpolar"
           }
          ],
          "carpet": [
           {
            "aaxis": {
             "endlinecolor": "#2a3f5f",
             "gridcolor": "white",
             "linecolor": "white",
             "minorgridcolor": "white",
             "startlinecolor": "#2a3f5f"
            },
            "baxis": {
             "endlinecolor": "#2a3f5f",
             "gridcolor": "white",
             "linecolor": "white",
             "minorgridcolor": "white",
             "startlinecolor": "#2a3f5f"
            },
            "type": "carpet"
           }
          ],
          "choropleth": [
           {
            "colorbar": {
             "outlinewidth": 0,
             "ticks": ""
            },
            "type": "choropleth"
           }
          ],
          "contour": [
           {
            "colorbar": {
             "outlinewidth": 0,
             "ticks": ""
            },
            "colorscale": [
             [
              0,
              "#0d0887"
             ],
             [
              0.1111111111111111,
              "#46039f"
             ],
             [
              0.2222222222222222,
              "#7201a8"
             ],
             [
              0.3333333333333333,
              "#9c179e"
             ],
             [
              0.4444444444444444,
              "#bd3786"
             ],
             [
              0.5555555555555556,
              "#d8576b"
             ],
             [
              0.6666666666666666,
              "#ed7953"
             ],
             [
              0.7777777777777778,
              "#fb9f3a"
             ],
             [
              0.8888888888888888,
              "#fdca26"
             ],
             [
              1,
              "#f0f921"
             ]
            ],
            "type": "contour"
           }
          ],
          "contourcarpet": [
           {
            "colorbar": {
             "outlinewidth": 0,
             "ticks": ""
            },
            "type": "contourcarpet"
           }
          ],
          "heatmap": [
           {
            "colorbar": {
             "outlinewidth": 0,
             "ticks": ""
            },
            "colorscale": [
             [
              0,
              "#0d0887"
             ],
             [
              0.1111111111111111,
              "#46039f"
             ],
             [
              0.2222222222222222,
              "#7201a8"
             ],
             [
              0.3333333333333333,
              "#9c179e"
             ],
             [
              0.4444444444444444,
              "#bd3786"
             ],
             [
              0.5555555555555556,
              "#d8576b"
             ],
             [
              0.6666666666666666,
              "#ed7953"
             ],
             [
              0.7777777777777778,
              "#fb9f3a"
             ],
             [
              0.8888888888888888,
              "#fdca26"
             ],
             [
              1,
              "#f0f921"
             ]
            ],
            "type": "heatmap"
           }
          ],
          "heatmapgl": [
           {
            "colorbar": {
             "outlinewidth": 0,
             "ticks": ""
            },
            "colorscale": [
             [
              0,
              "#0d0887"
             ],
             [
              0.1111111111111111,
              "#46039f"
             ],
             [
              0.2222222222222222,
              "#7201a8"
             ],
             [
              0.3333333333333333,
              "#9c179e"
             ],
             [
              0.4444444444444444,
              "#bd3786"
             ],
             [
              0.5555555555555556,
              "#d8576b"
             ],
             [
              0.6666666666666666,
              "#ed7953"
             ],
             [
              0.7777777777777778,
              "#fb9f3a"
             ],
             [
              0.8888888888888888,
              "#fdca26"
             ],
             [
              1,
              "#f0f921"
             ]
            ],
            "type": "heatmapgl"
           }
          ],
          "histogram": [
           {
            "marker": {
             "pattern": {
              "fillmode": "overlay",
              "size": 10,
              "solidity": 0.2
             }
            },
            "type": "histogram"
           }
          ],
          "histogram2d": [
           {
            "colorbar": {
             "outlinewidth": 0,
             "ticks": ""
            },
            "colorscale": [
             [
              0,
              "#0d0887"
             ],
             [
              0.1111111111111111,
              "#46039f"
             ],
             [
              0.2222222222222222,
              "#7201a8"
             ],
             [
              0.3333333333333333,
              "#9c179e"
             ],
             [
              0.4444444444444444,
              "#bd3786"
             ],
             [
              0.5555555555555556,
              "#d8576b"
             ],
             [
              0.6666666666666666,
              "#ed7953"
             ],
             [
              0.7777777777777778,
              "#fb9f3a"
             ],
             [
              0.8888888888888888,
              "#fdca26"
             ],
             [
              1,
              "#f0f921"
             ]
            ],
            "type": "histogram2d"
           }
          ],
          "histogram2dcontour": [
           {
            "colorbar": {
             "outlinewidth": 0,
             "ticks": ""
            },
            "colorscale": [
             [
              0,
              "#0d0887"
             ],
             [
              0.1111111111111111,
              "#46039f"
             ],
             [
              0.2222222222222222,
              "#7201a8"
             ],
             [
              0.3333333333333333,
              "#9c179e"
             ],
             [
              0.4444444444444444,
              "#bd3786"
             ],
             [
              0.5555555555555556,
              "#d8576b"
             ],
             [
              0.6666666666666666,
              "#ed7953"
             ],
             [
              0.7777777777777778,
              "#fb9f3a"
             ],
             [
              0.8888888888888888,
              "#fdca26"
             ],
             [
              1,
              "#f0f921"
             ]
            ],
            "type": "histogram2dcontour"
           }
          ],
          "mesh3d": [
           {
            "colorbar": {
             "outlinewidth": 0,
             "ticks": ""
            },
            "type": "mesh3d"
           }
          ],
          "parcoords": [
           {
            "line": {
             "colorbar": {
              "outlinewidth": 0,
              "ticks": ""
             }
            },
            "type": "parcoords"
           }
          ],
          "pie": [
           {
            "automargin": true,
            "type": "pie"
           }
          ],
          "scatter": [
           {
            "fillpattern": {
             "fillmode": "overlay",
             "size": 10,
             "solidity": 0.2
            },
            "type": "scatter"
           }
          ],
          "scatter3d": [
           {
            "line": {
             "colorbar": {
              "outlinewidth": 0,
              "ticks": ""
             }
            },
            "marker": {
             "colorbar": {
              "outlinewidth": 0,
              "ticks": ""
             }
            },
            "type": "scatter3d"
           }
          ],
          "scattercarpet": [
           {
            "marker": {
             "colorbar": {
              "outlinewidth": 0,
              "ticks": ""
             }
            },
            "type": "scattercarpet"
           }
          ],
          "scattergeo": [
           {
            "marker": {
             "colorbar": {
              "outlinewidth": 0,
              "ticks": ""
             }
            },
            "type": "scattergeo"
           }
          ],
          "scattergl": [
           {
            "marker": {
             "colorbar": {
              "outlinewidth": 0,
              "ticks": ""
             }
            },
            "type": "scattergl"
           }
          ],
          "scattermapbox": [
           {
            "marker": {
             "colorbar": {
              "outlinewidth": 0,
              "ticks": ""
             }
            },
            "type": "scattermapbox"
           }
          ],
          "scatterpolar": [
           {
            "marker": {
             "colorbar": {
              "outlinewidth": 0,
              "ticks": ""
             }
            },
            "type": "scatterpolar"
           }
          ],
          "scatterpolargl": [
           {
            "marker": {
             "colorbar": {
              "outlinewidth": 0,
              "ticks": ""
             }
            },
            "type": "scatterpolargl"
           }
          ],
          "scatterternary": [
           {
            "marker": {
             "colorbar": {
              "outlinewidth": 0,
              "ticks": ""
             }
            },
            "type": "scatterternary"
           }
          ],
          "surface": [
           {
            "colorbar": {
             "outlinewidth": 0,
             "ticks": ""
            },
            "colorscale": [
             [
              0,
              "#0d0887"
             ],
             [
              0.1111111111111111,
              "#46039f"
             ],
             [
              0.2222222222222222,
              "#7201a8"
             ],
             [
              0.3333333333333333,
              "#9c179e"
             ],
             [
              0.4444444444444444,
              "#bd3786"
             ],
             [
              0.5555555555555556,
              "#d8576b"
             ],
             [
              0.6666666666666666,
              "#ed7953"
             ],
             [
              0.7777777777777778,
              "#fb9f3a"
             ],
             [
              0.8888888888888888,
              "#fdca26"
             ],
             [
              1,
              "#f0f921"
             ]
            ],
            "type": "surface"
           }
          ],
          "table": [
           {
            "cells": {
             "fill": {
              "color": "#EBF0F8"
             },
             "line": {
              "color": "white"
             }
            },
            "header": {
             "fill": {
              "color": "#C8D4E3"
             },
             "line": {
              "color": "white"
             }
            },
            "type": "table"
           }
          ]
         },
         "layout": {
          "annotationdefaults": {
           "arrowcolor": "#2a3f5f",
           "arrowhead": 0,
           "arrowwidth": 1
          },
          "autotypenumbers": "strict",
          "coloraxis": {
           "colorbar": {
            "outlinewidth": 0,
            "ticks": ""
           }
          },
          "colorscale": {
           "diverging": [
            [
             0,
             "#8e0152"
            ],
            [
             0.1,
             "#c51b7d"
            ],
            [
             0.2,
             "#de77ae"
            ],
            [
             0.3,
             "#f1b6da"
            ],
            [
             0.4,
             "#fde0ef"
            ],
            [
             0.5,
             "#f7f7f7"
            ],
            [
             0.6,
             "#e6f5d0"
            ],
            [
             0.7,
             "#b8e186"
            ],
            [
             0.8,
             "#7fbc41"
            ],
            [
             0.9,
             "#4d9221"
            ],
            [
             1,
             "#276419"
            ]
           ],
           "sequential": [
            [
             0,
             "#0d0887"
            ],
            [
             0.1111111111111111,
             "#46039f"
            ],
            [
             0.2222222222222222,
             "#7201a8"
            ],
            [
             0.3333333333333333,
             "#9c179e"
            ],
            [
             0.4444444444444444,
             "#bd3786"
            ],
            [
             0.5555555555555556,
             "#d8576b"
            ],
            [
             0.6666666666666666,
             "#ed7953"
            ],
            [
             0.7777777777777778,
             "#fb9f3a"
            ],
            [
             0.8888888888888888,
             "#fdca26"
            ],
            [
             1,
             "#f0f921"
            ]
           ],
           "sequentialminus": [
            [
             0,
             "#0d0887"
            ],
            [
             0.1111111111111111,
             "#46039f"
            ],
            [
             0.2222222222222222,
             "#7201a8"
            ],
            [
             0.3333333333333333,
             "#9c179e"
            ],
            [
             0.4444444444444444,
             "#bd3786"
            ],
            [
             0.5555555555555556,
             "#d8576b"
            ],
            [
             0.6666666666666666,
             "#ed7953"
            ],
            [
             0.7777777777777778,
             "#fb9f3a"
            ],
            [
             0.8888888888888888,
             "#fdca26"
            ],
            [
             1,
             "#f0f921"
            ]
           ]
          },
          "colorway": [
           "#636efa",
           "#EF553B",
           "#00cc96",
           "#ab63fa",
           "#FFA15A",
           "#19d3f3",
           "#FF6692",
           "#B6E880",
           "#FF97FF",
           "#FECB52"
          ],
          "font": {
           "color": "#2a3f5f"
          },
          "geo": {
           "bgcolor": "white",
           "lakecolor": "white",
           "landcolor": "#E5ECF6",
           "showlakes": true,
           "showland": true,
           "subunitcolor": "white"
          },
          "hoverlabel": {
           "align": "left"
          },
          "hovermode": "closest",
          "mapbox": {
           "style": "light"
          },
          "paper_bgcolor": "white",
          "plot_bgcolor": "#E5ECF6",
          "polar": {
           "angularaxis": {
            "gridcolor": "white",
            "linecolor": "white",
            "ticks": ""
           },
           "bgcolor": "#E5ECF6",
           "radialaxis": {
            "gridcolor": "white",
            "linecolor": "white",
            "ticks": ""
           }
          },
          "scene": {
           "xaxis": {
            "backgroundcolor": "#E5ECF6",
            "gridcolor": "white",
            "gridwidth": 2,
            "linecolor": "white",
            "showbackground": true,
            "ticks": "",
            "zerolinecolor": "white"
           },
           "yaxis": {
            "backgroundcolor": "#E5ECF6",
            "gridcolor": "white",
            "gridwidth": 2,
            "linecolor": "white",
            "showbackground": true,
            "ticks": "",
            "zerolinecolor": "white"
           },
           "zaxis": {
            "backgroundcolor": "#E5ECF6",
            "gridcolor": "white",
            "gridwidth": 2,
            "linecolor": "white",
            "showbackground": true,
            "ticks": "",
            "zerolinecolor": "white"
           }
          },
          "shapedefaults": {
           "line": {
            "color": "#2a3f5f"
           }
          },
          "ternary": {
           "aaxis": {
            "gridcolor": "white",
            "linecolor": "white",
            "ticks": ""
           },
           "baxis": {
            "gridcolor": "white",
            "linecolor": "white",
            "ticks": ""
           },
           "bgcolor": "#E5ECF6",
           "caxis": {
            "gridcolor": "white",
            "linecolor": "white",
            "ticks": ""
           }
          },
          "title": {
           "x": 0.05
          },
          "xaxis": {
           "automargin": true,
           "gridcolor": "white",
           "linecolor": "white",
           "ticks": "",
           "title": {
            "standoff": 15
           },
           "zerolinecolor": "white",
           "zerolinewidth": 2
          },
          "yaxis": {
           "automargin": true,
           "gridcolor": "white",
           "linecolor": "white",
           "ticks": "",
           "title": {
            "standoff": 15
           },
           "zerolinecolor": "white",
           "zerolinewidth": 2
          }
         }
        },
        "width": 1000
       }
      },
      "text/html": [
       "<div>                            <div id=\"12a39453-8b85-481f-9515-46edb3dc2f9f\" class=\"plotly-graph-div\" style=\"height:1000px; width:1000px;\"></div>            <script type=\"text/javascript\">                require([\"plotly\"], function(Plotly) {                    window.PLOTLYENV=window.PLOTLYENV || {};                                    if (document.getElementById(\"12a39453-8b85-481f-9515-46edb3dc2f9f\")) {                    Plotly.newPlot(                        \"12a39453-8b85-481f-9515-46edb3dc2f9f\",                        [{\"hoverinfo\":\"none\",\"line\":{\"color\":\"rgba(0,0,0,0.5)\",\"width\":2},\"mode\":\"lines\",\"x\":[-0.48646432664893013,-0.6086228293078272,null,-0.48646432664893013,-0.3121509795492866,null,-0.48646432664893013,-0.17523333042830333,null,-0.48646432664893013,-0.21445010505442294,null,-0.48646432664893013,-0.7105529034568518,null,-0.21445010505442294,-0.3121509795492866,null,-0.21445010505442294,-0.7105529034568518,null,-0.21445010505442294,-0.17523333042830333,null,-0.21445010505442294,0.42111791923840847,null,-0.21445010505442294,-0.6086228293078272,null,0.42111791923840847,0.6589416290050819,null,0.42111791923840847,0.964686178296802,null,0.42111791923840847,0.46272874790533003,null,-0.17523333042830333,-0.6086228293078272,null,-0.17523333042830333,-0.3121509795492866,null,-0.17523333042830333,-0.7105529034568518,null,-0.17523333042830333,0.46272874790533003,null,-0.7105529034568518,-0.3121509795492866,null,-0.7105529034568518,-0.6086228293078272,null,0.6589416290050819,0.964686178296802,null,0.6589416290050819,0.46272874790533003,null,-0.6086228293078272,-0.3121509795492866,null,0.964686178296802,0.46272874790533003,null],\"y\":[0.5796405204770735,0.5761442175878828,null,0.5796405204770735,0.7374283602521421,null,0.5796405204770735,0.18425842211609947,null,0.5796405204770735,0.22612755760182154,null,0.5796405204770735,0.340072475414598,null,0.22612755760182154,0.7374283602521421,null,0.22612755760182154,0.340072475414598,null,0.22612755760182154,0.18425842211609947,null,0.22612755760182154,-0.4380136319810978,null,0.22612755760182154,0.5761442175878828,null,-0.4380136319810978,-0.9999999999999999,null,-0.4380136319810978,-0.7133130913042018,null,-0.4380136319810978,-0.4923448301643189,null,0.18425842211609947,0.5761442175878828,null,0.18425842211609947,0.7374283602521421,null,0.18425842211609947,0.340072475414598,null,0.18425842211609947,-0.4923448301643189,null,0.340072475414598,0.7374283602521421,null,0.340072475414598,0.5761442175878828,null,-0.9999999999999999,-0.7133130913042018,null,-0.9999999999999999,-0.4923448301643189,null,0.5761442175878828,0.7374283602521421,null,-0.7133130913042018,-0.4923448301643189,null],\"z\":[0.3755377191037251,-0.1064600278578595,null,0.3755377191037251,0.0791236664996768,null,0.3755377191037251,0.22811177819827225,null,0.3755377191037251,-0.13355942730543238,null,0.3755377191037251,0.1702831215466752,null,-0.13355942730543238,0.0791236664996768,null,-0.13355942730543238,0.1702831215466752,null,-0.13355942730543238,0.22811177819827225,null,-0.13355942730543238,-0.3219362469947055,null,-0.13355942730543238,-0.1064600278578595,null,-0.3219362469947055,-0.2067647311510718,null,-0.3219362469947055,-0.18756193398746301,null,-0.3219362469947055,0.10322608194818211,null,0.22811177819827225,-0.1064600278578595,null,0.22811177819827225,0.0791236664996768,null,0.22811177819827225,0.1702831215466752,null,0.22811177819827225,0.10322608194818211,null,0.1702831215466752,0.0791236664996768,null,0.1702831215466752,-0.1064600278578595,null,-0.2067647311510718,-0.18756193398746301,null,-0.2067647311510718,0.10322608194818211,null,-0.1064600278578595,0.0791236664996768,null,-0.18756193398746301,0.10322608194818211,null],\"type\":\"scatter3d\"},{\"hoverinfo\":\"text\",\"hovertext\":[\"XBB.1_17096480\",\"XBB.1_17957744\",\"BA.2.10.1_11793512\",\"BA.2.75_14097842\",\"BA.2.75_13966919\",\"BA.2.10.1_16741179\",\"BA.2.75_17025470\",\"BA.2.75_13953677\",\"BA.2_10080743\",\"BA.2_11793544\"],\"marker\":{\"color\":[\"green\",\"green\",\"orange\",\"yellow\",\"yellow\",\"orange\",\"yellow\",\"yellow\",\"blue\",\"blue\"],\"size\":5},\"mode\":\"markers\",\"x\":[-0.48646432664893013,-0.21445010505442294,0.42111791923840847,-0.17523333042830333,-0.7105529034568518,0.6589416290050819,-0.6086228293078272,-0.3121509795492866,0.964686178296802,0.46272874790533003],\"y\":[0.5796405204770735,0.22612755760182154,-0.4380136319810978,0.18425842211609947,0.340072475414598,-0.9999999999999999,0.5761442175878828,0.7374283602521421,-0.7133130913042018,-0.4923448301643189],\"z\":[0.3755377191037251,-0.13355942730543238,-0.3219362469947055,0.22811177819827225,0.1702831215466752,-0.2067647311510718,-0.1064600278578595,0.0791236664996768,-0.18756193398746301,0.10322608194818211],\"type\":\"scatter3d\"},{\"hoverinfo\":\"none\",\"mode\":\"text\",\"text\":[\"XBB.1_17096480\",\"XBB.1_17957744\",\"BA.2.10.1_11793512\",\"BA.2.75_14097842\",\"BA.2.75_13966919\",\"BA.2.10.1_16741179\",\"BA.2.75_17025470\",\"BA.2.75_13953677\",\"BA.2_10080743\",\"BA.2_11793544\"],\"textfont\":{\"color\":\"black\",\"family\":\"Arial Black\",\"size\":8},\"textposition\":\"top center\",\"x\":[-0.48646432664893013,-0.21445010505442294,0.42111791923840847,-0.17523333042830333,-0.7105529034568518,0.6589416290050819,-0.6086228293078272,-0.3121509795492866,0.964686178296802,0.46272874790533003],\"y\":[0.5796405204770735,0.22612755760182154,-0.4380136319810978,0.18425842211609947,0.340072475414598,-0.9999999999999999,0.5761442175878828,0.7374283602521421,-0.7133130913042018,-0.4923448301643189],\"z\":[0.3755377191037251,-0.13355942730543238,-0.3219362469947055,0.22811177819827225,0.1702831215466752,-0.2067647311510718,-0.1064600278578595,0.0791236664996768,-0.18756193398746301,0.10322608194818211],\"type\":\"scatter3d\"},{\"color\":\"red\",\"opacity\":0.2,\"x\":[-0.48646432664893013,-0.21445010505442294,-0.17523333042830333,-0.48646432664893013],\"y\":[0.5796405204770735,0.22612755760182154,0.18425842211609947,0.5796405204770735],\"z\":[0.3755377191037251,-0.13355942730543238,0.22811177819827225,0.3755377191037251],\"type\":\"mesh3d\"},{\"color\":\"red\",\"opacity\":0.2,\"x\":[-0.48646432664893013,-0.21445010505442294,-0.7105529034568518,-0.48646432664893013],\"y\":[0.5796405204770735,0.22612755760182154,0.340072475414598,0.5796405204770735],\"z\":[0.3755377191037251,-0.13355942730543238,0.1702831215466752,0.3755377191037251],\"type\":\"mesh3d\"},{\"color\":\"red\",\"opacity\":0.2,\"x\":[-0.48646432664893013,-0.21445010505442294,-0.6086228293078272,-0.48646432664893013],\"y\":[0.5796405204770735,0.22612755760182154,0.5761442175878828,0.5796405204770735],\"z\":[0.3755377191037251,-0.13355942730543238,-0.1064600278578595,0.3755377191037251],\"type\":\"mesh3d\"},{\"color\":\"red\",\"opacity\":0.2,\"x\":[-0.48646432664893013,-0.21445010505442294,-0.3121509795492866,-0.48646432664893013],\"y\":[0.5796405204770735,0.22612755760182154,0.7374283602521421,0.5796405204770735],\"z\":[0.3755377191037251,-0.13355942730543238,0.0791236664996768,0.3755377191037251],\"type\":\"mesh3d\"},{\"color\":\"red\",\"opacity\":0.2,\"x\":[-0.48646432664893013,-0.17523333042830333,-0.7105529034568518,-0.48646432664893013],\"y\":[0.5796405204770735,0.18425842211609947,0.340072475414598,0.5796405204770735],\"z\":[0.3755377191037251,0.22811177819827225,0.1702831215466752,0.3755377191037251],\"type\":\"mesh3d\"},{\"color\":\"red\",\"opacity\":0.2,\"x\":[-0.48646432664893013,-0.17523333042830333,-0.6086228293078272,-0.48646432664893013],\"y\":[0.5796405204770735,0.18425842211609947,0.5761442175878828,0.5796405204770735],\"z\":[0.3755377191037251,0.22811177819827225,-0.1064600278578595,0.3755377191037251],\"type\":\"mesh3d\"},{\"color\":\"red\",\"opacity\":0.2,\"x\":[-0.48646432664893013,-0.17523333042830333,-0.3121509795492866,-0.48646432664893013],\"y\":[0.5796405204770735,0.18425842211609947,0.7374283602521421,0.5796405204770735],\"z\":[0.3755377191037251,0.22811177819827225,0.0791236664996768,0.3755377191037251],\"type\":\"mesh3d\"},{\"color\":\"red\",\"opacity\":0.2,\"x\":[-0.48646432664893013,-0.7105529034568518,-0.6086228293078272,-0.48646432664893013],\"y\":[0.5796405204770735,0.340072475414598,0.5761442175878828,0.5796405204770735],\"z\":[0.3755377191037251,0.1702831215466752,-0.1064600278578595,0.3755377191037251],\"type\":\"mesh3d\"},{\"color\":\"red\",\"opacity\":0.2,\"x\":[-0.48646432664893013,-0.7105529034568518,-0.3121509795492866,-0.48646432664893013],\"y\":[0.5796405204770735,0.340072475414598,0.7374283602521421,0.5796405204770735],\"z\":[0.3755377191037251,0.1702831215466752,0.0791236664996768,0.3755377191037251],\"type\":\"mesh3d\"},{\"color\":\"red\",\"opacity\":0.2,\"x\":[-0.48646432664893013,-0.6086228293078272,-0.3121509795492866,-0.48646432664893013],\"y\":[0.5796405204770735,0.5761442175878828,0.7374283602521421,0.5796405204770735],\"z\":[0.3755377191037251,-0.1064600278578595,0.0791236664996768,0.3755377191037251],\"type\":\"mesh3d\"},{\"color\":\"red\",\"opacity\":0.2,\"x\":[-0.21445010505442294,-0.17523333042830333,-0.7105529034568518,-0.21445010505442294],\"y\":[0.22612755760182154,0.18425842211609947,0.340072475414598,0.22612755760182154],\"z\":[-0.13355942730543238,0.22811177819827225,0.1702831215466752,-0.13355942730543238],\"type\":\"mesh3d\"},{\"color\":\"red\",\"opacity\":0.2,\"x\":[-0.21445010505442294,-0.17523333042830333,-0.6086228293078272,-0.21445010505442294],\"y\":[0.22612755760182154,0.18425842211609947,0.5761442175878828,0.22612755760182154],\"z\":[-0.13355942730543238,0.22811177819827225,-0.1064600278578595,-0.13355942730543238],\"type\":\"mesh3d\"},{\"color\":\"red\",\"opacity\":0.2,\"x\":[-0.21445010505442294,-0.17523333042830333,-0.3121509795492866,-0.21445010505442294],\"y\":[0.22612755760182154,0.18425842211609947,0.7374283602521421,0.22612755760182154],\"z\":[-0.13355942730543238,0.22811177819827225,0.0791236664996768,-0.13355942730543238],\"type\":\"mesh3d\"},{\"color\":\"red\",\"opacity\":0.2,\"x\":[-0.21445010505442294,-0.7105529034568518,-0.6086228293078272,-0.21445010505442294],\"y\":[0.22612755760182154,0.340072475414598,0.5761442175878828,0.22612755760182154],\"z\":[-0.13355942730543238,0.1702831215466752,-0.1064600278578595,-0.13355942730543238],\"type\":\"mesh3d\"},{\"color\":\"red\",\"opacity\":0.2,\"x\":[-0.21445010505442294,-0.7105529034568518,-0.3121509795492866,-0.21445010505442294],\"y\":[0.22612755760182154,0.340072475414598,0.7374283602521421,0.22612755760182154],\"z\":[-0.13355942730543238,0.1702831215466752,0.0791236664996768,-0.13355942730543238],\"type\":\"mesh3d\"},{\"color\":\"red\",\"opacity\":0.2,\"x\":[-0.21445010505442294,-0.6086228293078272,-0.3121509795492866,-0.21445010505442294],\"y\":[0.22612755760182154,0.5761442175878828,0.7374283602521421,0.22612755760182154],\"z\":[-0.13355942730543238,-0.1064600278578595,0.0791236664996768,-0.13355942730543238],\"type\":\"mesh3d\"},{\"color\":\"red\",\"opacity\":0.2,\"x\":[0.42111791923840847,0.6589416290050819,0.964686178296802,0.42111791923840847],\"y\":[-0.4380136319810978,-0.9999999999999999,-0.7133130913042018,-0.4380136319810978],\"z\":[-0.3219362469947055,-0.2067647311510718,-0.18756193398746301,-0.3219362469947055],\"type\":\"mesh3d\"},{\"color\":\"red\",\"opacity\":0.2,\"x\":[0.42111791923840847,0.6589416290050819,0.46272874790533003,0.42111791923840847],\"y\":[-0.4380136319810978,-0.9999999999999999,-0.4923448301643189,-0.4380136319810978],\"z\":[-0.3219362469947055,-0.2067647311510718,0.10322608194818211,-0.3219362469947055],\"type\":\"mesh3d\"},{\"color\":\"red\",\"opacity\":0.2,\"x\":[0.42111791923840847,0.964686178296802,0.46272874790533003,0.42111791923840847],\"y\":[-0.4380136319810978,-0.7133130913042018,-0.4923448301643189,-0.4380136319810978],\"z\":[-0.3219362469947055,-0.18756193398746301,0.10322608194818211,-0.3219362469947055],\"type\":\"mesh3d\"},{\"color\":\"red\",\"opacity\":0.2,\"x\":[-0.17523333042830333,-0.7105529034568518,-0.6086228293078272,-0.17523333042830333],\"y\":[0.18425842211609947,0.340072475414598,0.5761442175878828,0.18425842211609947],\"z\":[0.22811177819827225,0.1702831215466752,-0.1064600278578595,0.22811177819827225],\"type\":\"mesh3d\"},{\"color\":\"red\",\"opacity\":0.2,\"x\":[-0.17523333042830333,-0.7105529034568518,-0.3121509795492866,-0.17523333042830333],\"y\":[0.18425842211609947,0.340072475414598,0.7374283602521421,0.18425842211609947],\"z\":[0.22811177819827225,0.1702831215466752,0.0791236664996768,0.22811177819827225],\"type\":\"mesh3d\"},{\"color\":\"red\",\"opacity\":0.2,\"x\":[-0.17523333042830333,-0.6086228293078272,-0.3121509795492866,-0.17523333042830333],\"y\":[0.18425842211609947,0.5761442175878828,0.7374283602521421,0.18425842211609947],\"z\":[0.22811177819827225,-0.1064600278578595,0.0791236664996768,0.22811177819827225],\"type\":\"mesh3d\"},{\"color\":\"red\",\"opacity\":0.2,\"x\":[-0.7105529034568518,-0.6086228293078272,-0.3121509795492866,-0.7105529034568518],\"y\":[0.340072475414598,0.5761442175878828,0.7374283602521421,0.340072475414598],\"z\":[0.1702831215466752,-0.1064600278578595,0.0791236664996768,0.1702831215466752],\"type\":\"mesh3d\"},{\"color\":\"red\",\"opacity\":0.2,\"x\":[0.6589416290050819,0.964686178296802,0.46272874790533003,0.6589416290050819],\"y\":[-0.9999999999999999,-0.7133130913042018,-0.4923448301643189,-0.9999999999999999],\"z\":[-0.2067647311510718,-0.18756193398746301,0.10322608194818211,-0.2067647311510718],\"type\":\"mesh3d\"}],                        {\"margin\":{\"b\":0,\"l\":0,\"r\":0,\"t\":0},\"scene\":{\"xaxis\":{\"showgrid\":false,\"showticklabels\":false,\"zeroline\":false},\"yaxis\":{\"showgrid\":false,\"showticklabels\":false,\"zeroline\":false},\"zaxis\":{\"showgrid\":false,\"showticklabels\":false,\"zeroline\":false}},\"showlegend\":false,\"template\":{\"data\":{\"histogram2dcontour\":[{\"type\":\"histogram2dcontour\",\"colorbar\":{\"outlinewidth\":0,\"ticks\":\"\"},\"colorscale\":[[0.0,\"#0d0887\"],[0.1111111111111111,\"#46039f\"],[0.2222222222222222,\"#7201a8\"],[0.3333333333333333,\"#9c179e\"],[0.4444444444444444,\"#bd3786\"],[0.5555555555555556,\"#d8576b\"],[0.6666666666666666,\"#ed7953\"],[0.7777777777777778,\"#fb9f3a\"],[0.8888888888888888,\"#fdca26\"],[1.0,\"#f0f921\"]]}],\"choropleth\":[{\"type\":\"choropleth\",\"colorbar\":{\"outlinewidth\":0,\"ticks\":\"\"}}],\"histogram2d\":[{\"type\":\"histogram2d\",\"colorbar\":{\"outlinewidth\":0,\"ticks\":\"\"},\"colorscale\":[[0.0,\"#0d0887\"],[0.1111111111111111,\"#46039f\"],[0.2222222222222222,\"#7201a8\"],[0.3333333333333333,\"#9c179e\"],[0.4444444444444444,\"#bd3786\"],[0.5555555555555556,\"#d8576b\"],[0.6666666666666666,\"#ed7953\"],[0.7777777777777778,\"#fb9f3a\"],[0.8888888888888888,\"#fdca26\"],[1.0,\"#f0f921\"]]}],\"heatmap\":[{\"type\":\"heatmap\",\"colorbar\":{\"outlinewidth\":0,\"ticks\":\"\"},\"colorscale\":[[0.0,\"#0d0887\"],[0.1111111111111111,\"#46039f\"],[0.2222222222222222,\"#7201a8\"],[0.3333333333333333,\"#9c179e\"],[0.4444444444444444,\"#bd3786\"],[0.5555555555555556,\"#d8576b\"],[0.6666666666666666,\"#ed7953\"],[0.7777777777777778,\"#fb9f3a\"],[0.8888888888888888,\"#fdca26\"],[1.0,\"#f0f921\"]]}],\"heatmapgl\":[{\"type\":\"heatmapgl\",\"colorbar\":{\"outlinewidth\":0,\"ticks\":\"\"},\"colorscale\":[[0.0,\"#0d0887\"],[0.1111111111111111,\"#46039f\"],[0.2222222222222222,\"#7201a8\"],[0.3333333333333333,\"#9c179e\"],[0.4444444444444444,\"#bd3786\"],[0.5555555555555556,\"#d8576b\"],[0.6666666666666666,\"#ed7953\"],[0.7777777777777778,\"#fb9f3a\"],[0.8888888888888888,\"#fdca26\"],[1.0,\"#f0f921\"]]}],\"contourcarpet\":[{\"type\":\"contourcarpet\",\"colorbar\":{\"outlinewidth\":0,\"ticks\":\"\"}}],\"contour\":[{\"type\":\"contour\",\"colorbar\":{\"outlinewidth\":0,\"ticks\":\"\"},\"colorscale\":[[0.0,\"#0d0887\"],[0.1111111111111111,\"#46039f\"],[0.2222222222222222,\"#7201a8\"],[0.3333333333333333,\"#9c179e\"],[0.4444444444444444,\"#bd3786\"],[0.5555555555555556,\"#d8576b\"],[0.6666666666666666,\"#ed7953\"],[0.7777777777777778,\"#fb9f3a\"],[0.8888888888888888,\"#fdca26\"],[1.0,\"#f0f921\"]]}],\"surface\":[{\"type\":\"surface\",\"colorbar\":{\"outlinewidth\":0,\"ticks\":\"\"},\"colorscale\":[[0.0,\"#0d0887\"],[0.1111111111111111,\"#46039f\"],[0.2222222222222222,\"#7201a8\"],[0.3333333333333333,\"#9c179e\"],[0.4444444444444444,\"#bd3786\"],[0.5555555555555556,\"#d8576b\"],[0.6666666666666666,\"#ed7953\"],[0.7777777777777778,\"#fb9f3a\"],[0.8888888888888888,\"#fdca26\"],[1.0,\"#f0f921\"]]}],\"mesh3d\":[{\"type\":\"mesh3d\",\"colorbar\":{\"outlinewidth\":0,\"ticks\":\"\"}}],\"scatter\":[{\"fillpattern\":{\"fillmode\":\"overlay\",\"size\":10,\"solidity\":0.2},\"type\":\"scatter\"}],\"parcoords\":[{\"type\":\"parcoords\",\"line\":{\"colorbar\":{\"outlinewidth\":0,\"ticks\":\"\"}}}],\"scatterpolargl\":[{\"type\":\"scatterpolargl\",\"marker\":{\"colorbar\":{\"outlinewidth\":0,\"ticks\":\"\"}}}],\"bar\":[{\"error_x\":{\"color\":\"#2a3f5f\"},\"error_y\":{\"color\":\"#2a3f5f\"},\"marker\":{\"line\":{\"color\":\"#E5ECF6\",\"width\":0.5},\"pattern\":{\"fillmode\":\"overlay\",\"size\":10,\"solidity\":0.2}},\"type\":\"bar\"}],\"scattergeo\":[{\"type\":\"scattergeo\",\"marker\":{\"colorbar\":{\"outlinewidth\":0,\"ticks\":\"\"}}}],\"scatterpolar\":[{\"type\":\"scatterpolar\",\"marker\":{\"colorbar\":{\"outlinewidth\":0,\"ticks\":\"\"}}}],\"histogram\":[{\"marker\":{\"pattern\":{\"fillmode\":\"overlay\",\"size\":10,\"solidity\":0.2}},\"type\":\"histogram\"}],\"scattergl\":[{\"type\":\"scattergl\",\"marker\":{\"colorbar\":{\"outlinewidth\":0,\"ticks\":\"\"}}}],\"scatter3d\":[{\"type\":\"scatter3d\",\"line\":{\"colorbar\":{\"outlinewidth\":0,\"ticks\":\"\"}},\"marker\":{\"colorbar\":{\"outlinewidth\":0,\"ticks\":\"\"}}}],\"scattermapbox\":[{\"type\":\"scattermapbox\",\"marker\":{\"colorbar\":{\"outlinewidth\":0,\"ticks\":\"\"}}}],\"scatterternary\":[{\"type\":\"scatterternary\",\"marker\":{\"colorbar\":{\"outlinewidth\":0,\"ticks\":\"\"}}}],\"scattercarpet\":[{\"type\":\"scattercarpet\",\"marker\":{\"colorbar\":{\"outlinewidth\":0,\"ticks\":\"\"}}}],\"carpet\":[{\"aaxis\":{\"endlinecolor\":\"#2a3f5f\",\"gridcolor\":\"white\",\"linecolor\":\"white\",\"minorgridcolor\":\"white\",\"startlinecolor\":\"#2a3f5f\"},\"baxis\":{\"endlinecolor\":\"#2a3f5f\",\"gridcolor\":\"white\",\"linecolor\":\"white\",\"minorgridcolor\":\"white\",\"startlinecolor\":\"#2a3f5f\"},\"type\":\"carpet\"}],\"table\":[{\"cells\":{\"fill\":{\"color\":\"#EBF0F8\"},\"line\":{\"color\":\"white\"}},\"header\":{\"fill\":{\"color\":\"#C8D4E3\"},\"line\":{\"color\":\"white\"}},\"type\":\"table\"}],\"barpolar\":[{\"marker\":{\"line\":{\"color\":\"#E5ECF6\",\"width\":0.5},\"pattern\":{\"fillmode\":\"overlay\",\"size\":10,\"solidity\":0.2}},\"type\":\"barpolar\"}],\"pie\":[{\"automargin\":true,\"type\":\"pie\"}]},\"layout\":{\"autotypenumbers\":\"strict\",\"colorway\":[\"#636efa\",\"#EF553B\",\"#00cc96\",\"#ab63fa\",\"#FFA15A\",\"#19d3f3\",\"#FF6692\",\"#B6E880\",\"#FF97FF\",\"#FECB52\"],\"font\":{\"color\":\"#2a3f5f\"},\"hovermode\":\"closest\",\"hoverlabel\":{\"align\":\"left\"},\"paper_bgcolor\":\"white\",\"plot_bgcolor\":\"#E5ECF6\",\"polar\":{\"bgcolor\":\"#E5ECF6\",\"angularaxis\":{\"gridcolor\":\"white\",\"linecolor\":\"white\",\"ticks\":\"\"},\"radialaxis\":{\"gridcolor\":\"white\",\"linecolor\":\"white\",\"ticks\":\"\"}},\"ternary\":{\"bgcolor\":\"#E5ECF6\",\"aaxis\":{\"gridcolor\":\"white\",\"linecolor\":\"white\",\"ticks\":\"\"},\"baxis\":{\"gridcolor\":\"white\",\"linecolor\":\"white\",\"ticks\":\"\"},\"caxis\":{\"gridcolor\":\"white\",\"linecolor\":\"white\",\"ticks\":\"\"}},\"coloraxis\":{\"colorbar\":{\"outlinewidth\":0,\"ticks\":\"\"}},\"colorscale\":{\"sequential\":[[0.0,\"#0d0887\"],[0.1111111111111111,\"#46039f\"],[0.2222222222222222,\"#7201a8\"],[0.3333333333333333,\"#9c179e\"],[0.4444444444444444,\"#bd3786\"],[0.5555555555555556,\"#d8576b\"],[0.6666666666666666,\"#ed7953\"],[0.7777777777777778,\"#fb9f3a\"],[0.8888888888888888,\"#fdca26\"],[1.0,\"#f0f921\"]],\"sequentialminus\":[[0.0,\"#0d0887\"],[0.1111111111111111,\"#46039f\"],[0.2222222222222222,\"#7201a8\"],[0.3333333333333333,\"#9c179e\"],[0.4444444444444444,\"#bd3786\"],[0.5555555555555556,\"#d8576b\"],[0.6666666666666666,\"#ed7953\"],[0.7777777777777778,\"#fb9f3a\"],[0.8888888888888888,\"#fdca26\"],[1.0,\"#f0f921\"]],\"diverging\":[[0,\"#8e0152\"],[0.1,\"#c51b7d\"],[0.2,\"#de77ae\"],[0.3,\"#f1b6da\"],[0.4,\"#fde0ef\"],[0.5,\"#f7f7f7\"],[0.6,\"#e6f5d0\"],[0.7,\"#b8e186\"],[0.8,\"#7fbc41\"],[0.9,\"#4d9221\"],[1,\"#276419\"]]},\"xaxis\":{\"gridcolor\":\"white\",\"linecolor\":\"white\",\"ticks\":\"\",\"title\":{\"standoff\":15},\"zerolinecolor\":\"white\",\"automargin\":true,\"zerolinewidth\":2},\"yaxis\":{\"gridcolor\":\"white\",\"linecolor\":\"white\",\"ticks\":\"\",\"title\":{\"standoff\":15},\"zerolinecolor\":\"white\",\"automargin\":true,\"zerolinewidth\":2},\"scene\":{\"xaxis\":{\"backgroundcolor\":\"#E5ECF6\",\"gridcolor\":\"white\",\"linecolor\":\"white\",\"showbackground\":true,\"ticks\":\"\",\"zerolinecolor\":\"white\",\"gridwidth\":2},\"yaxis\":{\"backgroundcolor\":\"#E5ECF6\",\"gridcolor\":\"white\",\"linecolor\":\"white\",\"showbackground\":true,\"ticks\":\"\",\"zerolinecolor\":\"white\",\"gridwidth\":2},\"zaxis\":{\"backgroundcolor\":\"#E5ECF6\",\"gridcolor\":\"white\",\"linecolor\":\"white\",\"showbackground\":true,\"ticks\":\"\",\"zerolinecolor\":\"white\",\"gridwidth\":2}},\"shapedefaults\":{\"line\":{\"color\":\"#2a3f5f\"}},\"annotationdefaults\":{\"arrowcolor\":\"#2a3f5f\",\"arrowhead\":0,\"arrowwidth\":1},\"geo\":{\"bgcolor\":\"white\",\"landcolor\":\"#E5ECF6\",\"subunitcolor\":\"white\",\"showland\":true,\"showlakes\":true,\"lakecolor\":\"white\"},\"title\":{\"x\":0.05},\"mapbox\":{\"style\":\"light\"}}},\"width\":1000,\"height\":1000},                        {\"responsive\": true}                    ).then(function(){\n",
       "                            \n",
       "var gd = document.getElementById('12a39453-8b85-481f-9515-46edb3dc2f9f');\n",
       "var x = new MutationObserver(function (mutations, observer) {{\n",
       "        var display = window.getComputedStyle(gd).display;\n",
       "        if (!display || display === 'none') {{\n",
       "            console.log([gd, 'removed!']);\n",
       "            Plotly.purge(gd);\n",
       "            observer.disconnect();\n",
       "        }}\n",
       "}});\n",
       "\n",
       "// Listen for the removal of the full notebook cells\n",
       "var notebookContainer = gd.closest('#notebook-container');\n",
       "if (notebookContainer) {{\n",
       "    x.observe(notebookContainer, {childList: true});\n",
       "}}\n",
       "\n",
       "// Listen for the clearing of the current output cell\n",
       "var outputEl = gd.closest('.output');\n",
       "if (outputEl) {{\n",
       "    x.observe(outputEl, {childList: true});\n",
       "}}\n",
       "\n",
       "                        })                };                });            </script>        </div>"
      ]
     },
     "metadata": {},
     "output_type": "display_data"
    },
    {
     "data": {
      "text/plain": [
       "<networkx.classes.graph.Graph at 0x70612c97fe20>"
      ]
     },
     "execution_count": 28,
     "metadata": {},
     "output_type": "execute_result"
    }
   ],
   "source": [
    "labels = [\n",
    "    \"XBB.1_hCoV-19/India/HP-NII-1567/2023|EPI_ISL_17096480|2023-02-16\",\n",
    "    \"XBB.1_hCoV-19/India/UP-ILSGS21193/2023|EPI_ISL_17957744|2023-04-21\",\n",
    "    \"BA.2.10.1_hCoV-19/India/KA-SEQ_14348_S209_R1_001/2022|EPI_ISL_11793512|2022-02-15\",\n",
    "    \"BA.2.75_hCoV-19/India/HR-INSACOG-NII-1233/2022|EPI_ISL_14097842|2022-07-09\",\n",
    "    \"BA.2.75_hCoV-19/India/HR-INSACOG/NII-1162/2022|EPI_ISL_13966919|2022-07-08\",\n",
    "    \"BA.2.10.1_hCoV-19/India/TN-CORES_24939/2022|EPI_ISL_16741179|2022-01-03\",\n",
    "    \"BA.2.75_hCoV-19/India/UP-IGIB2260PGI6431/2022|EPI_ISL_17025470|2022-08\",\n",
    "    \"BA.2.75_hCoV-19/India/OR-RMRC_B-ICMR-INSACOG-BBS425522/2022|EPI_ISL_13953677|2022-07-10\",\n",
    "    \"BA.2_hCoV-19/India/KA-SEQ_9767_S179_R1_001/2022|EPI_ISL_10080743|2022-01-02\",\n",
    "    \"BA.2_hCoV-19/India/KA-SEQ_14412_S273_R1_001/2022|EPI_ISL_11793544|2022-02-01\"\n",
    "]\n",
    "print(\"Visualizing 3D simplicial complex at filtration time 73\")\n",
    "visualize_simplicial_complex(simplex_tree, 74, vertex_names=format_labels(labels))"
   ]
  },
  {
   "cell_type": "code",
   "execution_count": null,
   "id": "6553dda3",
   "metadata": {},
   "outputs": [],
   "source": []
  }
 ],
 "metadata": {
  "kernelspec": {
   "display_name": "Python 3 (ipykernel)",
   "language": "python",
   "name": "python3"
  },
  "language_info": {
   "codemirror_mode": {
    "name": "ipython",
    "version": 3
   },
   "file_extension": ".py",
   "mimetype": "text/x-python",
   "name": "python",
   "nbconvert_exporter": "python",
   "pygments_lexer": "ipython3",
   "version": "3.9.7"
  }
 },
 "nbformat": 4,
 "nbformat_minor": 5
}
