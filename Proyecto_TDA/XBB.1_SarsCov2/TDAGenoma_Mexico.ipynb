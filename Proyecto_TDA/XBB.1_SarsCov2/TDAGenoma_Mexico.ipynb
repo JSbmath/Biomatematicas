{
 "cells": [
  {
   "cell_type": "code",
   "execution_count": 27,
   "id": "001aad64",
   "metadata": {},
   "outputs": [],
   "source": [
    "import pandas as pd\n",
    "import numpy as np\n",
    "import seaborn as sns\n",
    "import copy\n",
    "import argparse\n",
    "import gudhi\n",
    "import matplotlib.pyplot as plt\n",
    "import networkx as nx\n",
    "import plotly.graph_objects as go\n",
    "import plotly.io as pio"
   ]
  },
  {
   "cell_type": "code",
   "execution_count": 28,
   "id": "03cd5105",
   "metadata": {},
   "outputs": [],
   "source": [
    "def format_labels(labels):\n",
    "    formatted_labels = []\n",
    "    for label in labels:\n",
    "        parts = label.split('|')\n",
    "        strain_name = parts[0].split('_')[0]  # Obtiene el nombre de la cepa\n",
    "        epi_number = parts[1].split('_')[-1]  # Obtiene el número EPI\n",
    "        formatted_label = f\"{strain_name}_{epi_number}\"\n",
    "        formatted_labels.append(formatted_label)\n",
    "    return formatted_labels\n",
    "\n",
    "def count_strains(labels):\n",
    "    strain_counts = {}\n",
    "    strain_colors = {\n",
    "        'BA.2': 'blue',\n",
    "        'BA.2.10.1': 'orange',\n",
    "        'BA.2.75': 'yellow',\n",
    "        'XBB.1': 'green'\n",
    "    }\n",
    "    for label in labels:\n",
    "        strain = label.split('_')[0]  # Obtiene el nombre de la cepa\n",
    "        strain_counts[strain] = strain_counts.get(strain, 0) + 1\n",
    "    print(\"Número de secuencias para la prueba:\")\n",
    "    for strain, count in strain_counts.items():\n",
    "        color = strain_colors.get(strain, 'gray')\n",
    "        print(f\"{strain} = {count} ({color})\")\n",
    "    return strain_colors"
   ]
  },
  {
   "cell_type": "code",
   "execution_count": 29,
   "id": "3f0d7715",
   "metadata": {},
   "outputs": [],
   "source": [
    "def visualize_simplicial_complex(simplex_tree, filtration_value, vertex_names=None, save_filename=None, plot_size=1000, dpi=100):\n",
    "    G = nx.Graph()\n",
    "    tetrahedra = []\n",
    "\n",
    "    for simplex, filt in simplex_tree.get_filtration():\n",
    "        if filt <= filtration_value:\n",
    "            if len(simplex) == 2:\n",
    "                G.add_edge(simplex[0], simplex[1])\n",
    "            elif len(simplex) == 1:\n",
    "                G.add_node(simplex[0])\n",
    "            elif len(simplex) == 3:\n",
    "                G.add_edge(simplex[0], simplex[1])\n",
    "                G.add_edge(simplex[1], simplex[2])\n",
    "                G.add_edge(simplex[2], simplex[0])\n",
    "            elif len(simplex) == 4:\n",
    "                tetrahedra.append(simplex)\n",
    "\n",
    "    pos = nx.spring_layout(G, dim=3)\n",
    "\n",
    "    x_values, y_values, z_values = zip(*[pos[node] for node in G.nodes()])\n",
    "    node_labels = [vertex_names[node] if vertex_names else str(node) for node in G.nodes()]\n",
    "    \n",
    "    # Assign colors based on strain\n",
    "    strain_colors = count_strains(vertex_names)\n",
    "    node_colors = [strain_colors.get(label.split('_')[0], 'gray') for label in node_labels]\n",
    "    \n",
    "    node_trace = go.Scatter3d(\n",
    "        x=x_values, y=y_values, z=z_values,\n",
    "        mode='markers',\n",
    "        marker=dict(size=5, color=node_colors),\n",
    "        hoverinfo='text',\n",
    "        hovertext=node_labels\n",
    "    )\n",
    "\n",
    "    # Add 3D labels with improved visibility\n",
    "    label_trace = go.Scatter3d(\n",
    "        x=x_values, y=y_values, z=z_values,\n",
    "        mode='text',\n",
    "        text=node_labels,\n",
    "        textposition=\"top center\",\n",
    "        textfont=dict(size=8, color='black', family='Arial Black'),  # Reduced size for better fit\n",
    "        hoverinfo='none'\n",
    "    )\n",
    "\n",
    "    edge_x = []\n",
    "    edge_y = []\n",
    "    edge_z = []\n",
    "    for edge in G.edges():\n",
    "        x0, y0, z0 = pos[edge[0]]\n",
    "        x1, y1, z1 = pos[edge[1]]\n",
    "        edge_x.extend([x0, x1, None])\n",
    "        edge_y.extend([y0, y1, None])\n",
    "        edge_z.extend([z0, z1, None])\n",
    "\n",
    "    edge_trace = go.Scatter3d(\n",
    "        x=edge_x, y=edge_y, z=edge_z,\n",
    "        mode='lines',\n",
    "        line=dict(width=2, color='rgba(0,0,0,0.5)'),\n",
    "        hoverinfo='none'\n",
    "    )\n",
    "\n",
    "    triangle_traces = []\n",
    "    for simplex in simplex_tree.get_skeleton(2):\n",
    "        if len(simplex[0]) == 3 and simplex[1] <= filtration_value:\n",
    "            x = [pos[simplex[0][i]][0] for i in range(3)] + [pos[simplex[0][0]][0]]\n",
    "            y = [pos[simplex[0][i]][1] for i in range(3)] + [pos[simplex[0][0]][1]]\n",
    "            z = [pos[simplex[0][i]][2] for i in range(3)] + [pos[simplex[0][0]][2]]\n",
    "            triangle_traces.append(go.Mesh3d(x=x, y=y, z=z, color='red', opacity=0.2))\n",
    "\n",
    "    layout = go.Layout(\n",
    "        showlegend=False,\n",
    "        scene=dict(\n",
    "            xaxis=dict(showticklabels=False, showgrid=False, zeroline=False),\n",
    "            yaxis=dict(showticklabels=False, showgrid=False, zeroline=False),\n",
    "            zaxis=dict(showticklabels=False, showgrid=False, zeroline=False),\n",
    "        ),\n",
    "        margin=dict(r=0, l=0, b=0, t=0)\n",
    "    )\n",
    "\n",
    "    fig = go.Figure(data=[edge_trace, node_trace, label_trace] + triangle_traces, layout=layout)\n",
    "    \n",
    "    fig.update_layout(width=plot_size, height=plot_size)\n",
    "\n",
    "    if save_filename:\n",
    "        pio.write_image(fig, save_filename, width=plot_size, height=plot_size, scale=1)\n",
    "\n",
    "    fig.show()\n",
    "\n",
    "    return G\n"
   ]
  },
  {
   "cell_type": "code",
   "execution_count": 30,
   "id": "f998dd53",
   "metadata": {},
   "outputs": [],
   "source": [
    "#Lee el archivo FASTA y manda los nombres y secuencias a un diccionario\n",
    "with open('nextclade.aligned.fasta') as f:\n",
    "  sequences = {} #inicializa el diccionario\n",
    "  name = None\n",
    "  for line in f:\n",
    "    line = line.strip()\n",
    "    if line.startswith('>'):  \n",
    "      name = line[1:]\n",
    "      sequences[name] = ''\n",
    "    else:\n",
    "      sequences[name] += line"
   ]
  },
  {
   "cell_type": "code",
   "execution_count": 31,
   "id": "9fe1ff69",
   "metadata": {},
   "outputs": [
    {
     "name": "stdout",
     "output_type": "stream",
     "text": [
      "Secuencias:\n",
      "0 BA.2.10.1_hCoV-19/Mexico/QUE-LANGEBIO_IMSS_14092/2023|EPI_ISL_16968470|2023-01-13\n",
      "1 BA.2.75.2_hCoV-19/Mexico/CMX_IBT_IMSS_9908/2022|EPI_ISL_15671212|2022-10-07\n",
      "2 BA.2.10.1_hCoV-19/Mexico/HID-INMEGEN-70-132/2022|EPI_ISL_12666024|2022-05-01\n",
      "3 BA.2.75.2_hCoV-19/Mexico/CMX-INMEGEN-95-310/2022|EPI_ISL_16278985|2022-12-12\n",
      "4 BA.2.75.2_hCoV-19/Mexico/MEX-INMEGEN-92x-18/2022|EPI_ISL_15608996|2022-09-25\n",
      "5 BA.2_hCoV-19/Mexico/BCN_CIAD-IMSS_202201050913/2022|EPI_ISL_12533151|2022-04-19\n",
      "6 BA.2_hCoV-19/Mexico/MEX_InDRE_FB13911_E_S13150/2022|EPI_ISL_12739324|2022-04-16\n",
      "7 BA.2_hCoV-19/Mexico/SIN_CIAD-MZT_HJ6105/2022|EPI_ISL_13368395|2022-05-25\n",
      "8 XBB.1_hCoV-19/Mexico/TAM_LANGEBIO_IMSS_13849/2022|EPI_ISL_16861713|2022-12-19\n",
      "9 XBB.1_hCoV-19/Mexico/TAM_LANGEBIO_IMSS_13854/2022|EPI_ISL_16861711|2022-12-19\n",
      "10 XBB.1_hCoV-19/Mexico/VER-LANGEBIO_IMSS_13979/2023|EPI_ISL_16968355|2023-01-23\n"
     ]
    }
   ],
   "source": [
    "#Imprime los nombres de las secuencias encontradas.\n",
    "print(\"Secuencias:\")\n",
    "i = 0\n",
    "for name in sequences.keys():\n",
    "  print(str(i)+' '+name)\n",
    "  i=i+1"
   ]
  },
  {
   "cell_type": "code",
   "execution_count": 32,
   "id": "02b81bec",
   "metadata": {},
   "outputs": [
    {
     "name": "stdout",
     "output_type": "stream",
     "text": [
      "[[  0.  74. 110.  92. 125.  75.  76.  90.  30.  27.  31.]\n",
      " [ 74.   0.  89.  39.  73.  64.  73.  69.  72.  51.  63.]\n",
      " [110.  89.   0.  74.  50.  51.  58.  52. 129. 106. 120.]\n",
      " [ 92.  39.  74.   0.  58.  57.  66.  54. 104.  81.  95.]\n",
      " [125.  73.  50.  58.   0.  77.  86.  78. 138. 115. 129.]\n",
      " [ 75.  64.  51.  57.  77.   0.  16.  43.  95.  72.  86.]\n",
      " [ 76.  73.  58.  66.  86.  16.   0.  51.  96.  73.  87.]\n",
      " [ 90.  69.  52.  54.  78.  43.  51.   0. 111.  88. 102.]\n",
      " [ 30.  72. 129. 104. 138.  95.  96. 111.   0.   5.   5.]\n",
      " [ 27.  51. 106.  81. 115.  72.  73.  88.   5.   0.   6.]\n",
      " [ 31.  63. 120.  95. 129.  86.  87. 102.   5.   6.   0.]]\n"
     ]
    }
   ],
   "source": [
    "num_seqs = len(sequences)\n",
    "dist_matrix = np.zeros((num_seqs, num_seqs))\n",
    "\n",
    "for i in range(num_seqs):\n",
    "    for j in range(i+1, num_seqs):\n",
    "        # Usamos list(sequences.items()) para convertir el diccionario a una lista de tuplas (nombre, secuencia)\n",
    "        name1, seq1 = list(sequences.items())[i]\n",
    "        name2, seq2 = list(sequences.items())[j]\n",
    "        diff_count = 0\n",
    "        \n",
    "        # Modificamos el rango para excluir los primeros 54 y los últimos 68 caracteres\n",
    "        for k in range(0, len(seq1)):\n",
    "            # Para cada par de secuencias, cuenta el número de diferencias (mutaciones) entre ellas en los rangos especificados.\n",
    "            if seq1[k] != seq2[k] and seq1[k] != 'N' and seq2[k] != 'N':\n",
    "                diff_count += 1\n",
    "        \n",
    "        # Guarda las distancias en la matriz de distancia simétrica\n",
    "        dist_matrix[i,j] = diff_count\n",
    "        dist_matrix[j,i] = diff_count\n",
    "\n",
    "print(dist_matrix)"
   ]
  },
  {
   "cell_type": "code",
   "execution_count": 33,
   "id": "c16508d4",
   "metadata": {},
   "outputs": [
    {
     "data": {
      "text/plain": [
       "(11, 11)"
      ]
     },
     "execution_count": 33,
     "metadata": {},
     "output_type": "execute_result"
    }
   ],
   "source": [
    "pd.DataFrame(dist_matrix).shape"
   ]
  },
  {
   "cell_type": "code",
   "execution_count": 34,
   "id": "58492b26",
   "metadata": {},
   "outputs": [
    {
     "data": {
      "image/png": "[encoded data removed]",
      "text/plain": [
       "<Figure size 1000x800 with 2 Axes>"
      ]
     },
     "metadata": {},
     "output_type": "display_data"
    }
   ],
   "source": [
    "import seaborn as sns\n",
    "# Crear la figura y los ejes\n",
    "plt.figure(figsize=(10, 8))\n",
    "\n",
    "# Generar el mapa de calor\n",
    "sns.heatmap(dist_matrix, annot=False, cmap='YlOrRd')\n",
    "\n",
    "# Añadir título\n",
    "plt.title('Mapa de Calor de la Matriz de Distancia')\n",
    "\n",
    "# Ajustar el diseño\n",
    "plt.tight_layout()\n"
   ]
  },
  {
   "cell_type": "code",
   "execution_count": 35,
   "id": "2a9d368a",
   "metadata": {},
   "outputs": [
    {
     "name": "stdout",
     "output_type": "stream",
     "text": [
      "#####################################################################\n",
      "RipsComplex creation from defined distance matrix G3\n"
     ]
    }
   ],
   "source": [
    "max_edge_length = 1000\n",
    "max_dimension = 3\n",
    "band = 0.0\n",
    "\n",
    "print(\"#####################################################################\")\n",
    "print(\"RipsComplex creation from defined distance matrix G3\")\n",
    "   \n",
    "rips_complex = gudhi.RipsComplex(\n",
    "   distance_matrix=dist_matrix, max_edge_length=max_edge_length  \n",
    ")"
   ]
  },
  {
   "cell_type": "code",
   "execution_count": 36,
   "id": "add5581d",
   "metadata": {},
   "outputs": [
    {
     "name": "stdout",
     "output_type": "stream",
     "text": [
      "Number of simplices=561\n",
      "betti_numbers()=\n",
      "[1, 0, 0]\n",
      "\n",
      "Persistence intervals for 1-dimensional holes:\n",
      "Birth: 58.0, Death: 74.0\n",
      "\n",
      "Persistence intervals for 2-dimensional holes:\n"
     ]
    }
   ],
   "source": [
    "simplex_tree = rips_complex.create_simplex_tree(max_dimension=max_dimension)\n",
    "   \n",
    "message = \"Number of simplices=\" + repr(simplex_tree.num_simplices()) \n",
    "print(message)\n",
    "  \n",
    "diag = simplex_tree.persistence()\n",
    "\n",
    "print(\"betti_numbers()=\")\n",
    "print(simplex_tree.betti_numbers())\n",
    "\n",
    "# Add this new code to print birth and death times for 1D and 2D holes\n",
    "print(\"\\nPersistence intervals for 1-dimensional holes:\")\n",
    "for interval in simplex_tree.persistence_intervals_in_dimension(1):\n",
    "    print(f\"Birth: {interval[0]}, Death: {interval[1]}\")\n",
    "\n",
    "print(\"\\nPersistence intervals for 2-dimensional holes:\")\n",
    "for interval in simplex_tree.persistence_intervals_in_dimension(2):\n",
    "    print(f\"Birth: {interval[0]}, Death: {interval[1]}\")"
   ]
  },
  {
   "cell_type": "code",
   "execution_count": 37,
   "id": "2d722444",
   "metadata": {},
   "outputs": [
    {
     "data": {
      "image/png": "[encoded data removed]",
      "text/plain": [
       "<Figure size 640x480 with 1 Axes>"
      ]
     },
     "metadata": {},
     "output_type": "display_data"
    }
   ],
   "source": [
    "gudhi.plot_persistence_diagram(diag, band=band)\n",
    "plt.title(\"\")\n",
    "plt.show()"
   ]
  },
  {
   "cell_type": "code",
   "execution_count": 38,
   "id": "2963b076",
   "metadata": {},
   "outputs": [
    {
     "data": {
      "image/png": "[encoded data removed]",
      "text/plain": [
       "<Figure size 640x480 with 1 Axes>"
      ]
     },
     "metadata": {},
     "output_type": "display_data"
    }
   ],
   "source": [
    "gudhi.plot_persistence_barcode(diag)\n",
    "plt.title(\"Código de barras de las secuencias\")\n",
    "plt.show()"
   ]
  },
  {
   "cell_type": "code",
   "execution_count": 39,
   "id": "9845d941",
   "metadata": {},
   "outputs": [
    {
     "name": "stdout",
     "output_type": "stream",
     "text": [
      "Visualizing 3D simplicial complex at filtration time 58\n",
      "Número de secuencias para la prueba:\n",
      "BA.2.10.1 = 2 (orange)\n",
      "BA.2.75.2 = 3 (gray)\n",
      "BA.2 = 3 (blue)\n",
      "XBB.1 = 3 (green)\n"
     ]
    },
    {
     "data": {
      "application/vnd.plotly.v1+json": {
       "config": {
        "plotlyServerURL": "https://plot.ly"
       },
       "data": [
        {
         "hoverinfo": "none",
         "line": {
          "color": "rgba(0, 0, 0, 0.5)",
          "width": 2
         },
         "mode": "lines",
         "type": "scatter3d",
         "x": [
          0.3696235562311669,
          0.16604641513611318,
          null,
          0.3696235562311669,
          0.24738124642776688,
          null,
          0.3696235562311669,
          0.13639339820191912,
          null,
          0.029209065873682577,
          -0.10107785692711703,
          null,
          0.029209065873682577,
          0.16604641513611318,
          null,
          -0.26101368287730714,
          -0.36460602977575546,
          null,
          -0.26101368287730714,
          -0.01200077919347878,
          null,
          -0.26101368287730714,
          -0.14164548769645233,
          null,
          -0.26101368287730714,
          -0.06830984540053718,
          null,
          -0.10107785692711703,
          -0.14164548769645233,
          null,
          -0.10107785692711703,
          -0.01200077919347878,
          null,
          -0.10107785692711703,
          -0.36460602977575546,
          null,
          -0.01200077919347878,
          -0.06830984540053718,
          null,
          -0.01200077919347878,
          -0.14164548769645233,
          null,
          -0.06830984540053718,
          -0.14164548769645233,
          null,
          0.24738124642776688,
          0.16604641513611318,
          null,
          0.24738124642776688,
          0.13639339820191912,
          null,
          0.16604641513611318,
          0.13639339820191912,
          null
         ],
         "y": [
          0.940319824439668,
          0.6617463384260125,
          null,
          0.940319824439668,
          0.8573038294222407,
          null,
          0.940319824439668,
          1,
          null,
          0.20528235156724878,
          -0.2810566136091946,
          null,
          0.20528235156724878,
          0.6617463384260125,
          null,
          -0.7366657075974181,
          -0.40726877533566563,
          null,
          -0.7366657075974181,
          -0.6250271252811239,
          null,
          -0.7366657075974181,
          -0.6839031219081287,
          null,
          -0.7366657075974181,
          -0.9307310001236399,
          null,
          -0.2810566136091946,
          -0.6839031219081287,
          null,
          -0.2810566136091946,
          -0.6250271252811239,
          null,
          -0.2810566136091946,
          -0.40726877533566563,
          null,
          -0.6250271252811239,
          -0.9307310001236399,
          null,
          -0.6250271252811239,
          -0.6839031219081287,
          null,
          -0.9307310001236399,
          -0.6839031219081287,
          null,
          0.8573038294222407,
          0.6617463384260125,
          null,
          0.8573038294222407,
          1,
          null,
          0.6617463384260125,
          1,
          null
         ],
         "z": [
          0.4712394429618917,
          0.37755207703075033,
          null,
          0.4712394429618917,
          0.664508458813728,
          null,
          0.4712394429618917,
          0.5020708952078212,
          null,
          0.0990217599456154,
          -0.1849983074153024,
          null,
          0.0990217599456154,
          0.37755207703075033,
          null,
          -0.48215166557570494,
          -0.44481806855569933,
          null,
          -0.48215166557570494,
          -0.38250739038211246,
          null,
          -0.48215166557570494,
          -0.22253209898429277,
          null,
          -0.48215166557570494,
          -0.39738510304669483,
          null,
          -0.1849983074153024,
          -0.22253209898429277,
          null,
          -0.1849983074153024,
          -0.38250739038211246,
          null,
          -0.1849983074153024,
          -0.44481806855569933,
          null,
          -0.38250739038211246,
          -0.39738510304669483,
          null,
          -0.38250739038211246,
          -0.22253209898429277,
          null,
          -0.39738510304669483,
          -0.22253209898429277,
          null,
          0.664508458813728,
          0.37755207703075033,
          null,
          0.664508458813728,
          0.5020708952078212,
          null,
          0.37755207703075033,
          0.5020708952078212,
          null
         ]
        },
        {
         "hoverinfo": "text",
         "hovertext": [
          "BA.2.10.1_16968470",
          "BA.2.75.2_15671212",
          "BA.2.10.1_12666024",
          "BA.2.75.2_16278985",
          "BA.2.75.2_15608996",
          "BA.2_12533151",
          "BA.2_12739324",
          "BA.2_13368395",
          "XBB.1_16861713",
          "XBB.1_16861711",
          "XBB.1_16968355"
         ],
         "marker": {
          "color": [
           "orange",
           "gray",
           "orange",
           "gray",
           "gray",
           "blue",
           "blue",
           "blue",
           "green",
           "green",
           "green"
          ],
          "size": 5
         },
         "mode": "markers",
         "type": "scatter3d",
         "x": [
          0.3696235562311669,
          0.029209065873682577,
          -0.26101368287730714,
          -0.10107785692711703,
          -0.36460602977575546,
          -0.01200077919347878,
          -0.06830984540053718,
          -0.14164548769645233,
          0.24738124642776688,
          0.16604641513611318,
          0.13639339820191912
         ],
         "y": [
          0.940319824439668,
          0.20528235156724878,
          -0.7366657075974181,
          -0.2810566136091946,
          -0.40726877533566563,
          -0.6250271252811239,
          -0.9307310001236399,
          -0.6839031219081287,
          0.8573038294222407,
          0.6617463384260125,
          1
         ],
         "z": [
          0.4712394429618917,
          0.0990217599456154,
          -0.48215166557570494,
          -0.1849983074153024,
          -0.44481806855569933,
          -0.38250739038211246,
          -0.39738510304669483,
          -0.22253209898429277,
          0.664508458813728,
          0.37755207703075033,
          0.5020708952078212
         ]
        },
        {
         "hoverinfo": "none",
         "mode": "text",
         "text": [
          "BA.2.10.1_16968470",
          "BA.2.75.2_15671212",
          "BA.2.10.1_12666024",
          "BA.2.75.2_16278985",
          "BA.2.75.2_15608996",
          "BA.2_12533151",
          "BA.2_12739324",
          "BA.2_13368395",
          "XBB.1_16861713",
          "XBB.1_16861711",
          "XBB.1_16968355"
         ],
         "textfont": {
          "color": "black",
          "family": "Arial Black",
          "size": 8
         },
         "textposition": "top center",
         "type": "scatter3d",
         "x": [
          0.3696235562311669,
          0.029209065873682577,
          -0.26101368287730714,
          -0.10107785692711703,
          -0.36460602977575546,
          -0.01200077919347878,
          -0.06830984540053718,
          -0.14164548769645233,
          0.24738124642776688,
          0.16604641513611318,
          0.13639339820191912
         ],
         "y": [
          0.940319824439668,
          0.20528235156724878,
          -0.7366657075974181,
          -0.2810566136091946,
          -0.40726877533566563,
          -0.6250271252811239,
          -0.9307310001236399,
          -0.6839031219081287,
          0.8573038294222407,
          0.6617463384260125,
          1
         ],
         "z": [
          0.4712394429618917,
          0.0990217599456154,
          -0.48215166557570494,
          -0.1849983074153024,
          -0.44481806855569933,
          -0.38250739038211246,
          -0.39738510304669483,
          -0.22253209898429277,
          0.664508458813728,
          0.37755207703075033,
          0.5020708952078212
         ]
        },
        {
         "color": "red",
         "opacity": 0.2,
         "type": "mesh3d",
         "x": [
          0.3696235562311669,
          0.24738124642776688,
          0.16604641513611318,
          0.3696235562311669
         ],
         "y": [
          0.940319824439668,
          0.8573038294222407,
          0.6617463384260125,
          0.940319824439668
         ],
         "z": [
          0.4712394429618917,
          0.664508458813728,
          0.37755207703075033,
          0.4712394429618917
         ]
        },
        {
         "color": "red",
         "opacity": 0.2,
         "type": "mesh3d",
         "x": [
          0.3696235562311669,
          0.24738124642776688,
          0.13639339820191912,
          0.3696235562311669
         ],
         "y": [
          0.940319824439668,
          0.8573038294222407,
          1,
          0.940319824439668
         ],
         "z": [
          0.4712394429618917,
          0.664508458813728,
          0.5020708952078212,
          0.4712394429618917
         ]
        },
        {
         "color": "red",
         "opacity": 0.2,
         "type": "mesh3d",
         "x": [
          0.3696235562311669,
          0.16604641513611318,
          0.13639339820191912,
          0.3696235562311669
         ],
         "y": [
          0.940319824439668,
          0.6617463384260125,
          1,
          0.940319824439668
         ],
         "z": [
          0.4712394429618917,
          0.37755207703075033,
          0.5020708952078212,
          0.4712394429618917
         ]
        },
        {
         "color": "red",
         "opacity": 0.2,
         "type": "mesh3d",
         "x": [
          -0.26101368287730714,
          -0.01200077919347878,
          -0.06830984540053718,
          -0.26101368287730714
         ],
         "y": [
          -0.7366657075974181,
          -0.6250271252811239,
          -0.9307310001236399,
          -0.7366657075974181
         ],
         "z": [
          -0.48215166557570494,
          -0.38250739038211246,
          -0.39738510304669483,
          -0.48215166557570494
         ]
        },
        {
         "color": "red",
         "opacity": 0.2,
         "type": "mesh3d",
         "x": [
          -0.26101368287730714,
          -0.01200077919347878,
          -0.14164548769645233,
          -0.26101368287730714
         ],
         "y": [
          -0.7366657075974181,
          -0.6250271252811239,
          -0.6839031219081287,
          -0.7366657075974181
         ],
         "z": [
          -0.48215166557570494,
          -0.38250739038211246,
          -0.22253209898429277,
          -0.48215166557570494
         ]
        },
        {
         "color": "red",
         "opacity": 0.2,
         "type": "mesh3d",
         "x": [
          -0.26101368287730714,
          -0.06830984540053718,
          -0.14164548769645233,
          -0.26101368287730714
         ],
         "y": [
          -0.7366657075974181,
          -0.9307310001236399,
          -0.6839031219081287,
          -0.7366657075974181
         ],
         "z": [
          -0.48215166557570494,
          -0.39738510304669483,
          -0.22253209898429277,
          -0.48215166557570494
         ]
        },
        {
         "color": "red",
         "opacity": 0.2,
         "type": "mesh3d",
         "x": [
          -0.10107785692711703,
          -0.01200077919347878,
          -0.14164548769645233,
          -0.10107785692711703
         ],
         "y": [
          -0.2810566136091946,
          -0.6250271252811239,
          -0.6839031219081287,
          -0.2810566136091946
         ],
         "z": [
          -0.1849983074153024,
          -0.38250739038211246,
          -0.22253209898429277,
          -0.1849983074153024
         ]
        },
        {
         "color": "red",
         "opacity": 0.2,
         "type": "mesh3d",
         "x": [
          -0.01200077919347878,
          -0.06830984540053718,
          -0.14164548769645233,
          -0.01200077919347878
         ],
         "y": [
          -0.6250271252811239,
          -0.9307310001236399,
          -0.6839031219081287,
          -0.6250271252811239
         ],
         "z": [
          -0.38250739038211246,
          -0.39738510304669483,
          -0.22253209898429277,
          -0.38250739038211246
         ]
        },
        {
         "color": "red",
         "opacity": 0.2,
         "type": "mesh3d",
         "x": [
          0.24738124642776688,
          0.16604641513611318,
          0.13639339820191912,
          0.24738124642776688
         ],
         "y": [
          0.8573038294222407,
          0.6617463384260125,
          1,
          0.8573038294222407
         ],
         "z": [
          0.664508458813728,
          0.37755207703075033,
          0.5020708952078212,
          0.664508458813728
         ]
        }
       ],
       "layout": {
        "height": 1000,
        "margin": {
         "b": 0,
         "l": 0,
         "r": 0,
         "t": 0
        },
        "scene": {
         "aspectmode": "auto",
         "aspectratio": {
          "x": 0.6244568401472482,
          "y": 1.6420724559309403,
          "z": 0.9752259669802044
         },
         "xaxis": {
          "showgrid": false,
          "showticklabels": false,
          "type": "linear",
          "zeroline": false
         },
         "yaxis": {
          "showgrid": false,
          "showticklabels": false,
          "type": "linear",
          "zeroline": false
         },
         "zaxis": {
          "showgrid": false,
          "showticklabels": false,
          "type": "linear",
          "zeroline": false
         }
        },
        "showlegend": false,
        "template": {
         "data": {
          "bar": [
           {
            "error_x": {
             "color": "#2a3f5f"
            },
            "error_y": {
             "color": "#2a3f5f"
            },
            "marker": {
             "line": {
              "color": "#E5ECF6",
              "width": 0.5
             },
             "pattern": {
              "fillmode": "overlay",
              "size": 10,
              "solidity": 0.2
             }
            },
            "type": "bar"
           }
          ],
          "barpolar": [
           {
            "marker": {
             "line": {
              "color": "#E5ECF6",
              "width": 0.5
             },
             "pattern": {
              "fillmode": "overlay",
              "size": 10,
              "solidity": 0.2
             }
            },
            "type": "barpolar"
           }
          ],
          "carpet": [
           {
            "aaxis": {
             "endlinecolor": "#2a3f5f",
             "gridcolor": "white",
             "linecolor": "white",
             "minorgridcolor": "white",
             "startlinecolor": "#2a3f5f"
            },
            "baxis": {
             "endlinecolor": "#2a3f5f",
             "gridcolor": "white",
             "linecolor": "white",
             "minorgridcolor": "white",
             "startlinecolor": "#2a3f5f"
            },
            "type": "carpet"
           }
          ],
          "choropleth": [
           {
            "colorbar": {
             "outlinewidth": 0,
             "ticks": ""
            },
            "type": "choropleth"
           }
          ],
          "contour": [
           {
            "colorbar": {
             "outlinewidth": 0,
             "ticks": ""
            },
            "colorscale": [
             [
              0,
              "#0d0887"
             ],
             [
              0.1111111111111111,
              "#46039f"
             ],
             [
              0.2222222222222222,
              "#7201a8"
             ],
             [
              0.3333333333333333,
              "#9c179e"
             ],
             [
              0.4444444444444444,
              "#bd3786"
             ],
             [
              0.5555555555555556,
              "#d8576b"
             ],
             [
              0.6666666666666666,
              "#ed7953"
             ],
             [
              0.7777777777777778,
              "#fb9f3a"
             ],
             [
              0.8888888888888888,
              "#fdca26"
             ],
             [
              1,
              "#f0f921"
             ]
            ],
            "type": "contour"
           }
          ],
          "contourcarpet": [
           {
            "colorbar": {
             "outlinewidth": 0,
             "ticks": ""
            },
            "type": "contourcarpet"
           }
          ],
          "heatmap": [
           {
            "colorbar": {
             "outlinewidth": 0,
             "ticks": ""
            },
            "colorscale": [
             [
              0,
              "#0d0887"
             ],
             [
              0.1111111111111111,
              "#46039f"
             ],
             [
              0.2222222222222222,
              "#7201a8"
             ],
             [
              0.3333333333333333,
              "#9c179e"
             ],
             [
              0.4444444444444444,
              "#bd3786"
             ],
             [
              0.5555555555555556,
              "#d8576b"
             ],
             [
              0.6666666666666666,
              "#ed7953"
             ],
             [
              0.7777777777777778,
              "#fb9f3a"
             ],
             [
              0.8888888888888888,
              "#fdca26"
             ],
             [
              1,
              "#f0f921"
             ]
            ],
            "type": "heatmap"
           }
          ],
          "heatmapgl": [
           {
            "colorbar": {
             "outlinewidth": 0,
             "ticks": ""
            },
            "colorscale": [
             [
              0,
              "#0d0887"
             ],
             [
              0.1111111111111111,
              "#46039f"
             ],
             [
              0.2222222222222222,
              "#7201a8"
             ],
             [
              0.3333333333333333,
              "#9c179e"
             ],
             [
              0.4444444444444444,
              "#bd3786"
             ],
             [
              0.5555555555555556,
              "#d8576b"
             ],
             [
              0.6666666666666666,
              "#ed7953"
             ],
             [
              0.7777777777777778,
              "#fb9f3a"
             ],
             [
              0.8888888888888888,
              "#fdca26"
             ],
             [
              1,
              "#f0f921"
             ]
            ],
            "type": "heatmapgl"
           }
          ],
          "histogram": [
           {
            "marker": {
             "pattern": {
              "fillmode": "overlay",
              "size": 10,
              "solidity": 0.2
             }
            },
            "type": "histogram"
           }
          ],
          "histogram2d": [
           {
            "colorbar": {
             "outlinewidth": 0,
             "ticks": ""
            },
            "colorscale": [
             [
              0,
              "#0d0887"
             ],
             [
              0.1111111111111111,
              "#46039f"
             ],
             [
              0.2222222222222222,
              "#7201a8"
             ],
             [
              0.3333333333333333,
              "#9c179e"
             ],
             [
              0.4444444444444444,
              "#bd3786"
             ],
             [
              0.5555555555555556,
              "#d8576b"
             ],
             [
              0.6666666666666666,
              "#ed7953"
             ],
             [
              0.7777777777777778,
              "#fb9f3a"
             ],
             [
              0.8888888888888888,
              "#fdca26"
             ],
             [
              1,
              "#f0f921"
             ]
            ],
            "type": "histogram2d"
           }
          ],
          "histogram2dcontour": [
           {
            "colorbar": {
             "outlinewidth": 0,
             "ticks": ""
            },
            "colorscale": [
             [
              0,
              "#0d0887"
             ],
             [
              0.1111111111111111,
              "#46039f"
             ],
             [
              0.2222222222222222,
              "#7201a8"
             ],
             [
              0.3333333333333333,
              "#9c179e"
             ],
             [
              0.4444444444444444,
              "#bd3786"
             ],
             [
              0.5555555555555556,
              "#d8576b"
             ],
             [
              0.6666666666666666,
              "#ed7953"
             ],
             [
              0.7777777777777778,
              "#fb9f3a"
             ],
             [
              0.8888888888888888,
              "#fdca26"
             ],
             [
              1,
              "#f0f921"
             ]
            ],
            "type": "histogram2dcontour"
           }
          ],
          "mesh3d": [
           {
            "colorbar": {
             "outlinewidth": 0,
             "ticks": ""
            },
            "type": "mesh3d"
           }
          ],
          "parcoords": [
           {
            "line": {
             "colorbar": {
              "outlinewidth": 0,
              "ticks": ""
             }
            },
            "type": "parcoords"
           }
          ],
          "pie": [
           {
            "automargin": true,
            "type": "pie"
           }
          ],
          "scatter": [
           {
            "fillpattern": {
             "fillmode": "overlay",
             "size": 10,
             "solidity": 0.2
            },
            "type": "scatter"
           }
          ],
          "scatter3d": [
           {
            "line": {
             "colorbar": {
              "outlinewidth": 0,
              "ticks": ""
             }
            },
            "marker": {
             "colorbar": {
              "outlinewidth": 0,
              "ticks": ""
             }
            },
            "type": "scatter3d"
           }
          ],
          "scattercarpet": [
           {
            "marker": {
             "colorbar": {
              "outlinewidth": 0,
              "ticks": ""
             }
            },
            "type": "scattercarpet"
           }
          ],
          "scattergeo": [
           {
            "marker": {
             "colorbar": {
              "outlinewidth": 0,
              "ticks": ""
             }
            },
            "type": "scattergeo"
           }
          ],
          "scattergl": [
           {
            "marker": {
             "colorbar": {
              "outlinewidth": 0,
              "ticks": ""
             }
            },
            "type": "scattergl"
           }
          ],
          "scattermapbox": [
           {
            "marker": {
             "colorbar": {
              "outlinewidth": 0,
              "ticks": ""
             }
            },
            "type": "scattermapbox"
           }
          ],
          "scatterpolar": [
           {
            "marker": {
             "colorbar": {
              "outlinewidth": 0,
              "ticks": ""
             }
            },
            "type": "scatterpolar"
           }
          ],
          "scatterpolargl": [
           {
            "marker": {
             "colorbar": {
              "outlinewidth": 0,
              "ticks": ""
             }
            },
            "type": "scatterpolargl"
           }
          ],
          "scatterternary": [
           {
            "marker": {
             "colorbar": {
              "outlinewidth": 0,
              "ticks": ""
             }
            },
            "type": "scatterternary"
           }
          ],
          "surface": [
           {
            "colorbar": {
             "outlinewidth": 0,
             "ticks": ""
            },
            "colorscale": [
             [
              0,
              "#0d0887"
             ],
             [
              0.1111111111111111,
              "#46039f"
             ],
             [
              0.2222222222222222,
              "#7201a8"
             ],
             [
              0.3333333333333333,
              "#9c179e"
             ],
             [
              0.4444444444444444,
              "#bd3786"
             ],
             [
              0.5555555555555556,
              "#d8576b"
             ],
             [
              0.6666666666666666,
              "#ed7953"
             ],
             [
              0.7777777777777778,
              "#fb9f3a"
             ],
             [
              0.8888888888888888,
              "#fdca26"
             ],
             [
              1,
              "#f0f921"
             ]
            ],
            "type": "surface"
           }
          ],
          "table": [
           {
            "cells": {
             "fill": {
              "color": "#EBF0F8"
             },
             "line": {
              "color": "white"
             }
            },
            "header": {
             "fill": {
              "color": "#C8D4E3"
             },
             "line": {
              "color": "white"
             }
            },
            "type": "table"
           }
          ]
         },
         "layout": {
          "annotationdefaults": {
           "arrowcolor": "#2a3f5f",
           "arrowhead": 0,
           "arrowwidth": 1
          },
          "autotypenumbers": "strict",
          "coloraxis": {
           "colorbar": {
            "outlinewidth": 0,
            "ticks": ""
           }
          },
          "colorscale": {
           "diverging": [
            [
             0,
             "#8e0152"
            ],
            [
             0.1,
             "#c51b7d"
            ],
            [
             0.2,
             "#de77ae"
            ],
            [
             0.3,
             "#f1b6da"
            ],
            [
             0.4,
             "#fde0ef"
            ],
            [
             0.5,
             "#f7f7f7"
            ],
            [
             0.6,
             "#e6f5d0"
            ],
            [
             0.7,
             "#b8e186"
            ],
            [
             0.8,
             "#7fbc41"
            ],
            [
             0.9,
             "#4d9221"
            ],
            [
             1,
             "#276419"
            ]
           ],
           "sequential": [
            [
             0,
             "#0d0887"
            ],
            [
             0.1111111111111111,
             "#46039f"
            ],
            [
             0.2222222222222222,
             "#7201a8"
            ],
            [
             0.3333333333333333,
             "#9c179e"
            ],
            [
             0.4444444444444444,
             "#bd3786"
            ],
            [
             0.5555555555555556,
             "#d8576b"
            ],
            [
             0.6666666666666666,
             "#ed7953"
            ],
            [
             0.7777777777777778,
             "#fb9f3a"
            ],
            [
             0.8888888888888888,
             "#fdca26"
            ],
            [
             1,
             "#f0f921"
            ]
           ],
           "sequentialminus": [
            [
             0,
             "#0d0887"
            ],
            [
             0.1111111111111111,
             "#46039f"
            ],
            [
             0.2222222222222222,
             "#7201a8"
            ],
            [
             0.3333333333333333,
             "#9c179e"
            ],
            [
             0.4444444444444444,
             "#bd3786"
            ],
            [
             0.5555555555555556,
             "#d8576b"
            ],
            [
             0.6666666666666666,
             "#ed7953"
            ],
            [
             0.7777777777777778,
             "#fb9f3a"
            ],
            [
             0.8888888888888888,
             "#fdca26"
            ],
            [
             1,
             "#f0f921"
            ]
           ]
          },
          "colorway": [
           "#636efa",
           "#EF553B",
           "#00cc96",
           "#ab63fa",
           "#FFA15A",
           "#19d3f3",
           "#FF6692",
           "#B6E880",
           "#FF97FF",
           "#FECB52"
          ],
          "font": {
           "color": "#2a3f5f"
          },
          "geo": {
           "bgcolor": "white",
           "lakecolor": "white",
           "landcolor": "#E5ECF6",
           "showlakes": true,
           "showland": true,
           "subunitcolor": "white"
          },
          "hoverlabel": {
           "align": "left"
          },
          "hovermode": "closest",
          "mapbox": {
           "style": "light"
          },
          "paper_bgcolor": "white",
          "plot_bgcolor": "#E5ECF6",
          "polar": {
           "angularaxis": {
            "gridcolor": "white",
            "linecolor": "white",
            "ticks": ""
           },
           "bgcolor": "#E5ECF6",
           "radialaxis": {
            "gridcolor": "white",
            "linecolor": "white",
            "ticks": ""
           }
          },
          "scene": {
           "xaxis": {
            "backgroundcolor": "#E5ECF6",
            "gridcolor": "white",
            "gridwidth": 2,
            "linecolor": "white",
            "showbackground": true,
            "ticks": "",
            "zerolinecolor": "white"
           },
           "yaxis": {
            "backgroundcolor": "#E5ECF6",
            "gridcolor": "white",
            "gridwidth": 2,
            "linecolor": "white",
            "showbackground": true,
            "ticks": "",
            "zerolinecolor": "white"
           },
           "zaxis": {
            "backgroundcolor": "#E5ECF6",
            "gridcolor": "white",
            "gridwidth": 2,
            "linecolor": "white",
            "showbackground": true,
            "ticks": "",
            "zerolinecolor": "white"
           }
          },
          "shapedefaults": {
           "line": {
            "color": "#2a3f5f"
           }
          },
          "ternary": {
           "aaxis": {
            "gridcolor": "white",
            "linecolor": "white",
            "ticks": ""
           },
           "baxis": {
            "gridcolor": "white",
            "linecolor": "white",
            "ticks": ""
           },
           "bgcolor": "#E5ECF6",
           "caxis": {
            "gridcolor": "white",
            "linecolor": "white",
            "ticks": ""
           }
          },
          "title": {
           "x": 0.05
          },
          "xaxis": {
           "automargin": true,
           "gridcolor": "white",
           "linecolor": "white",
           "ticks": "",
           "title": {
            "standoff": 15
           },
           "zerolinecolor": "white",
           "zerolinewidth": 2
          },
          "yaxis": {
           "automargin": true,
           "gridcolor": "white",
           "linecolor": "white",
           "ticks": "",
           "title": {
            "standoff": 15
           },
           "zerolinecolor": "white",
           "zerolinewidth": 2
          }
         }
        },
        "width": 1000
       }
      },
      "image/png": "[encoded data removed]",
      "text/html": [
       "<div>                            <div id=\"4047ffe6-e737-41b6-a76c-28d48d23c9dc\" class=\"plotly-graph-div\" style=\"height:1000px; width:1000px;\"></div>            <script type=\"text/javascript\">                require([\"plotly\"], function(Plotly) {                    window.PLOTLYENV=window.PLOTLYENV || {};                                    if (document.getElementById(\"4047ffe6-e737-41b6-a76c-28d48d23c9dc\")) {                    Plotly.newPlot(                        \"4047ffe6-e737-41b6-a76c-28d48d23c9dc\",                        [{\"hoverinfo\":\"none\",\"line\":{\"color\":\"rgba(0,0,0,0.5)\",\"width\":2},\"mode\":\"lines\",\"x\":[0.3696235562311669,0.16604641513611318,null,0.3696235562311669,0.24738124642776688,null,0.3696235562311669,0.13639339820191912,null,0.029209065873682577,-0.10107785692711703,null,0.029209065873682577,0.16604641513611318,null,-0.26101368287730714,-0.36460602977575546,null,-0.26101368287730714,-0.01200077919347878,null,-0.26101368287730714,-0.14164548769645233,null,-0.26101368287730714,-0.06830984540053718,null,-0.10107785692711703,-0.14164548769645233,null,-0.10107785692711703,-0.01200077919347878,null,-0.10107785692711703,-0.36460602977575546,null,-0.01200077919347878,-0.06830984540053718,null,-0.01200077919347878,-0.14164548769645233,null,-0.06830984540053718,-0.14164548769645233,null,0.24738124642776688,0.16604641513611318,null,0.24738124642776688,0.13639339820191912,null,0.16604641513611318,0.13639339820191912,null],\"y\":[0.940319824439668,0.6617463384260125,null,0.940319824439668,0.8573038294222407,null,0.940319824439668,1.0,null,0.20528235156724878,-0.2810566136091946,null,0.20528235156724878,0.6617463384260125,null,-0.7366657075974181,-0.40726877533566563,null,-0.7366657075974181,-0.6250271252811239,null,-0.7366657075974181,-0.6839031219081287,null,-0.7366657075974181,-0.9307310001236399,null,-0.2810566136091946,-0.6839031219081287,null,-0.2810566136091946,-0.6250271252811239,null,-0.2810566136091946,-0.40726877533566563,null,-0.6250271252811239,-0.9307310001236399,null,-0.6250271252811239,-0.6839031219081287,null,-0.9307310001236399,-0.6839031219081287,null,0.8573038294222407,0.6617463384260125,null,0.8573038294222407,1.0,null,0.6617463384260125,1.0,null],\"z\":[0.4712394429618917,0.37755207703075033,null,0.4712394429618917,0.664508458813728,null,0.4712394429618917,0.5020708952078212,null,0.0990217599456154,-0.1849983074153024,null,0.0990217599456154,0.37755207703075033,null,-0.48215166557570494,-0.44481806855569933,null,-0.48215166557570494,-0.38250739038211246,null,-0.48215166557570494,-0.22253209898429277,null,-0.48215166557570494,-0.39738510304669483,null,-0.1849983074153024,-0.22253209898429277,null,-0.1849983074153024,-0.38250739038211246,null,-0.1849983074153024,-0.44481806855569933,null,-0.38250739038211246,-0.39738510304669483,null,-0.38250739038211246,-0.22253209898429277,null,-0.39738510304669483,-0.22253209898429277,null,0.664508458813728,0.37755207703075033,null,0.664508458813728,0.5020708952078212,null,0.37755207703075033,0.5020708952078212,null],\"type\":\"scatter3d\"},{\"hoverinfo\":\"text\",\"hovertext\":[\"BA.2.10.1_16968470\",\"BA.2.75.2_15671212\",\"BA.2.10.1_12666024\",\"BA.2.75.2_16278985\",\"BA.2.75.2_15608996\",\"BA.2_12533151\",\"BA.2_12739324\",\"BA.2_13368395\",\"XBB.1_16861713\",\"XBB.1_16861711\",\"XBB.1_16968355\"],\"marker\":{\"color\":[\"orange\",\"gray\",\"orange\",\"gray\",\"gray\",\"blue\",\"blue\",\"blue\",\"green\",\"green\",\"green\"],\"size\":5},\"mode\":\"markers\",\"x\":[0.3696235562311669,0.029209065873682577,-0.26101368287730714,-0.10107785692711703,-0.36460602977575546,-0.01200077919347878,-0.06830984540053718,-0.14164548769645233,0.24738124642776688,0.16604641513611318,0.13639339820191912],\"y\":[0.940319824439668,0.20528235156724878,-0.7366657075974181,-0.2810566136091946,-0.40726877533566563,-0.6250271252811239,-0.9307310001236399,-0.6839031219081287,0.8573038294222407,0.6617463384260125,1.0],\"z\":[0.4712394429618917,0.0990217599456154,-0.48215166557570494,-0.1849983074153024,-0.44481806855569933,-0.38250739038211246,-0.39738510304669483,-0.22253209898429277,0.664508458813728,0.37755207703075033,0.5020708952078212],\"type\":\"scatter3d\"},{\"hoverinfo\":\"none\",\"mode\":\"text\",\"text\":[\"BA.2.10.1_16968470\",\"BA.2.75.2_15671212\",\"BA.2.10.1_12666024\",\"BA.2.75.2_16278985\",\"BA.2.75.2_15608996\",\"BA.2_12533151\",\"BA.2_12739324\",\"BA.2_13368395\",\"XBB.1_16861713\",\"XBB.1_16861711\",\"XBB.1_16968355\"],\"textfont\":{\"color\":\"black\",\"family\":\"Arial Black\",\"size\":8},\"textposition\":\"top center\",\"x\":[0.3696235562311669,0.029209065873682577,-0.26101368287730714,-0.10107785692711703,-0.36460602977575546,-0.01200077919347878,-0.06830984540053718,-0.14164548769645233,0.24738124642776688,0.16604641513611318,0.13639339820191912],\"y\":[0.940319824439668,0.20528235156724878,-0.7366657075974181,-0.2810566136091946,-0.40726877533566563,-0.6250271252811239,-0.9307310001236399,-0.6839031219081287,0.8573038294222407,0.6617463384260125,1.0],\"z\":[0.4712394429618917,0.0990217599456154,-0.48215166557570494,-0.1849983074153024,-0.44481806855569933,-0.38250739038211246,-0.39738510304669483,-0.22253209898429277,0.664508458813728,0.37755207703075033,0.5020708952078212],\"type\":\"scatter3d\"},{\"color\":\"red\",\"opacity\":0.2,\"x\":[0.3696235562311669,0.24738124642776688,0.16604641513611318,0.3696235562311669],\"y\":[0.940319824439668,0.8573038294222407,0.6617463384260125,0.940319824439668],\"z\":[0.4712394429618917,0.664508458813728,0.37755207703075033,0.4712394429618917],\"type\":\"mesh3d\"},{\"color\":\"red\",\"opacity\":0.2,\"x\":[0.3696235562311669,0.24738124642776688,0.13639339820191912,0.3696235562311669],\"y\":[0.940319824439668,0.8573038294222407,1.0,0.940319824439668],\"z\":[0.4712394429618917,0.664508458813728,0.5020708952078212,0.4712394429618917],\"type\":\"mesh3d\"},{\"color\":\"red\",\"opacity\":0.2,\"x\":[0.3696235562311669,0.16604641513611318,0.13639339820191912,0.3696235562311669],\"y\":[0.940319824439668,0.6617463384260125,1.0,0.940319824439668],\"z\":[0.4712394429618917,0.37755207703075033,0.5020708952078212,0.4712394429618917],\"type\":\"mesh3d\"},{\"color\":\"red\",\"opacity\":0.2,\"x\":[-0.26101368287730714,-0.01200077919347878,-0.06830984540053718,-0.26101368287730714],\"y\":[-0.7366657075974181,-0.6250271252811239,-0.9307310001236399,-0.7366657075974181],\"z\":[-0.48215166557570494,-0.38250739038211246,-0.39738510304669483,-0.48215166557570494],\"type\":\"mesh3d\"},{\"color\":\"red\",\"opacity\":0.2,\"x\":[-0.26101368287730714,-0.01200077919347878,-0.14164548769645233,-0.26101368287730714],\"y\":[-0.7366657075974181,-0.6250271252811239,-0.6839031219081287,-0.7366657075974181],\"z\":[-0.48215166557570494,-0.38250739038211246,-0.22253209898429277,-0.48215166557570494],\"type\":\"mesh3d\"},{\"color\":\"red\",\"opacity\":0.2,\"x\":[-0.26101368287730714,-0.06830984540053718,-0.14164548769645233,-0.26101368287730714],\"y\":[-0.7366657075974181,-0.9307310001236399,-0.6839031219081287,-0.7366657075974181],\"z\":[-0.48215166557570494,-0.39738510304669483,-0.22253209898429277,-0.48215166557570494],\"type\":\"mesh3d\"},{\"color\":\"red\",\"opacity\":0.2,\"x\":[-0.10107785692711703,-0.01200077919347878,-0.14164548769645233,-0.10107785692711703],\"y\":[-0.2810566136091946,-0.6250271252811239,-0.6839031219081287,-0.2810566136091946],\"z\":[-0.1849983074153024,-0.38250739038211246,-0.22253209898429277,-0.1849983074153024],\"type\":\"mesh3d\"},{\"color\":\"red\",\"opacity\":0.2,\"x\":[-0.01200077919347878,-0.06830984540053718,-0.14164548769645233,-0.01200077919347878],\"y\":[-0.6250271252811239,-0.9307310001236399,-0.6839031219081287,-0.6250271252811239],\"z\":[-0.38250739038211246,-0.39738510304669483,-0.22253209898429277,-0.38250739038211246],\"type\":\"mesh3d\"},{\"color\":\"red\",\"opacity\":0.2,\"x\":[0.24738124642776688,0.16604641513611318,0.13639339820191912,0.24738124642776688],\"y\":[0.8573038294222407,0.6617463384260125,1.0,0.8573038294222407],\"z\":[0.664508458813728,0.37755207703075033,0.5020708952078212,0.664508458813728],\"type\":\"mesh3d\"}],                        {\"margin\":{\"b\":0,\"l\":0,\"r\":0,\"t\":0},\"scene\":{\"xaxis\":{\"showgrid\":false,\"showticklabels\":false,\"zeroline\":false},\"yaxis\":{\"showgrid\":false,\"showticklabels\":false,\"zeroline\":false},\"zaxis\":{\"showgrid\":false,\"showticklabels\":false,\"zeroline\":false}},\"showlegend\":false,\"template\":{\"data\":{\"histogram2dcontour\":[{\"type\":\"histogram2dcontour\",\"colorbar\":{\"outlinewidth\":0,\"ticks\":\"\"},\"colorscale\":[[0.0,\"#0d0887\"],[0.1111111111111111,\"#46039f\"],[0.2222222222222222,\"#7201a8\"],[0.3333333333333333,\"#9c179e\"],[0.4444444444444444,\"#bd3786\"],[0.5555555555555556,\"#d8576b\"],[0.6666666666666666,\"#ed7953\"],[0.7777777777777778,\"#fb9f3a\"],[0.8888888888888888,\"#fdca26\"],[1.0,\"#f0f921\"]]}],\"choropleth\":[{\"type\":\"choropleth\",\"colorbar\":{\"outlinewidth\":0,\"ticks\":\"\"}}],\"histogram2d\":[{\"type\":\"histogram2d\",\"colorbar\":{\"outlinewidth\":0,\"ticks\":\"\"},\"colorscale\":[[0.0,\"#0d0887\"],[0.1111111111111111,\"#46039f\"],[0.2222222222222222,\"#7201a8\"],[0.3333333333333333,\"#9c179e\"],[0.4444444444444444,\"#bd3786\"],[0.5555555555555556,\"#d8576b\"],[0.6666666666666666,\"#ed7953\"],[0.7777777777777778,\"#fb9f3a\"],[0.8888888888888888,\"#fdca26\"],[1.0,\"#f0f921\"]]}],\"heatmap\":[{\"type\":\"heatmap\",\"colorbar\":{\"outlinewidth\":0,\"ticks\":\"\"},\"colorscale\":[[0.0,\"#0d0887\"],[0.1111111111111111,\"#46039f\"],[0.2222222222222222,\"#7201a8\"],[0.3333333333333333,\"#9c179e\"],[0.4444444444444444,\"#bd3786\"],[0.5555555555555556,\"#d8576b\"],[0.6666666666666666,\"#ed7953\"],[0.7777777777777778,\"#fb9f3a\"],[0.8888888888888888,\"#fdca26\"],[1.0,\"#f0f921\"]]}],\"heatmapgl\":[{\"type\":\"heatmapgl\",\"colorbar\":{\"outlinewidth\":0,\"ticks\":\"\"},\"colorscale\":[[0.0,\"#0d0887\"],[0.1111111111111111,\"#46039f\"],[0.2222222222222222,\"#7201a8\"],[0.3333333333333333,\"#9c179e\"],[0.4444444444444444,\"#bd3786\"],[0.5555555555555556,\"#d8576b\"],[0.6666666666666666,\"#ed7953\"],[0.7777777777777778,\"#fb9f3a\"],[0.8888888888888888,\"#fdca26\"],[1.0,\"#f0f921\"]]}],\"contourcarpet\":[{\"type\":\"contourcarpet\",\"colorbar\":{\"outlinewidth\":0,\"ticks\":\"\"}}],\"contour\":[{\"type\":\"contour\",\"colorbar\":{\"outlinewidth\":0,\"ticks\":\"\"},\"colorscale\":[[0.0,\"#0d0887\"],[0.1111111111111111,\"#46039f\"],[0.2222222222222222,\"#7201a8\"],[0.3333333333333333,\"#9c179e\"],[0.4444444444444444,\"#bd3786\"],[0.5555555555555556,\"#d8576b\"],[0.6666666666666666,\"#ed7953\"],[0.7777777777777778,\"#fb9f3a\"],[0.8888888888888888,\"#fdca26\"],[1.0,\"#f0f921\"]]}],\"surface\":[{\"type\":\"surface\",\"colorbar\":{\"outlinewidth\":0,\"ticks\":\"\"},\"colorscale\":[[0.0,\"#0d0887\"],[0.1111111111111111,\"#46039f\"],[0.2222222222222222,\"#7201a8\"],[0.3333333333333333,\"#9c179e\"],[0.4444444444444444,\"#bd3786\"],[0.5555555555555556,\"#d8576b\"],[0.6666666666666666,\"#ed7953\"],[0.7777777777777778,\"#fb9f3a\"],[0.8888888888888888,\"#fdca26\"],[1.0,\"#f0f921\"]]}],\"mesh3d\":[{\"type\":\"mesh3d\",\"colorbar\":{\"outlinewidth\":0,\"ticks\":\"\"}}],\"scatter\":[{\"fillpattern\":{\"fillmode\":\"overlay\",\"size\":10,\"solidity\":0.2},\"type\":\"scatter\"}],\"parcoords\":[{\"type\":\"parcoords\",\"line\":{\"colorbar\":{\"outlinewidth\":0,\"ticks\":\"\"}}}],\"scatterpolargl\":[{\"type\":\"scatterpolargl\",\"marker\":{\"colorbar\":{\"outlinewidth\":0,\"ticks\":\"\"}}}],\"bar\":[{\"error_x\":{\"color\":\"#2a3f5f\"},\"error_y\":{\"color\":\"#2a3f5f\"},\"marker\":{\"line\":{\"color\":\"#E5ECF6\",\"width\":0.5},\"pattern\":{\"fillmode\":\"overlay\",\"size\":10,\"solidity\":0.2}},\"type\":\"bar\"}],\"scattergeo\":[{\"type\":\"scattergeo\",\"marker\":{\"colorbar\":{\"outlinewidth\":0,\"ticks\":\"\"}}}],\"scatterpolar\":[{\"type\":\"scatterpolar\",\"marker\":{\"colorbar\":{\"outlinewidth\":0,\"ticks\":\"\"}}}],\"histogram\":[{\"marker\":{\"pattern\":{\"fillmode\":\"overlay\",\"size\":10,\"solidity\":0.2}},\"type\":\"histogram\"}],\"scattergl\":[{\"type\":\"scattergl\",\"marker\":{\"colorbar\":{\"outlinewidth\":0,\"ticks\":\"\"}}}],\"scatter3d\":[{\"type\":\"scatter3d\",\"line\":{\"colorbar\":{\"outlinewidth\":0,\"ticks\":\"\"}},\"marker\":{\"colorbar\":{\"outlinewidth\":0,\"ticks\":\"\"}}}],\"scattermapbox\":[{\"type\":\"scattermapbox\",\"marker\":{\"colorbar\":{\"outlinewidth\":0,\"ticks\":\"\"}}}],\"scatterternary\":[{\"type\":\"scatterternary\",\"marker\":{\"colorbar\":{\"outlinewidth\":0,\"ticks\":\"\"}}}],\"scattercarpet\":[{\"type\":\"scattercarpet\",\"marker\":{\"colorbar\":{\"outlinewidth\":0,\"ticks\":\"\"}}}],\"carpet\":[{\"aaxis\":{\"endlinecolor\":\"#2a3f5f\",\"gridcolor\":\"white\",\"linecolor\":\"white\",\"minorgridcolor\":\"white\",\"startlinecolor\":\"#2a3f5f\"},\"baxis\":{\"endlinecolor\":\"#2a3f5f\",\"gridcolor\":\"white\",\"linecolor\":\"white\",\"minorgridcolor\":\"white\",\"startlinecolor\":\"#2a3f5f\"},\"type\":\"carpet\"}],\"table\":[{\"cells\":{\"fill\":{\"color\":\"#EBF0F8\"},\"line\":{\"color\":\"white\"}},\"header\":{\"fill\":{\"color\":\"#C8D4E3\"},\"line\":{\"color\":\"white\"}},\"type\":\"table\"}],\"barpolar\":[{\"marker\":{\"line\":{\"color\":\"#E5ECF6\",\"width\":0.5},\"pattern\":{\"fillmode\":\"overlay\",\"size\":10,\"solidity\":0.2}},\"type\":\"barpolar\"}],\"pie\":[{\"automargin\":true,\"type\":\"pie\"}]},\"layout\":{\"autotypenumbers\":\"strict\",\"colorway\":[\"#636efa\",\"#EF553B\",\"#00cc96\",\"#ab63fa\",\"#FFA15A\",\"#19d3f3\",\"#FF6692\",\"#B6E880\",\"#FF97FF\",\"#FECB52\"],\"font\":{\"color\":\"#2a3f5f\"},\"hovermode\":\"closest\",\"hoverlabel\":{\"align\":\"left\"},\"paper_bgcolor\":\"white\",\"plot_bgcolor\":\"#E5ECF6\",\"polar\":{\"bgcolor\":\"#E5ECF6\",\"angularaxis\":{\"gridcolor\":\"white\",\"linecolor\":\"white\",\"ticks\":\"\"},\"radialaxis\":{\"gridcolor\":\"white\",\"linecolor\":\"white\",\"ticks\":\"\"}},\"ternary\":{\"bgcolor\":\"#E5ECF6\",\"aaxis\":{\"gridcolor\":\"white\",\"linecolor\":\"white\",\"ticks\":\"\"},\"baxis\":{\"gridcolor\":\"white\",\"linecolor\":\"white\",\"ticks\":\"\"},\"caxis\":{\"gridcolor\":\"white\",\"linecolor\":\"white\",\"ticks\":\"\"}},\"coloraxis\":{\"colorbar\":{\"outlinewidth\":0,\"ticks\":\"\"}},\"colorscale\":{\"sequential\":[[0.0,\"#0d0887\"],[0.1111111111111111,\"#46039f\"],[0.2222222222222222,\"#7201a8\"],[0.3333333333333333,\"#9c179e\"],[0.4444444444444444,\"#bd3786\"],[0.5555555555555556,\"#d8576b\"],[0.6666666666666666,\"#ed7953\"],[0.7777777777777778,\"#fb9f3a\"],[0.8888888888888888,\"#fdca26\"],[1.0,\"#f0f921\"]],\"sequentialminus\":[[0.0,\"#0d0887\"],[0.1111111111111111,\"#46039f\"],[0.2222222222222222,\"#7201a8\"],[0.3333333333333333,\"#9c179e\"],[0.4444444444444444,\"#bd3786\"],[0.5555555555555556,\"#d8576b\"],[0.6666666666666666,\"#ed7953\"],[0.7777777777777778,\"#fb9f3a\"],[0.8888888888888888,\"#fdca26\"],[1.0,\"#f0f921\"]],\"diverging\":[[0,\"#8e0152\"],[0.1,\"#c51b7d\"],[0.2,\"#de77ae\"],[0.3,\"#f1b6da\"],[0.4,\"#fde0ef\"],[0.5,\"#f7f7f7\"],[0.6,\"#e6f5d0\"],[0.7,\"#b8e186\"],[0.8,\"#7fbc41\"],[0.9,\"#4d9221\"],[1,\"#276419\"]]},\"xaxis\":{\"gridcolor\":\"white\",\"linecolor\":\"white\",\"ticks\":\"\",\"title\":{\"standoff\":15},\"zerolinecolor\":\"white\",\"automargin\":true,\"zerolinewidth\":2},\"yaxis\":{\"gridcolor\":\"white\",\"linecolor\":\"white\",\"ticks\":\"\",\"title\":{\"standoff\":15},\"zerolinecolor\":\"white\",\"automargin\":true,\"zerolinewidth\":2},\"scene\":{\"xaxis\":{\"backgroundcolor\":\"#E5ECF6\",\"gridcolor\":\"white\",\"linecolor\":\"white\",\"showbackground\":true,\"ticks\":\"\",\"zerolinecolor\":\"white\",\"gridwidth\":2},\"yaxis\":{\"backgroundcolor\":\"#E5ECF6\",\"gridcolor\":\"white\",\"linecolor\":\"white\",\"showbackground\":true,\"ticks\":\"\",\"zerolinecolor\":\"white\",\"gridwidth\":2},\"zaxis\":{\"backgroundcolor\":\"#E5ECF6\",\"gridcolor\":\"white\",\"linecolor\":\"white\",\"showbackground\":true,\"ticks\":\"\",\"zerolinecolor\":\"white\",\"gridwidth\":2}},\"shapedefaults\":{\"line\":{\"color\":\"#2a3f5f\"}},\"annotationdefaults\":{\"arrowcolor\":\"#2a3f5f\",\"arrowhead\":0,\"arrowwidth\":1},\"geo\":{\"bgcolor\":\"white\",\"landcolor\":\"#E5ECF6\",\"subunitcolor\":\"white\",\"showland\":true,\"showlakes\":true,\"lakecolor\":\"white\"},\"title\":{\"x\":0.05},\"mapbox\":{\"style\":\"light\"}}},\"width\":1000,\"height\":1000},                        {\"responsive\": true}                    ).then(function(){\n",
       "                            \n",
       "var gd = document.getElementById('4047ffe6-e737-41b6-a76c-28d48d23c9dc');\n",
       "var x = new MutationObserver(function (mutations, observer) {{\n",
       "        var display = window.getComputedStyle(gd).display;\n",
       "        if (!display || display === 'none') {{\n",
       "            console.log([gd, 'removed!']);\n",
       "            Plotly.purge(gd);\n",
       "            observer.disconnect();\n",
       "        }}\n",
       "}});\n",
       "\n",
       "// Listen for the removal of the full notebook cells\n",
       "var notebookContainer = gd.closest('#notebook-container');\n",
       "if (notebookContainer) {{\n",
       "    x.observe(notebookContainer, {childList: true});\n",
       "}}\n",
       "\n",
       "// Listen for the clearing of the current output cell\n",
       "var outputEl = gd.closest('.output');\n",
       "if (outputEl) {{\n",
       "    x.observe(outputEl, {childList: true});\n",
       "}}\n",
       "\n",
       "                        })                };                });            </script>        </div>"
      ]
     },
     "metadata": {},
     "output_type": "display_data"
    },
    {
     "data": {
      "text/plain": [
       "<networkx.classes.graph.Graph at 0x78f10d8dc280>"
      ]
     },
     "execution_count": 39,
     "metadata": {},
     "output_type": "execute_result"
    }
   ],
   "source": [
    "labels = [\n",
    "    \"BA.2.10.1_hCoV-19/Mexico/QUE-LANGEBIO_IMSS_14092/2023|EPI_ISL_16968470|2023-01-13\",\n",
    "    \"BA.2.75.2_hCoV-19/Mexico/CMX_IBT_IMSS_9908/2022|EPI_ISL_15671212|2022-10-07\",\n",
    "    \"BA.2.10.1_hCoV-19/Mexico/HID-INMEGEN-70-132/2022|EPI_ISL_12666024|2022-05-01\",\n",
    "    \"BA.2.75.2_hCoV-19/Mexico/CMX-INMEGEN-95-310/2022|EPI_ISL_16278985|2022-12-12\",\n",
    "    \"BA.2.75.2_hCoV-19/Mexico/MEX-INMEGEN-92x-18/2022|EPI_ISL_15608996|2022-09-25\",\n",
    "    \"BA.2_hCoV-19/Mexico/BCN_CIAD-IMSS_202201050913/2022|EPI_ISL_12533151|2022-04-19\",\n",
    "    \"BA.2_hCoV-19/Mexico/MEX_InDRE_FB13911_E_S13150/2022|EPI_ISL_12739324|2022-04-16\",\n",
    "    \"BA.2_hCoV-19/Mexico/SIN_CIAD-MZT_HJ6105/2022|EPI_ISL_13368395|2022-05-25\",\n",
    "    \"XBB.1_hCoV-19/Mexico/TAM_LANGEBIO_IMSS_13849/2022|EPI_ISL_16861713|2022-12-19\",\n",
    "    \"XBB.1_hCoV-19/Mexico/TAM_LANGEBIO_IMSS_13854/2022|EPI_ISL_16861711|2022-12-19\",\n",
    "    \"XBB.1_hCoV-19/Mexico/VER-LANGEBIO_IMSS_13979/2023|EPI_ISL_16968355|2023-01-23\"\n",
    "]\n",
    "print(\"Visualizing 3D simplicial complex at filtration time 58\")\n",
    "visualize_simplicial_complex(simplex_tree, 58, vertex_names=format_labels(labels))"
   ]
  },
  {
   "cell_type": "code",
   "execution_count": null,
   "id": "6553dda3",
   "metadata": {},
   "outputs": [],
   "source": []
  }
 ],
 "metadata": {
  "kernelspec": {
   "display_name": "Python 3 (ipykernel)",
   "language": "python",
   "name": "python3"
  },
  "language_info": {
   "codemirror_mode": {
    "name": "ipython",
    "version": 3
   },
   "file_extension": ".py",
   "mimetype": "text/x-python",
   "name": "python",
   "nbconvert_exporter": "python",
   "pygments_lexer": "ipython3",
   "version": "3.12.4"
  }
 },
 "nbformat": 4,
 "nbformat_minor": 5
}
