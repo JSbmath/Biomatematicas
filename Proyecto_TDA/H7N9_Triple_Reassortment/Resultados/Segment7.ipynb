{
 "cells": [
  {
   "cell_type": "code",
   "execution_count": 1,
   "id": "8429daca",
   "metadata": {},
   "outputs": [],
   "source": [
    "import numpy as np\n",
    "import gudhi\n",
    "import matplotlib.pyplot as plot\n",
    "import seaborn as sns\n",
    "import networkx as nx\n",
    "import plotly.graph_objects as go"
   ]
  },
  {
   "cell_type": "code",
   "execution_count": 2,
   "id": "7b1a1438",
   "metadata": {},
   "outputs": [],
   "source": [
    "def count_strains(labels):\n",
    "    strain_counts = {}\n",
    "    strain_colors = {\n",
    "        'H9N2': 'blue',\n",
    "        'H7N9': 'orange',\n",
    "        'H7N3': 'green'\n",
    "    }\n",
    "    for label in labels:\n",
    "        strain = label.split('(')[1].split(')')[0]  # Extrae la cepa entre paréntesis\n",
    "        strain_counts[strain] = strain_counts.get(strain, 0) + 1\n",
    "    print(\"Número de secuencias para la prueba:\")\n",
    "    for strain, count in strain_counts.items():\n",
    "        color = strain_colors.get(strain, 'gray')\n",
    "        print(f\"{strain} = {count} ({color})\")\n",
    "    return strain_colors"
   ]
  },
  {
   "cell_type": "code",
   "execution_count": 3,
   "id": "b822488a",
   "metadata": {},
   "outputs": [],
   "source": [
    "def visualize_simplicial_complex(simplex_tree, filtration_value, vertex_names=None, save_filename=None, plot_size=1000):\n",
    "    G = nx.Graph()\n",
    "    triangles = []\n",
    "    tetrahedra = []\n",
    "    edges = []\n",
    "    hole_2d_simplices = []\n",
    "\n",
    "    # Encontrar el agujero 2D\n",
    "    persistence_2 = simplex_tree.persistence_intervals_in_dimension(2)\n",
    "    hole_birth = None\n",
    "    if len(persistence_2) > 0:\n",
    "        hole_birth = persistence_2[0][0]  # Asumiendo que solo hay un agujero 2D\n",
    "\n",
    "    # Procesar cada simplex en el árbol de simplex\n",
    "    for simplex, filt in simplex_tree.get_filtration():\n",
    "        if filt <= filtration_value:\n",
    "            if len(simplex) == 2:\n",
    "                G.add_edge(simplex[0], simplex[1])\n",
    "                edges.append(simplex)\n",
    "            elif len(simplex) == 1:\n",
    "                G.add_node(simplex[0])\n",
    "            elif len(simplex) == 3:\n",
    "                triangles.append(simplex)\n",
    "                if hole_birth is not None and filt == hole_birth:\n",
    "                    hole_2d_simplices.append(simplex)\n",
    "            elif len(simplex) == 4:\n",
    "                tetrahedra.append(simplex)\n",
    "\n",
    "    # El resto de la función permanece igual...\n",
    "    \n",
    "    # Crear layout del grafo\n",
    "    pos = nx.spring_layout(G, dim=3)\n",
    "\n",
    "    # Obtener los colores de las cepas\n",
    "    strain_colors = count_strains(vertex_names)\n",
    "\n",
    "    # Crear trazas para nodos\n",
    "    node_x, node_y, node_z = zip(*[pos[node] for node in G.nodes()])\n",
    "    node_labels = [vertex_names[node] if vertex_names else str(node) for node in G.nodes()]\n",
    "    node_colors = [strain_colors.get(label.split('(')[1].split(')')[0], 'gray') for label in node_labels]\n",
    "    node_trace = go.Scatter3d(x=node_x, y=node_y, z=node_z, mode='markers+text', \n",
    "                              marker=dict(size=5, color=node_colors),\n",
    "                              text=node_labels, textposition=\"top center\", \n",
    "                              hoverinfo='text')\n",
    "\n",
    "    # Crear trazas para aristas\n",
    "    edge_x, edge_y, edge_z = [], [], []\n",
    "    edge_colors = []\n",
    "    for edge in G.edges():\n",
    "        x0, y0, z0 = pos[edge[0]]\n",
    "        x1, y1, z1 = pos[edge[1]]\n",
    "        edge_x.extend([x0, x1, None])\n",
    "        edge_y.extend([y0, y1, None])\n",
    "        edge_z.extend([z0, z1, None])\n",
    "        # Comprobar si esta arista es parte del agujero 2D\n",
    "        is_hole_edge = any(set(edge).issubset(triangle) for triangle in hole_2d_simplices)\n",
    "        edge_colors.extend(['yellow' if is_hole_edge else 'black'] * 3)\n",
    "    edge_trace = go.Scatter3d(x=edge_x, y=edge_y, z=edge_z, mode='lines', \n",
    "                              line=dict(width=2, color=edge_colors), hoverinfo='none')\n",
    "\n",
    "    # Crear trazas para triángulos\n",
    "    triangle_traces = []\n",
    "    for triangle in triangles:\n",
    "        x = [pos[v][0] for v in triangle]\n",
    "        y = [pos[v][1] for v in triangle]\n",
    "        z = [pos[v][2] for v in triangle]\n",
    "        color = 'yellow' if triangle in hole_2d_simplices else 'red'\n",
    "        opacity = 0.7 if triangle in hole_2d_simplices else 0.3\n",
    "        triangle_trace = go.Mesh3d(x=x, y=y, z=z, opacity=opacity, color=color)\n",
    "        triangle_traces.append(triangle_trace)\n",
    "\n",
    "    # Crear trazas para tetraedros\n",
    "    tetrahedra_traces = []\n",
    "    for tetrahedron in tetrahedra:\n",
    "        x = [pos[v][0] for v in tetrahedron]\n",
    "        y = [pos[v][1] for v in tetrahedron]\n",
    "        z = [pos[v][2] for v in tetrahedron]\n",
    "        tetrahedron_trace = go.Mesh3d(x=x, y=y, z=z, opacity=0.1, color='green')\n",
    "        tetrahedra_traces.append(tetrahedron_trace)\n",
    "\n",
    "    # Configurar el layout\n",
    "    layout = go.Layout(\n",
    "        scene=dict(\n",
    "            xaxis=dict(visible=False),\n",
    "            yaxis=dict(visible=False),\n",
    "            zaxis=dict(visible=False)\n",
    "        ),\n",
    "        margin=dict(r=0, l=0, b=0, t=0),\n",
    "        showlegend=False\n",
    "    )\n",
    "\n",
    "    # Crear la figura y añadir las trazas\n",
    "    fig = go.Figure(data=[node_trace, edge_trace] + triangle_traces + tetrahedra_traces, layout=layout)\n",
    "\n",
    "    fig.update_layout(width=plot_size, height=plot_size)\n",
    "\n",
    "    if save_filename:\n",
    "        fig.write_image(save_filename, width=plot_size, height=plot_size, scale=1)\n",
    "\n",
    "    fig.show()\n",
    "\n",
    "    return G"
   ]
  },
  {
   "cell_type": "code",
   "execution_count": 4,
   "id": "83e62dfc",
   "metadata": {},
   "outputs": [],
   "source": [
    "sG3 =  [[ 0., 89., 90., 89., 87., 23., 92., 25., 44., 44.],\n",
    "                   [89., 0., 4., 21., 19., 86., 20., 87., 88., 88.],\n",
    "                   [90., 4., 0., 19., 17., 86., 16., 87., 88., 88.],\n",
    "                   [89., 21., 19., 0., 2., 87., 29., 88., 87., 87.],\n",
    "                   [87., 19., 17., 2., 0., 85., 27., 86., 85., 85.],\n",
    "                   [23., 86., 86., 87., 85., 0., 88., 23., 40., 40.],\n",
    "                   [92., 20., 16., 29., 27., 88., 0., 90., 91., 91.],\n",
    "                   [25., 87., 87., 88., 86., 23., 90., 0., 41., 41.],\n",
    "                   [44., 88., 88., 87., 85., 40., 91., 41., 0., 0.],\n",
    "                   [44., 88., 88., 87., 85., 40., 91., 41., 0., 0.]]\n",
    "\n",
    "\n",
    "# Convertir la lista a una matriz NumPy\n",
    "sG3 = np.array(sG3)"
   ]
  },
  {
   "cell_type": "code",
   "execution_count": 5,
   "id": "deb3c49d",
   "metadata": {},
   "outputs": [
    {
     "data": {
      "image/png": "[encoded data removed]",
      "text/plain": [
       "<Figure size 1000x800 with 2 Axes>"
      ]
     },
     "metadata": {},
     "output_type": "display_data"
    }
   ],
   "source": [
    "# Definir las etiquetas para las columnas y filas\n",
    "labels = [\n",
    "'A/baikal teal/Xianghai/421/2011(H9N2)',\n",
    "'A/brambling/Beijing/16/2012(H9N2)',\n",
    "'A/chicken/Zhejiang/329/2011(H9N2)',\n",
    "'A/duck/Wuxi/7/2010(H9N2)',\n",
    "'A/quail/Lebanon/273/2010(H9N2)',\n",
    "'A/quail/Wuxi/7/2010(H9N2)',\n",
    "'A/Shanghai/02/2013(H7N9)',\n",
    "'A/wild bird/Korea/A14/2011(H7N9)',\n",
    "'A/duck/Zhejiang/10/2011(H7N3)',\n",
    "'A/duck/Zhejiang/2/2011(H7N3)'\n",
    "]\n",
    "\n",
    "# Crear la figura del mapa de calor\n",
    "fig, ax = plot.subplots(1, 1, figsize=(10, 8))\n",
    "im = ax.imshow(sG3, cmap='hot')\n",
    "ax.set_title('Segmento 7 matriz proteina 1 y 2')\n",
    "ax.set_xticks(np.arange(len(labels)))\n",
    "ax.set_yticks(np.arange(len(labels)))\n",
    "ax.set_xticklabels(labels, rotation=45, ha='right')\n",
    "ax.set_yticklabels(labels)\n",
    "cbar = fig.colorbar(im, ax=ax)\n",
    "plot.tight_layout()\n",
    "plot.show()"
   ]
  },
  {
   "cell_type": "code",
   "execution_count": 6,
   "id": "7205e344",
   "metadata": {},
   "outputs": [
    {
     "name": "stdout",
     "output_type": "stream",
     "text": [
      "#####################################################################\n",
      "RipsComplex creation from defined distance matrix G3\n"
     ]
    }
   ],
   "source": [
    "max_edge_length = 2300\n",
    "max_dimension = 5\n",
    "band = 0.0\n",
    "\n",
    "print(\"#####################################################################\")\n",
    "print(\"RipsComplex creation from defined distance matrix G3\")"
   ]
  },
  {
   "cell_type": "code",
   "execution_count": 7,
   "id": "cc6bf709",
   "metadata": {},
   "outputs": [
    {
     "name": "stdout",
     "output_type": "stream",
     "text": [
      "Number of simplices=847\n",
      "betti_numbers()=\n",
      "[1, 0, 0, 0, 0]\n"
     ]
    }
   ],
   "source": [
    "# Crear el complejo de Rips\n",
    "rips_complex = gudhi.RipsComplex(distance_matrix=sG3, max_edge_length=max_edge_length)\n",
    "\n",
    "# Crear el árbol de simplex\n",
    "simplex_tree = rips_complex.create_simplex_tree(max_dimension=max_dimension)\n",
    "\n",
    "message = \"Number of simplices=\" + repr(simplex_tree.num_simplices()) \n",
    "print(message)\n",
    "\n",
    "# Calcular la persistencia\n",
    "diag = simplex_tree.persistence()\n",
    "\n",
    "print(\"betti_numbers()=\")\n",
    "print(simplex_tree.betti_numbers())"
   ]
  },
  {
   "cell_type": "code",
   "execution_count": 8,
   "id": "aab5928e",
   "metadata": {},
   "outputs": [
    {
     "name": "stderr",
     "output_type": "stream",
     "text": [
      "usetex mode requires dvipng.\n"
     ]
    },
    {
     "data": {
      "image/png": "[encoded data removed]",
      "text/plain": [
       "<Figure size 640x480 with 1 Axes>"
      ]
     },
     "metadata": {},
     "output_type": "display_data"
    }
   ],
   "source": [
    "gudhi.plot_persistence_diagram(diag, band=band)\n",
    "plot.title(\"Segmento 7\") \n",
    "plot.show()"
   ]
  },
  {
   "cell_type": "code",
   "execution_count": 9,
   "id": "784c6cfa",
   "metadata": {},
   "outputs": [
    {
     "data": {
      "image/png": "[encoded data removed]",
      "text/plain": [
       "<Figure size 640x480 with 1 Axes>"
      ]
     },
     "metadata": {},
     "output_type": "display_data"
    }
   ],
   "source": [
    "gudhi.plot_persistence_barcode(diag)\n",
    "plot.show()"
   ]
  },
  {
   "cell_type": "code",
   "execution_count": 11,
   "id": "f12e9c7a",
   "metadata": {},
   "outputs": [
    {
     "name": "stdout",
     "output_type": "stream",
     "text": [
      "Visualizing 3D simplicial complex at filtration time 150\n",
      "Número de secuencias para la prueba:\n",
      "H9N2 = 6 (blue)\n",
      "H7N9 = 2 (orange)\n",
      "H7N3 = 2 (green)\n"
     ]
    },
    {
     "data": {
      "application/vnd.plotly.v1+json": {
       "config": {
        "plotlyServerURL": "https://plot.ly"
       },
       "data": [
        {
         "hoverinfo": "text",
         "marker": {
          "color": [
           "blue",
           "blue",
           "blue",
           "blue",
           "blue",
           "blue",
           "orange",
           "orange",
           "green",
           "green"
          ],
          "size": 5
         },
         "mode": "markers+text",
         "text": [
          "A/baikal teal/Xianghai/421/2011(H9N2)",
          "A/brambling/Beijing/16/2012(H9N2)",
          "A/chicken/Zhejiang/329/2011(H9N2)",
          "A/duck/Wuxi/7/2010(H9N2)",
          "A/quail/Lebanon/273/2010(H9N2)",
          "A/quail/Wuxi/7/2010(H9N2)",
          "A/Shanghai/02/2013(H7N9)",
          "A/wild bird/Korea/A14/2011(H7N9)",
          "A/duck/Zhejiang/10/2011(H7N3)",
          "A/duck/Zhejiang/2/2011(H7N3)"
         ],
         "textposition": "top center",
         "type": "scatter3d",
         "x": [
          -0.043823193733513524,
          -0.17656148269584776,
          -0.09674445845472306,
          -0.19023781666201903,
          -0.07320727372858139,
          0.14284101001118107,
          -0.23049474556911442,
          0.041939625346425875,
          0.31697125173679586,
          0.3093170837493962
         ],
         "y": [
          -0.9123168731149954,
          0.9457626721521086,
          0.7932432624242526,
          0.835782172994914,
          0.8859115784209893,
          -0.8332433566549816,
          0.8080841323800659,
          -1,
          -0.7584601430495359,
          -0.7647634455528178
         ],
         "z": [
          -0.33804768488582704,
          0.39842732885644605,
          0.4095546527567245,
          0.26625219046695536,
          0.31324405750244444,
          -0.3475308127732728,
          0.3927724065154841,
          -0.41919336276483976,
          -0.41209843188194034,
          -0.26338034379217407
         ]
        },
        {
         "hoverinfo": "none",
         "line": {
          "color": [
           "black",
           "black",
           "black",
           "black",
           "black",
           "black",
           "black",
           "black",
           "black",
           "black",
           "black",
           "black",
           "black",
           "black",
           "black",
           "black",
           "black",
           "black",
           "black",
           "black",
           "black",
           "black",
           "black",
           "black",
           "black",
           "black",
           "black",
           "black",
           "black",
           "black",
           "black",
           "black",
           "black",
           "black",
           "black",
           "black",
           "black",
           "black",
           "black",
           "black",
           "black",
           "black",
           "black",
           "black",
           "black",
           "black",
           "black",
           "black"
          ],
          "width": 2
         },
         "mode": "lines",
         "type": "scatter3d",
         "x": [
          -0.043823193733513524,
          0.14284101001118107,
          null,
          -0.043823193733513524,
          0.041939625346425875,
          null,
          -0.17656148269584776,
          -0.09674445845472306,
          null,
          -0.17656148269584776,
          -0.07320727372858139,
          null,
          -0.17656148269584776,
          -0.23049474556911442,
          null,
          -0.17656148269584776,
          -0.19023781666201903,
          null,
          -0.09674445845472306,
          -0.23049474556911442,
          null,
          -0.09674445845472306,
          -0.07320727372858139,
          null,
          -0.09674445845472306,
          -0.19023781666201903,
          null,
          -0.19023781666201903,
          -0.07320727372858139,
          null,
          -0.19023781666201903,
          -0.23049474556911442,
          null,
          -0.07320727372858139,
          -0.23049474556911442,
          null,
          0.14284101001118107,
          0.041939625346425875,
          null,
          0.14284101001118107,
          0.31697125173679586,
          null,
          0.14284101001118107,
          0.3093170837493962,
          null,
          0.31697125173679586,
          0.3093170837493962,
          null
         ],
         "y": [
          -0.9123168731149954,
          -0.8332433566549816,
          null,
          -0.9123168731149954,
          -1,
          null,
          0.9457626721521086,
          0.7932432624242526,
          null,
          0.9457626721521086,
          0.8859115784209893,
          null,
          0.9457626721521086,
          0.8080841323800659,
          null,
          0.9457626721521086,
          0.835782172994914,
          null,
          0.7932432624242526,
          0.8080841323800659,
          null,
          0.7932432624242526,
          0.8859115784209893,
          null,
          0.7932432624242526,
          0.835782172994914,
          null,
          0.835782172994914,
          0.8859115784209893,
          null,
          0.835782172994914,
          0.8080841323800659,
          null,
          0.8859115784209893,
          0.8080841323800659,
          null,
          -0.8332433566549816,
          -1,
          null,
          -0.8332433566549816,
          -0.7584601430495359,
          null,
          -0.8332433566549816,
          -0.7647634455528178,
          null,
          -0.7584601430495359,
          -0.7647634455528178,
          null
         ],
         "z": [
          -0.33804768488582704,
          -0.3475308127732728,
          null,
          -0.33804768488582704,
          -0.41919336276483976,
          null,
          0.39842732885644605,
          0.4095546527567245,
          null,
          0.39842732885644605,
          0.31324405750244444,
          null,
          0.39842732885644605,
          0.3927724065154841,
          null,
          0.39842732885644605,
          0.26625219046695536,
          null,
          0.4095546527567245,
          0.3927724065154841,
          null,
          0.4095546527567245,
          0.31324405750244444,
          null,
          0.4095546527567245,
          0.26625219046695536,
          null,
          0.26625219046695536,
          0.31324405750244444,
          null,
          0.26625219046695536,
          0.3927724065154841,
          null,
          0.31324405750244444,
          0.3927724065154841,
          null,
          -0.3475308127732728,
          -0.41919336276483976,
          null,
          -0.3475308127732728,
          -0.41209843188194034,
          null,
          -0.3475308127732728,
          -0.26338034379217407,
          null,
          -0.41209843188194034,
          -0.26338034379217407,
          null
         ]
        },
        {
         "color": "red",
         "opacity": 0.3,
         "type": "mesh3d",
         "x": [
          -0.17656148269584776,
          -0.09674445845472306,
          -0.07320727372858139
         ],
         "y": [
          0.9457626721521086,
          0.7932432624242526,
          0.8859115784209893
         ],
         "z": [
          0.39842732885644605,
          0.4095546527567245,
          0.31324405750244444
         ]
        },
        {
         "color": "red",
         "opacity": 0.3,
         "type": "mesh3d",
         "x": [
          -0.09674445845472306,
          -0.19023781666201903,
          -0.07320727372858139
         ],
         "y": [
          0.7932432624242526,
          0.835782172994914,
          0.8859115784209893
         ],
         "z": [
          0.4095546527567245,
          0.26625219046695536,
          0.31324405750244444
         ]
        },
        {
         "color": "red",
         "opacity": 0.3,
         "type": "mesh3d",
         "x": [
          -0.17656148269584776,
          -0.09674445845472306,
          -0.23049474556911442
         ],
         "y": [
          0.9457626721521086,
          0.7932432624242526,
          0.8080841323800659
         ],
         "z": [
          0.39842732885644605,
          0.4095546527567245,
          0.3927724065154841
         ]
        },
        {
         "color": "red",
         "opacity": 0.3,
         "type": "mesh3d",
         "x": [
          -0.17656148269584776,
          -0.09674445845472306,
          -0.19023781666201903
         ],
         "y": [
          0.9457626721521086,
          0.7932432624242526,
          0.835782172994914
         ],
         "z": [
          0.39842732885644605,
          0.4095546527567245,
          0.26625219046695536
         ]
        },
        {
         "color": "red",
         "opacity": 0.3,
         "type": "mesh3d",
         "x": [
          -0.17656148269584776,
          -0.19023781666201903,
          -0.07320727372858139
         ],
         "y": [
          0.9457626721521086,
          0.835782172994914,
          0.8859115784209893
         ],
         "z": [
          0.39842732885644605,
          0.26625219046695536,
          0.31324405750244444
         ]
        },
        {
         "color": "red",
         "opacity": 0.3,
         "type": "mesh3d",
         "x": [
          -0.043823193733513524,
          0.14284101001118107,
          0.041939625346425875
         ],
         "y": [
          -0.9123168731149954,
          -0.8332433566549816,
          -1
         ],
         "z": [
          -0.33804768488582704,
          -0.3475308127732728,
          -0.41919336276483976
         ]
        },
        {
         "color": "red",
         "opacity": 0.3,
         "type": "mesh3d",
         "x": [
          -0.17656148269584776,
          -0.07320727372858139,
          -0.23049474556911442
         ],
         "y": [
          0.9457626721521086,
          0.8859115784209893,
          0.8080841323800659
         ],
         "z": [
          0.39842732885644605,
          0.31324405750244444,
          0.3927724065154841
         ]
        },
        {
         "color": "red",
         "opacity": 0.3,
         "type": "mesh3d",
         "x": [
          -0.09674445845472306,
          -0.07320727372858139,
          -0.23049474556911442
         ],
         "y": [
          0.7932432624242526,
          0.8859115784209893,
          0.8080841323800659
         ],
         "z": [
          0.4095546527567245,
          0.31324405750244444,
          0.3927724065154841
         ]
        },
        {
         "color": "red",
         "opacity": 0.3,
         "type": "mesh3d",
         "x": [
          -0.17656148269584776,
          -0.19023781666201903,
          -0.23049474556911442
         ],
         "y": [
          0.9457626721521086,
          0.835782172994914,
          0.8080841323800659
         ],
         "z": [
          0.39842732885644605,
          0.26625219046695536,
          0.3927724065154841
         ]
        },
        {
         "color": "red",
         "opacity": 0.3,
         "type": "mesh3d",
         "x": [
          -0.09674445845472306,
          -0.19023781666201903,
          -0.23049474556911442
         ],
         "y": [
          0.7932432624242526,
          0.835782172994914,
          0.8080841323800659
         ],
         "z": [
          0.4095546527567245,
          0.26625219046695536,
          0.3927724065154841
         ]
        },
        {
         "color": "red",
         "opacity": 0.3,
         "type": "mesh3d",
         "x": [
          -0.19023781666201903,
          -0.07320727372858139,
          -0.23049474556911442
         ],
         "y": [
          0.835782172994914,
          0.8859115784209893,
          0.8080841323800659
         ],
         "z": [
          0.26625219046695536,
          0.31324405750244444,
          0.3927724065154841
         ]
        },
        {
         "color": "red",
         "opacity": 0.3,
         "type": "mesh3d",
         "x": [
          0.14284101001118107,
          0.31697125173679586,
          0.3093170837493962
         ],
         "y": [
          -0.8332433566549816,
          -0.7584601430495359,
          -0.7647634455528178
         ],
         "z": [
          -0.3475308127732728,
          -0.41209843188194034,
          -0.26338034379217407
         ]
        },
        {
         "color": "green",
         "opacity": 0.1,
         "type": "mesh3d",
         "x": [
          -0.17656148269584776,
          -0.09674445845472306,
          -0.19023781666201903,
          -0.07320727372858139
         ],
         "y": [
          0.9457626721521086,
          0.7932432624242526,
          0.835782172994914,
          0.8859115784209893
         ],
         "z": [
          0.39842732885644605,
          0.4095546527567245,
          0.26625219046695536,
          0.31324405750244444
         ]
        },
        {
         "color": "green",
         "opacity": 0.1,
         "type": "mesh3d",
         "x": [
          -0.17656148269584776,
          -0.09674445845472306,
          -0.07320727372858139,
          -0.23049474556911442
         ],
         "y": [
          0.9457626721521086,
          0.7932432624242526,
          0.8859115784209893,
          0.8080841323800659
         ],
         "z": [
          0.39842732885644605,
          0.4095546527567245,
          0.31324405750244444,
          0.3927724065154841
         ]
        },
        {
         "color": "green",
         "opacity": 0.1,
         "type": "mesh3d",
         "x": [
          -0.17656148269584776,
          -0.09674445845472306,
          -0.19023781666201903,
          -0.23049474556911442
         ],
         "y": [
          0.9457626721521086,
          0.7932432624242526,
          0.835782172994914,
          0.8080841323800659
         ],
         "z": [
          0.39842732885644605,
          0.4095546527567245,
          0.26625219046695536,
          0.3927724065154841
         ]
        },
        {
         "color": "green",
         "opacity": 0.1,
         "type": "mesh3d",
         "x": [
          -0.17656148269584776,
          -0.19023781666201903,
          -0.07320727372858139,
          -0.23049474556911442
         ],
         "y": [
          0.9457626721521086,
          0.835782172994914,
          0.8859115784209893,
          0.8080841323800659
         ],
         "z": [
          0.39842732885644605,
          0.26625219046695536,
          0.31324405750244444,
          0.3927724065154841
         ]
        },
        {
         "color": "green",
         "opacity": 0.1,
         "type": "mesh3d",
         "x": [
          -0.09674445845472306,
          -0.19023781666201903,
          -0.07320727372858139,
          -0.23049474556911442
         ],
         "y": [
          0.7932432624242526,
          0.835782172994914,
          0.8859115784209893,
          0.8080841323800659
         ],
         "z": [
          0.4095546527567245,
          0.26625219046695536,
          0.31324405750244444,
          0.3927724065154841
         ]
        }
       ],
       "layout": {
        "height": 1000,
        "margin": {
         "b": 0,
         "l": 0,
         "r": 0,
         "t": 0
        },
        "scene": {
         "xaxis": {
          "visible": false
         },
         "yaxis": {
          "visible": false
         },
         "zaxis": {
          "visible": false
         }
        },
        "showlegend": false,
        "template": {
         "data": {
          "bar": [
           {
            "error_x": {
             "color": "#2a3f5f"
            },
            "error_y": {
             "color": "#2a3f5f"
            },
            "marker": {
             "line": {
              "color": "#E5ECF6",
              "width": 0.5
             },
             "pattern": {
              "fillmode": "overlay",
              "size": 10,
              "solidity": 0.2
             }
            },
            "type": "bar"
           }
          ],
          "barpolar": [
           {
            "marker": {
             "line": {
              "color": "#E5ECF6",
              "width": 0.5
             },
             "pattern": {
              "fillmode": "overlay",
              "size": 10,
              "solidity": 0.2
             }
            },
            "type": "barpolar"
           }
          ],
          "carpet": [
           {
            "aaxis": {
             "endlinecolor": "#2a3f5f",
             "gridcolor": "white",
             "linecolor": "white",
             "minorgridcolor": "white",
             "startlinecolor": "#2a3f5f"
            },
            "baxis": {
             "endlinecolor": "#2a3f5f",
             "gridcolor": "white",
             "linecolor": "white",
             "minorgridcolor": "white",
             "startlinecolor": "#2a3f5f"
            },
            "type": "carpet"
           }
          ],
          "choropleth": [
           {
            "colorbar": {
             "outlinewidth": 0,
             "ticks": ""
            },
            "type": "choropleth"
           }
          ],
          "contour": [
           {
            "colorbar": {
             "outlinewidth": 0,
             "ticks": ""
            },
            "colorscale": [
             [
              0,
              "#0d0887"
             ],
             [
              0.1111111111111111,
              "#46039f"
             ],
             [
              0.2222222222222222,
              "#7201a8"
             ],
             [
              0.3333333333333333,
              "#9c179e"
             ],
             [
              0.4444444444444444,
              "#bd3786"
             ],
             [
              0.5555555555555556,
              "#d8576b"
             ],
             [
              0.6666666666666666,
              "#ed7953"
             ],
             [
              0.7777777777777778,
              "#fb9f3a"
             ],
             [
              0.8888888888888888,
              "#fdca26"
             ],
             [
              1,
              "#f0f921"
             ]
            ],
            "type": "contour"
           }
          ],
          "contourcarpet": [
           {
            "colorbar": {
             "outlinewidth": 0,
             "ticks": ""
            },
            "type": "contourcarpet"
           }
          ],
          "heatmap": [
           {
            "colorbar": {
             "outlinewidth": 0,
             "ticks": ""
            },
            "colorscale": [
             [
              0,
              "#0d0887"
             ],
             [
              0.1111111111111111,
              "#46039f"
             ],
             [
              0.2222222222222222,
              "#7201a8"
             ],
             [
              0.3333333333333333,
              "#9c179e"
             ],
             [
              0.4444444444444444,
              "#bd3786"
             ],
             [
              0.5555555555555556,
              "#d8576b"
             ],
             [
              0.6666666666666666,
              "#ed7953"
             ],
             [
              0.7777777777777778,
              "#fb9f3a"
             ],
             [
              0.8888888888888888,
              "#fdca26"
             ],
             [
              1,
              "#f0f921"
             ]
            ],
            "type": "heatmap"
           }
          ],
          "heatmapgl": [
           {
            "colorbar": {
             "outlinewidth": 0,
             "ticks": ""
            },
            "colorscale": [
             [
              0,
              "#0d0887"
             ],
             [
              0.1111111111111111,
              "#46039f"
             ],
             [
              0.2222222222222222,
              "#7201a8"
             ],
             [
              0.3333333333333333,
              "#9c179e"
             ],
             [
              0.4444444444444444,
              "#bd3786"
             ],
             [
              0.5555555555555556,
              "#d8576b"
             ],
             [
              0.6666666666666666,
              "#ed7953"
             ],
             [
              0.7777777777777778,
              "#fb9f3a"
             ],
             [
              0.8888888888888888,
              "#fdca26"
             ],
             [
              1,
              "#f0f921"
             ]
            ],
            "type": "heatmapgl"
           }
          ],
          "histogram": [
           {
            "marker": {
             "pattern": {
              "fillmode": "overlay",
              "size": 10,
              "solidity": 0.2
             }
            },
            "type": "histogram"
           }
          ],
          "histogram2d": [
           {
            "colorbar": {
             "outlinewidth": 0,
             "ticks": ""
            },
            "colorscale": [
             [
              0,
              "#0d0887"
             ],
             [
              0.1111111111111111,
              "#46039f"
             ],
             [
              0.2222222222222222,
              "#7201a8"
             ],
             [
              0.3333333333333333,
              "#9c179e"
             ],
             [
              0.4444444444444444,
              "#bd3786"
             ],
             [
              0.5555555555555556,
              "#d8576b"
             ],
             [
              0.6666666666666666,
              "#ed7953"
             ],
             [
              0.7777777777777778,
              "#fb9f3a"
             ],
             [
              0.8888888888888888,
              "#fdca26"
             ],
             [
              1,
              "#f0f921"
             ]
            ],
            "type": "histogram2d"
           }
          ],
          "histogram2dcontour": [
           {
            "colorbar": {
             "outlinewidth": 0,
             "ticks": ""
            },
            "colorscale": [
             [
              0,
              "#0d0887"
             ],
             [
              0.1111111111111111,
              "#46039f"
             ],
             [
              0.2222222222222222,
              "#7201a8"
             ],
             [
              0.3333333333333333,
              "#9c179e"
             ],
             [
              0.4444444444444444,
              "#bd3786"
             ],
             [
              0.5555555555555556,
              "#d8576b"
             ],
             [
              0.6666666666666666,
              "#ed7953"
             ],
             [
              0.7777777777777778,
              "#fb9f3a"
             ],
             [
              0.8888888888888888,
              "#fdca26"
             ],
             [
              1,
              "#f0f921"
             ]
            ],
            "type": "histogram2dcontour"
           }
          ],
          "mesh3d": [
           {
            "colorbar": {
             "outlinewidth": 0,
             "ticks": ""
            },
            "type": "mesh3d"
           }
          ],
          "parcoords": [
           {
            "line": {
             "colorbar": {
              "outlinewidth": 0,
              "ticks": ""
             }
            },
            "type": "parcoords"
           }
          ],
          "pie": [
           {
            "automargin": true,
            "type": "pie"
           }
          ],
          "scatter": [
           {
            "fillpattern": {
             "fillmode": "overlay",
             "size": 10,
             "solidity": 0.2
            },
            "type": "scatter"
           }
          ],
          "scatter3d": [
           {
            "line": {
             "colorbar": {
              "outlinewidth": 0,
              "ticks": ""
             }
            },
            "marker": {
             "colorbar": {
              "outlinewidth": 0,
              "ticks": ""
             }
            },
            "type": "scatter3d"
           }
          ],
          "scattercarpet": [
           {
            "marker": {
             "colorbar": {
              "outlinewidth": 0,
              "ticks": ""
             }
            },
            "type": "scattercarpet"
           }
          ],
          "scattergeo": [
           {
            "marker": {
             "colorbar": {
              "outlinewidth": 0,
              "ticks": ""
             }
            },
            "type": "scattergeo"
           }
          ],
          "scattergl": [
           {
            "marker": {
             "colorbar": {
              "outlinewidth": 0,
              "ticks": ""
             }
            },
            "type": "scattergl"
           }
          ],
          "scattermapbox": [
           {
            "marker": {
             "colorbar": {
              "outlinewidth": 0,
              "ticks": ""
             }
            },
            "type": "scattermapbox"
           }
          ],
          "scatterpolar": [
           {
            "marker": {
             "colorbar": {
              "outlinewidth": 0,
              "ticks": ""
             }
            },
            "type": "scatterpolar"
           }
          ],
          "scatterpolargl": [
           {
            "marker": {
             "colorbar": {
              "outlinewidth": 0,
              "ticks": ""
             }
            },
            "type": "scatterpolargl"
           }
          ],
          "scatterternary": [
           {
            "marker": {
             "colorbar": {
              "outlinewidth": 0,
              "ticks": ""
             }
            },
            "type": "scatterternary"
           }
          ],
          "surface": [
           {
            "colorbar": {
             "outlinewidth": 0,
             "ticks": ""
            },
            "colorscale": [
             [
              0,
              "#0d0887"
             ],
             [
              0.1111111111111111,
              "#46039f"
             ],
             [
              0.2222222222222222,
              "#7201a8"
             ],
             [
              0.3333333333333333,
              "#9c179e"
             ],
             [
              0.4444444444444444,
              "#bd3786"
             ],
             [
              0.5555555555555556,
              "#d8576b"
             ],
             [
              0.6666666666666666,
              "#ed7953"
             ],
             [
              0.7777777777777778,
              "#fb9f3a"
             ],
             [
              0.8888888888888888,
              "#fdca26"
             ],
             [
              1,
              "#f0f921"
             ]
            ],
            "type": "surface"
           }
          ],
          "table": [
           {
            "cells": {
             "fill": {
              "color": "#EBF0F8"
             },
             "line": {
              "color": "white"
             }
            },
            "header": {
             "fill": {
              "color": "#C8D4E3"
             },
             "line": {
              "color": "white"
             }
            },
            "type": "table"
           }
          ]
         },
         "layout": {
          "annotationdefaults": {
           "arrowcolor": "#2a3f5f",
           "arrowhead": 0,
           "arrowwidth": 1
          },
          "autotypenumbers": "strict",
          "coloraxis": {
           "colorbar": {
            "outlinewidth": 0,
            "ticks": ""
           }
          },
          "colorscale": {
           "diverging": [
            [
             0,
             "#8e0152"
            ],
            [
             0.1,
             "#c51b7d"
            ],
            [
             0.2,
             "#de77ae"
            ],
            [
             0.3,
             "#f1b6da"
            ],
            [
             0.4,
             "#fde0ef"
            ],
            [
             0.5,
             "#f7f7f7"
            ],
            [
             0.6,
             "#e6f5d0"
            ],
            [
             0.7,
             "#b8e186"
            ],
            [
             0.8,
             "#7fbc41"
            ],
            [
             0.9,
             "#4d9221"
            ],
            [
             1,
             "#276419"
            ]
           ],
           "sequential": [
            [
             0,
             "#0d0887"
            ],
            [
             0.1111111111111111,
             "#46039f"
            ],
            [
             0.2222222222222222,
             "#7201a8"
            ],
            [
             0.3333333333333333,
             "#9c179e"
            ],
            [
             0.4444444444444444,
             "#bd3786"
            ],
            [
             0.5555555555555556,
             "#d8576b"
            ],
            [
             0.6666666666666666,
             "#ed7953"
            ],
            [
             0.7777777777777778,
             "#fb9f3a"
            ],
            [
             0.8888888888888888,
             "#fdca26"
            ],
            [
             1,
             "#f0f921"
            ]
           ],
           "sequentialminus": [
            [
             0,
             "#0d0887"
            ],
            [
             0.1111111111111111,
             "#46039f"
            ],
            [
             0.2222222222222222,
             "#7201a8"
            ],
            [
             0.3333333333333333,
             "#9c179e"
            ],
            [
             0.4444444444444444,
             "#bd3786"
            ],
            [
             0.5555555555555556,
             "#d8576b"
            ],
            [
             0.6666666666666666,
             "#ed7953"
            ],
            [
             0.7777777777777778,
             "#fb9f3a"
            ],
            [
             0.8888888888888888,
             "#fdca26"
            ],
            [
             1,
             "#f0f921"
            ]
           ]
          },
          "colorway": [
           "#636efa",
           "#EF553B",
           "#00cc96",
           "#ab63fa",
           "#FFA15A",
           "#19d3f3",
           "#FF6692",
           "#B6E880",
           "#FF97FF",
           "#FECB52"
          ],
          "font": {
           "color": "#2a3f5f"
          },
          "geo": {
           "bgcolor": "white",
           "lakecolor": "white",
           "landcolor": "#E5ECF6",
           "showlakes": true,
           "showland": true,
           "subunitcolor": "white"
          },
          "hoverlabel": {
           "align": "left"
          },
          "hovermode": "closest",
          "mapbox": {
           "style": "light"
          },
          "paper_bgcolor": "white",
          "plot_bgcolor": "#E5ECF6",
          "polar": {
           "angularaxis": {
            "gridcolor": "white",
            "linecolor": "white",
            "ticks": ""
           },
           "bgcolor": "#E5ECF6",
           "radialaxis": {
            "gridcolor": "white",
            "linecolor": "white",
            "ticks": ""
           }
          },
          "scene": {
           "xaxis": {
            "backgroundcolor": "#E5ECF6",
            "gridcolor": "white",
            "gridwidth": 2,
            "linecolor": "white",
            "showbackground": true,
            "ticks": "",
            "zerolinecolor": "white"
           },
           "yaxis": {
            "backgroundcolor": "#E5ECF6",
            "gridcolor": "white",
            "gridwidth": 2,
            "linecolor": "white",
            "showbackground": true,
            "ticks": "",
            "zerolinecolor": "white"
           },
           "zaxis": {
            "backgroundcolor": "#E5ECF6",
            "gridcolor": "white",
            "gridwidth": 2,
            "linecolor": "white",
            "showbackground": true,
            "ticks": "",
            "zerolinecolor": "white"
           }
          },
          "shapedefaults": {
           "line": {
            "color": "#2a3f5f"
           }
          },
          "ternary": {
           "aaxis": {
            "gridcolor": "white",
            "linecolor": "white",
            "ticks": ""
           },
           "baxis": {
            "gridcolor": "white",
            "linecolor": "white",
            "ticks": ""
           },
           "bgcolor": "#E5ECF6",
           "caxis": {
            "gridcolor": "white",
            "linecolor": "white",
            "ticks": ""
           }
          },
          "title": {
           "x": 0.05
          },
          "xaxis": {
           "automargin": true,
           "gridcolor": "white",
           "linecolor": "white",
           "ticks": "",
           "title": {
            "standoff": 15
           },
           "zerolinecolor": "white",
           "zerolinewidth": 2
          },
          "yaxis": {
           "automargin": true,
           "gridcolor": "white",
           "linecolor": "white",
           "ticks": "",
           "title": {
            "standoff": 15
           },
           "zerolinecolor": "white",
           "zerolinewidth": 2
          }
         }
        },
        "width": 1000
       }
      },
      "text/html": [
       "<div>                            <div id=\"177a8f96-d2f4-4009-9324-6e495fbe996f\" class=\"plotly-graph-div\" style=\"height:1000px; width:1000px;\"></div>            <script type=\"text/javascript\">                require([\"plotly\"], function(Plotly) {                    window.PLOTLYENV=window.PLOTLYENV || {};                                    if (document.getElementById(\"177a8f96-d2f4-4009-9324-6e495fbe996f\")) {                    Plotly.newPlot(                        \"177a8f96-d2f4-4009-9324-6e495fbe996f\",                        [{\"hoverinfo\":\"text\",\"marker\":{\"color\":[\"blue\",\"blue\",\"blue\",\"blue\",\"blue\",\"blue\",\"orange\",\"orange\",\"green\",\"green\"],\"size\":5},\"mode\":\"markers+text\",\"text\":[\"A\\u002fbaikal teal\\u002fXianghai\\u002f421\\u002f2011(H9N2)\",\"A\\u002fbrambling\\u002fBeijing\\u002f16\\u002f2012(H9N2)\",\"A\\u002fchicken\\u002fZhejiang\\u002f329\\u002f2011(H9N2)\",\"A\\u002fduck\\u002fWuxi\\u002f7\\u002f2010(H9N2)\",\"A\\u002fquail\\u002fLebanon\\u002f273\\u002f2010(H9N2)\",\"A\\u002fquail\\u002fWuxi\\u002f7\\u002f2010(H9N2)\",\"A\\u002fShanghai\\u002f02\\u002f2013(H7N9)\",\"A\\u002fwild bird\\u002fKorea\\u002fA14\\u002f2011(H7N9)\",\"A\\u002fduck\\u002fZhejiang\\u002f10\\u002f2011(H7N3)\",\"A\\u002fduck\\u002fZhejiang\\u002f2\\u002f2011(H7N3)\"],\"textposition\":\"top center\",\"x\":[-0.043823193733513524,-0.17656148269584776,-0.09674445845472306,-0.19023781666201903,-0.07320727372858139,0.14284101001118107,-0.23049474556911442,0.041939625346425875,0.31697125173679586,0.3093170837493962],\"y\":[-0.9123168731149954,0.9457626721521086,0.7932432624242526,0.835782172994914,0.8859115784209893,-0.8332433566549816,0.8080841323800659,-1.0,-0.7584601430495359,-0.7647634455528178],\"z\":[-0.33804768488582704,0.39842732885644605,0.4095546527567245,0.26625219046695536,0.31324405750244444,-0.3475308127732728,0.3927724065154841,-0.41919336276483976,-0.41209843188194034,-0.26338034379217407],\"type\":\"scatter3d\"},{\"hoverinfo\":\"none\",\"line\":{\"color\":[\"black\",\"black\",\"black\",\"black\",\"black\",\"black\",\"black\",\"black\",\"black\",\"black\",\"black\",\"black\",\"black\",\"black\",\"black\",\"black\",\"black\",\"black\",\"black\",\"black\",\"black\",\"black\",\"black\",\"black\",\"black\",\"black\",\"black\",\"black\",\"black\",\"black\",\"black\",\"black\",\"black\",\"black\",\"black\",\"black\",\"black\",\"black\",\"black\",\"black\",\"black\",\"black\",\"black\",\"black\",\"black\",\"black\",\"black\",\"black\"],\"width\":2},\"mode\":\"lines\",\"x\":[-0.043823193733513524,0.14284101001118107,null,-0.043823193733513524,0.041939625346425875,null,-0.17656148269584776,-0.09674445845472306,null,-0.17656148269584776,-0.07320727372858139,null,-0.17656148269584776,-0.23049474556911442,null,-0.17656148269584776,-0.19023781666201903,null,-0.09674445845472306,-0.23049474556911442,null,-0.09674445845472306,-0.07320727372858139,null,-0.09674445845472306,-0.19023781666201903,null,-0.19023781666201903,-0.07320727372858139,null,-0.19023781666201903,-0.23049474556911442,null,-0.07320727372858139,-0.23049474556911442,null,0.14284101001118107,0.041939625346425875,null,0.14284101001118107,0.31697125173679586,null,0.14284101001118107,0.3093170837493962,null,0.31697125173679586,0.3093170837493962,null],\"y\":[-0.9123168731149954,-0.8332433566549816,null,-0.9123168731149954,-1.0,null,0.9457626721521086,0.7932432624242526,null,0.9457626721521086,0.8859115784209893,null,0.9457626721521086,0.8080841323800659,null,0.9457626721521086,0.835782172994914,null,0.7932432624242526,0.8080841323800659,null,0.7932432624242526,0.8859115784209893,null,0.7932432624242526,0.835782172994914,null,0.835782172994914,0.8859115784209893,null,0.835782172994914,0.8080841323800659,null,0.8859115784209893,0.8080841323800659,null,-0.8332433566549816,-1.0,null,-0.8332433566549816,-0.7584601430495359,null,-0.8332433566549816,-0.7647634455528178,null,-0.7584601430495359,-0.7647634455528178,null],\"z\":[-0.33804768488582704,-0.3475308127732728,null,-0.33804768488582704,-0.41919336276483976,null,0.39842732885644605,0.4095546527567245,null,0.39842732885644605,0.31324405750244444,null,0.39842732885644605,0.3927724065154841,null,0.39842732885644605,0.26625219046695536,null,0.4095546527567245,0.3927724065154841,null,0.4095546527567245,0.31324405750244444,null,0.4095546527567245,0.26625219046695536,null,0.26625219046695536,0.31324405750244444,null,0.26625219046695536,0.3927724065154841,null,0.31324405750244444,0.3927724065154841,null,-0.3475308127732728,-0.41919336276483976,null,-0.3475308127732728,-0.41209843188194034,null,-0.3475308127732728,-0.26338034379217407,null,-0.41209843188194034,-0.26338034379217407,null],\"type\":\"scatter3d\"},{\"color\":\"red\",\"opacity\":0.3,\"x\":[-0.17656148269584776,-0.09674445845472306,-0.07320727372858139],\"y\":[0.9457626721521086,0.7932432624242526,0.8859115784209893],\"z\":[0.39842732885644605,0.4095546527567245,0.31324405750244444],\"type\":\"mesh3d\"},{\"color\":\"red\",\"opacity\":0.3,\"x\":[-0.09674445845472306,-0.19023781666201903,-0.07320727372858139],\"y\":[0.7932432624242526,0.835782172994914,0.8859115784209893],\"z\":[0.4095546527567245,0.26625219046695536,0.31324405750244444],\"type\":\"mesh3d\"},{\"color\":\"red\",\"opacity\":0.3,\"x\":[-0.17656148269584776,-0.09674445845472306,-0.23049474556911442],\"y\":[0.9457626721521086,0.7932432624242526,0.8080841323800659],\"z\":[0.39842732885644605,0.4095546527567245,0.3927724065154841],\"type\":\"mesh3d\"},{\"color\":\"red\",\"opacity\":0.3,\"x\":[-0.17656148269584776,-0.09674445845472306,-0.19023781666201903],\"y\":[0.9457626721521086,0.7932432624242526,0.835782172994914],\"z\":[0.39842732885644605,0.4095546527567245,0.26625219046695536],\"type\":\"mesh3d\"},{\"color\":\"red\",\"opacity\":0.3,\"x\":[-0.17656148269584776,-0.19023781666201903,-0.07320727372858139],\"y\":[0.9457626721521086,0.835782172994914,0.8859115784209893],\"z\":[0.39842732885644605,0.26625219046695536,0.31324405750244444],\"type\":\"mesh3d\"},{\"color\":\"red\",\"opacity\":0.3,\"x\":[-0.043823193733513524,0.14284101001118107,0.041939625346425875],\"y\":[-0.9123168731149954,-0.8332433566549816,-1.0],\"z\":[-0.33804768488582704,-0.3475308127732728,-0.41919336276483976],\"type\":\"mesh3d\"},{\"color\":\"red\",\"opacity\":0.3,\"x\":[-0.17656148269584776,-0.07320727372858139,-0.23049474556911442],\"y\":[0.9457626721521086,0.8859115784209893,0.8080841323800659],\"z\":[0.39842732885644605,0.31324405750244444,0.3927724065154841],\"type\":\"mesh3d\"},{\"color\":\"red\",\"opacity\":0.3,\"x\":[-0.09674445845472306,-0.07320727372858139,-0.23049474556911442],\"y\":[0.7932432624242526,0.8859115784209893,0.8080841323800659],\"z\":[0.4095546527567245,0.31324405750244444,0.3927724065154841],\"type\":\"mesh3d\"},{\"color\":\"red\",\"opacity\":0.3,\"x\":[-0.17656148269584776,-0.19023781666201903,-0.23049474556911442],\"y\":[0.9457626721521086,0.835782172994914,0.8080841323800659],\"z\":[0.39842732885644605,0.26625219046695536,0.3927724065154841],\"type\":\"mesh3d\"},{\"color\":\"red\",\"opacity\":0.3,\"x\":[-0.09674445845472306,-0.19023781666201903,-0.23049474556911442],\"y\":[0.7932432624242526,0.835782172994914,0.8080841323800659],\"z\":[0.4095546527567245,0.26625219046695536,0.3927724065154841],\"type\":\"mesh3d\"},{\"color\":\"red\",\"opacity\":0.3,\"x\":[-0.19023781666201903,-0.07320727372858139,-0.23049474556911442],\"y\":[0.835782172994914,0.8859115784209893,0.8080841323800659],\"z\":[0.26625219046695536,0.31324405750244444,0.3927724065154841],\"type\":\"mesh3d\"},{\"color\":\"red\",\"opacity\":0.3,\"x\":[0.14284101001118107,0.31697125173679586,0.3093170837493962],\"y\":[-0.8332433566549816,-0.7584601430495359,-0.7647634455528178],\"z\":[-0.3475308127732728,-0.41209843188194034,-0.26338034379217407],\"type\":\"mesh3d\"},{\"color\":\"green\",\"opacity\":0.1,\"x\":[-0.17656148269584776,-0.09674445845472306,-0.19023781666201903,-0.07320727372858139],\"y\":[0.9457626721521086,0.7932432624242526,0.835782172994914,0.8859115784209893],\"z\":[0.39842732885644605,0.4095546527567245,0.26625219046695536,0.31324405750244444],\"type\":\"mesh3d\"},{\"color\":\"green\",\"opacity\":0.1,\"x\":[-0.17656148269584776,-0.09674445845472306,-0.07320727372858139,-0.23049474556911442],\"y\":[0.9457626721521086,0.7932432624242526,0.8859115784209893,0.8080841323800659],\"z\":[0.39842732885644605,0.4095546527567245,0.31324405750244444,0.3927724065154841],\"type\":\"mesh3d\"},{\"color\":\"green\",\"opacity\":0.1,\"x\":[-0.17656148269584776,-0.09674445845472306,-0.19023781666201903,-0.23049474556911442],\"y\":[0.9457626721521086,0.7932432624242526,0.835782172994914,0.8080841323800659],\"z\":[0.39842732885644605,0.4095546527567245,0.26625219046695536,0.3927724065154841],\"type\":\"mesh3d\"},{\"color\":\"green\",\"opacity\":0.1,\"x\":[-0.17656148269584776,-0.19023781666201903,-0.07320727372858139,-0.23049474556911442],\"y\":[0.9457626721521086,0.835782172994914,0.8859115784209893,0.8080841323800659],\"z\":[0.39842732885644605,0.26625219046695536,0.31324405750244444,0.3927724065154841],\"type\":\"mesh3d\"},{\"color\":\"green\",\"opacity\":0.1,\"x\":[-0.09674445845472306,-0.19023781666201903,-0.07320727372858139,-0.23049474556911442],\"y\":[0.7932432624242526,0.835782172994914,0.8859115784209893,0.8080841323800659],\"z\":[0.4095546527567245,0.26625219046695536,0.31324405750244444,0.3927724065154841],\"type\":\"mesh3d\"}],                        {\"margin\":{\"b\":0,\"l\":0,\"r\":0,\"t\":0},\"scene\":{\"xaxis\":{\"visible\":false},\"yaxis\":{\"visible\":false},\"zaxis\":{\"visible\":false}},\"showlegend\":false,\"template\":{\"data\":{\"histogram2dcontour\":[{\"type\":\"histogram2dcontour\",\"colorbar\":{\"outlinewidth\":0,\"ticks\":\"\"},\"colorscale\":[[0.0,\"#0d0887\"],[0.1111111111111111,\"#46039f\"],[0.2222222222222222,\"#7201a8\"],[0.3333333333333333,\"#9c179e\"],[0.4444444444444444,\"#bd3786\"],[0.5555555555555556,\"#d8576b\"],[0.6666666666666666,\"#ed7953\"],[0.7777777777777778,\"#fb9f3a\"],[0.8888888888888888,\"#fdca26\"],[1.0,\"#f0f921\"]]}],\"choropleth\":[{\"type\":\"choropleth\",\"colorbar\":{\"outlinewidth\":0,\"ticks\":\"\"}}],\"histogram2d\":[{\"type\":\"histogram2d\",\"colorbar\":{\"outlinewidth\":0,\"ticks\":\"\"},\"colorscale\":[[0.0,\"#0d0887\"],[0.1111111111111111,\"#46039f\"],[0.2222222222222222,\"#7201a8\"],[0.3333333333333333,\"#9c179e\"],[0.4444444444444444,\"#bd3786\"],[0.5555555555555556,\"#d8576b\"],[0.6666666666666666,\"#ed7953\"],[0.7777777777777778,\"#fb9f3a\"],[0.8888888888888888,\"#fdca26\"],[1.0,\"#f0f921\"]]}],\"heatmap\":[{\"type\":\"heatmap\",\"colorbar\":{\"outlinewidth\":0,\"ticks\":\"\"},\"colorscale\":[[0.0,\"#0d0887\"],[0.1111111111111111,\"#46039f\"],[0.2222222222222222,\"#7201a8\"],[0.3333333333333333,\"#9c179e\"],[0.4444444444444444,\"#bd3786\"],[0.5555555555555556,\"#d8576b\"],[0.6666666666666666,\"#ed7953\"],[0.7777777777777778,\"#fb9f3a\"],[0.8888888888888888,\"#fdca26\"],[1.0,\"#f0f921\"]]}],\"heatmapgl\":[{\"type\":\"heatmapgl\",\"colorbar\":{\"outlinewidth\":0,\"ticks\":\"\"},\"colorscale\":[[0.0,\"#0d0887\"],[0.1111111111111111,\"#46039f\"],[0.2222222222222222,\"#7201a8\"],[0.3333333333333333,\"#9c179e\"],[0.4444444444444444,\"#bd3786\"],[0.5555555555555556,\"#d8576b\"],[0.6666666666666666,\"#ed7953\"],[0.7777777777777778,\"#fb9f3a\"],[0.8888888888888888,\"#fdca26\"],[1.0,\"#f0f921\"]]}],\"contourcarpet\":[{\"type\":\"contourcarpet\",\"colorbar\":{\"outlinewidth\":0,\"ticks\":\"\"}}],\"contour\":[{\"type\":\"contour\",\"colorbar\":{\"outlinewidth\":0,\"ticks\":\"\"},\"colorscale\":[[0.0,\"#0d0887\"],[0.1111111111111111,\"#46039f\"],[0.2222222222222222,\"#7201a8\"],[0.3333333333333333,\"#9c179e\"],[0.4444444444444444,\"#bd3786\"],[0.5555555555555556,\"#d8576b\"],[0.6666666666666666,\"#ed7953\"],[0.7777777777777778,\"#fb9f3a\"],[0.8888888888888888,\"#fdca26\"],[1.0,\"#f0f921\"]]}],\"surface\":[{\"type\":\"surface\",\"colorbar\":{\"outlinewidth\":0,\"ticks\":\"\"},\"colorscale\":[[0.0,\"#0d0887\"],[0.1111111111111111,\"#46039f\"],[0.2222222222222222,\"#7201a8\"],[0.3333333333333333,\"#9c179e\"],[0.4444444444444444,\"#bd3786\"],[0.5555555555555556,\"#d8576b\"],[0.6666666666666666,\"#ed7953\"],[0.7777777777777778,\"#fb9f3a\"],[0.8888888888888888,\"#fdca26\"],[1.0,\"#f0f921\"]]}],\"mesh3d\":[{\"type\":\"mesh3d\",\"colorbar\":{\"outlinewidth\":0,\"ticks\":\"\"}}],\"scatter\":[{\"fillpattern\":{\"fillmode\":\"overlay\",\"size\":10,\"solidity\":0.2},\"type\":\"scatter\"}],\"parcoords\":[{\"type\":\"parcoords\",\"line\":{\"colorbar\":{\"outlinewidth\":0,\"ticks\":\"\"}}}],\"scatterpolargl\":[{\"type\":\"scatterpolargl\",\"marker\":{\"colorbar\":{\"outlinewidth\":0,\"ticks\":\"\"}}}],\"bar\":[{\"error_x\":{\"color\":\"#2a3f5f\"},\"error_y\":{\"color\":\"#2a3f5f\"},\"marker\":{\"line\":{\"color\":\"#E5ECF6\",\"width\":0.5},\"pattern\":{\"fillmode\":\"overlay\",\"size\":10,\"solidity\":0.2}},\"type\":\"bar\"}],\"scattergeo\":[{\"type\":\"scattergeo\",\"marker\":{\"colorbar\":{\"outlinewidth\":0,\"ticks\":\"\"}}}],\"scatterpolar\":[{\"type\":\"scatterpolar\",\"marker\":{\"colorbar\":{\"outlinewidth\":0,\"ticks\":\"\"}}}],\"histogram\":[{\"marker\":{\"pattern\":{\"fillmode\":\"overlay\",\"size\":10,\"solidity\":0.2}},\"type\":\"histogram\"}],\"scattergl\":[{\"type\":\"scattergl\",\"marker\":{\"colorbar\":{\"outlinewidth\":0,\"ticks\":\"\"}}}],\"scatter3d\":[{\"type\":\"scatter3d\",\"line\":{\"colorbar\":{\"outlinewidth\":0,\"ticks\":\"\"}},\"marker\":{\"colorbar\":{\"outlinewidth\":0,\"ticks\":\"\"}}}],\"scattermapbox\":[{\"type\":\"scattermapbox\",\"marker\":{\"colorbar\":{\"outlinewidth\":0,\"ticks\":\"\"}}}],\"scatterternary\":[{\"type\":\"scatterternary\",\"marker\":{\"colorbar\":{\"outlinewidth\":0,\"ticks\":\"\"}}}],\"scattercarpet\":[{\"type\":\"scattercarpet\",\"marker\":{\"colorbar\":{\"outlinewidth\":0,\"ticks\":\"\"}}}],\"carpet\":[{\"aaxis\":{\"endlinecolor\":\"#2a3f5f\",\"gridcolor\":\"white\",\"linecolor\":\"white\",\"minorgridcolor\":\"white\",\"startlinecolor\":\"#2a3f5f\"},\"baxis\":{\"endlinecolor\":\"#2a3f5f\",\"gridcolor\":\"white\",\"linecolor\":\"white\",\"minorgridcolor\":\"white\",\"startlinecolor\":\"#2a3f5f\"},\"type\":\"carpet\"}],\"table\":[{\"cells\":{\"fill\":{\"color\":\"#EBF0F8\"},\"line\":{\"color\":\"white\"}},\"header\":{\"fill\":{\"color\":\"#C8D4E3\"},\"line\":{\"color\":\"white\"}},\"type\":\"table\"}],\"barpolar\":[{\"marker\":{\"line\":{\"color\":\"#E5ECF6\",\"width\":0.5},\"pattern\":{\"fillmode\":\"overlay\",\"size\":10,\"solidity\":0.2}},\"type\":\"barpolar\"}],\"pie\":[{\"automargin\":true,\"type\":\"pie\"}]},\"layout\":{\"autotypenumbers\":\"strict\",\"colorway\":[\"#636efa\",\"#EF553B\",\"#00cc96\",\"#ab63fa\",\"#FFA15A\",\"#19d3f3\",\"#FF6692\",\"#B6E880\",\"#FF97FF\",\"#FECB52\"],\"font\":{\"color\":\"#2a3f5f\"},\"hovermode\":\"closest\",\"hoverlabel\":{\"align\":\"left\"},\"paper_bgcolor\":\"white\",\"plot_bgcolor\":\"#E5ECF6\",\"polar\":{\"bgcolor\":\"#E5ECF6\",\"angularaxis\":{\"gridcolor\":\"white\",\"linecolor\":\"white\",\"ticks\":\"\"},\"radialaxis\":{\"gridcolor\":\"white\",\"linecolor\":\"white\",\"ticks\":\"\"}},\"ternary\":{\"bgcolor\":\"#E5ECF6\",\"aaxis\":{\"gridcolor\":\"white\",\"linecolor\":\"white\",\"ticks\":\"\"},\"baxis\":{\"gridcolor\":\"white\",\"linecolor\":\"white\",\"ticks\":\"\"},\"caxis\":{\"gridcolor\":\"white\",\"linecolor\":\"white\",\"ticks\":\"\"}},\"coloraxis\":{\"colorbar\":{\"outlinewidth\":0,\"ticks\":\"\"}},\"colorscale\":{\"sequential\":[[0.0,\"#0d0887\"],[0.1111111111111111,\"#46039f\"],[0.2222222222222222,\"#7201a8\"],[0.3333333333333333,\"#9c179e\"],[0.4444444444444444,\"#bd3786\"],[0.5555555555555556,\"#d8576b\"],[0.6666666666666666,\"#ed7953\"],[0.7777777777777778,\"#fb9f3a\"],[0.8888888888888888,\"#fdca26\"],[1.0,\"#f0f921\"]],\"sequentialminus\":[[0.0,\"#0d0887\"],[0.1111111111111111,\"#46039f\"],[0.2222222222222222,\"#7201a8\"],[0.3333333333333333,\"#9c179e\"],[0.4444444444444444,\"#bd3786\"],[0.5555555555555556,\"#d8576b\"],[0.6666666666666666,\"#ed7953\"],[0.7777777777777778,\"#fb9f3a\"],[0.8888888888888888,\"#fdca26\"],[1.0,\"#f0f921\"]],\"diverging\":[[0,\"#8e0152\"],[0.1,\"#c51b7d\"],[0.2,\"#de77ae\"],[0.3,\"#f1b6da\"],[0.4,\"#fde0ef\"],[0.5,\"#f7f7f7\"],[0.6,\"#e6f5d0\"],[0.7,\"#b8e186\"],[0.8,\"#7fbc41\"],[0.9,\"#4d9221\"],[1,\"#276419\"]]},\"xaxis\":{\"gridcolor\":\"white\",\"linecolor\":\"white\",\"ticks\":\"\",\"title\":{\"standoff\":15},\"zerolinecolor\":\"white\",\"automargin\":true,\"zerolinewidth\":2},\"yaxis\":{\"gridcolor\":\"white\",\"linecolor\":\"white\",\"ticks\":\"\",\"title\":{\"standoff\":15},\"zerolinecolor\":\"white\",\"automargin\":true,\"zerolinewidth\":2},\"scene\":{\"xaxis\":{\"backgroundcolor\":\"#E5ECF6\",\"gridcolor\":\"white\",\"linecolor\":\"white\",\"showbackground\":true,\"ticks\":\"\",\"zerolinecolor\":\"white\",\"gridwidth\":2},\"yaxis\":{\"backgroundcolor\":\"#E5ECF6\",\"gridcolor\":\"white\",\"linecolor\":\"white\",\"showbackground\":true,\"ticks\":\"\",\"zerolinecolor\":\"white\",\"gridwidth\":2},\"zaxis\":{\"backgroundcolor\":\"#E5ECF6\",\"gridcolor\":\"white\",\"linecolor\":\"white\",\"showbackground\":true,\"ticks\":\"\",\"zerolinecolor\":\"white\",\"gridwidth\":2}},\"shapedefaults\":{\"line\":{\"color\":\"#2a3f5f\"}},\"annotationdefaults\":{\"arrowcolor\":\"#2a3f5f\",\"arrowhead\":0,\"arrowwidth\":1},\"geo\":{\"bgcolor\":\"white\",\"landcolor\":\"#E5ECF6\",\"subunitcolor\":\"white\",\"showland\":true,\"showlakes\":true,\"lakecolor\":\"white\"},\"title\":{\"x\":0.05},\"mapbox\":{\"style\":\"light\"}}},\"width\":1000,\"height\":1000},                        {\"responsive\": true}                    ).then(function(){\n",
       "                            \n",
       "var gd = document.getElementById('177a8f96-d2f4-4009-9324-6e495fbe996f');\n",
       "var x = new MutationObserver(function (mutations, observer) {{\n",
       "        var display = window.getComputedStyle(gd).display;\n",
       "        if (!display || display === 'none') {{\n",
       "            console.log([gd, 'removed!']);\n",
       "            Plotly.purge(gd);\n",
       "            observer.disconnect();\n",
       "        }}\n",
       "}});\n",
       "\n",
       "// Listen for the removal of the full notebook cells\n",
       "var notebookContainer = gd.closest('#notebook-container');\n",
       "if (notebookContainer) {{\n",
       "    x.observe(notebookContainer, {childList: true});\n",
       "}}\n",
       "\n",
       "// Listen for the clearing of the current output cell\n",
       "var outputEl = gd.closest('.output');\n",
       "if (outputEl) {{\n",
       "    x.observe(outputEl, {childList: true});\n",
       "}}\n",
       "\n",
       "                        })                };                });            </script>        </div>"
      ]
     },
     "metadata": {},
     "output_type": "display_data"
    },
    {
     "data": {
      "text/plain": [
       "<networkx.classes.graph.Graph at 0x79f715fe30a0>"
      ]
     },
     "execution_count": 11,
     "metadata": {},
     "output_type": "execute_result"
    }
   ],
   "source": [
    "# Visualizar el complejo simplicial 3D\n",
    "print(\"Visualizing 3D simplicial complex at filtration time 150\")\n",
    "visualize_simplicial_complex(simplex_tree, 40, vertex_names=labels)"
   ]
  },
  {
   "cell_type": "code",
   "execution_count": null,
   "id": "6ab1a2f2",
   "metadata": {},
   "outputs": [],
   "source": []
  },
  {
   "cell_type": "code",
   "execution_count": null,
   "id": "090839ed",
   "metadata": {},
   "outputs": [],
   "source": []
  }
 ],
 "metadata": {
  "kernelspec": {
   "display_name": "Python 3 (ipykernel)",
   "language": "python",
   "name": "python3"
  },
  "language_info": {
   "codemirror_mode": {
    "name": "ipython",
    "version": 3
   },
   "file_extension": ".py",
   "mimetype": "text/x-python",
   "name": "python",
   "nbconvert_exporter": "python",
   "pygments_lexer": "ipython3",
   "version": "3.9.7"
  }
 },
 "nbformat": 4,
 "nbformat_minor": 5
}
